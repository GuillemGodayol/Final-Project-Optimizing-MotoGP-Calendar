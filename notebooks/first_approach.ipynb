{
 "cells": [
  {
   "cell_type": "markdown",
   "metadata": {},
   "source": [
    "# Santa's Workshop Tour 2019"
   ]
  },
  {
   "cell_type": "markdown",
   "metadata": {},
   "source": [
    "## an optimization problem"
   ]
  },
  {
   "cell_type": "markdown",
   "metadata": {},
   "source": [
    "# Rules"
   ]
  },
  {
   "cell_type": "markdown",
   "metadata": {},
   "source": [
    "#### 1. Number of people each day between 125 and 300. Not families!"
   ]
  },
  {
   "cell_type": "markdown",
   "metadata": {},
   "source": [
    "#### 2. Not assigning choice_0 to the families has a variable cost. It is called 'preference cost'"
   ]
  },
  {
   "cell_type": "markdown",
   "metadata": {},
   "source": [
    "#### 3. There is other cost to take into account with its specific formula. It is called 'accounting penalty'"
   ]
  },
  {
   "cell_type": "markdown",
   "metadata": {},
   "source": [
    "#### 4. The score is the sum of the 2 costs. Score = preference cost + accounting penalty. It's the value to optimize"
   ]
  },
  {
   "cell_type": "code",
   "execution_count": 218,
   "metadata": {},
   "outputs": [],
   "source": [
    "# Libraries\n",
    "import pandas as pd\n",
    "import numpy as np"
   ]
  },
  {
   "cell_type": "code",
   "execution_count": 134,
   "metadata": {},
   "outputs": [],
   "source": [
    "# reading the files\n",
    "families = pd.read_csv('./data/family_data.csv', index_col = 0)\n",
    "submission = pd.read_csv('./data/sample_submission.csv', index_col = 0)"
   ]
  },
  {
   "cell_type": "code",
   "execution_count": 135,
   "metadata": {},
   "outputs": [
    {
     "data": {
      "text/html": [
       "<div>\n",
       "<style scoped>\n",
       "    .dataframe tbody tr th:only-of-type {\n",
       "        vertical-align: middle;\n",
       "    }\n",
       "\n",
       "    .dataframe tbody tr th {\n",
       "        vertical-align: top;\n",
       "    }\n",
       "\n",
       "    .dataframe thead th {\n",
       "        text-align: right;\n",
       "    }\n",
       "</style>\n",
       "<table border=\"1\" class=\"dataframe\">\n",
       "  <thead>\n",
       "    <tr style=\"text-align: right;\">\n",
       "      <th></th>\n",
       "      <th>choice_0</th>\n",
       "      <th>choice_1</th>\n",
       "      <th>choice_2</th>\n",
       "      <th>choice_3</th>\n",
       "      <th>choice_4</th>\n",
       "      <th>choice_5</th>\n",
       "      <th>choice_6</th>\n",
       "      <th>choice_7</th>\n",
       "      <th>choice_8</th>\n",
       "      <th>choice_9</th>\n",
       "      <th>n_people</th>\n",
       "    </tr>\n",
       "    <tr>\n",
       "      <th>family_id</th>\n",
       "      <th></th>\n",
       "      <th></th>\n",
       "      <th></th>\n",
       "      <th></th>\n",
       "      <th></th>\n",
       "      <th></th>\n",
       "      <th></th>\n",
       "      <th></th>\n",
       "      <th></th>\n",
       "      <th></th>\n",
       "      <th></th>\n",
       "    </tr>\n",
       "  </thead>\n",
       "  <tbody>\n",
       "    <tr>\n",
       "      <th>0</th>\n",
       "      <td>52</td>\n",
       "      <td>38</td>\n",
       "      <td>12</td>\n",
       "      <td>82</td>\n",
       "      <td>33</td>\n",
       "      <td>75</td>\n",
       "      <td>64</td>\n",
       "      <td>76</td>\n",
       "      <td>10</td>\n",
       "      <td>28</td>\n",
       "      <td>4</td>\n",
       "    </tr>\n",
       "    <tr>\n",
       "      <th>1</th>\n",
       "      <td>26</td>\n",
       "      <td>4</td>\n",
       "      <td>82</td>\n",
       "      <td>5</td>\n",
       "      <td>11</td>\n",
       "      <td>47</td>\n",
       "      <td>38</td>\n",
       "      <td>6</td>\n",
       "      <td>66</td>\n",
       "      <td>61</td>\n",
       "      <td>4</td>\n",
       "    </tr>\n",
       "    <tr>\n",
       "      <th>2</th>\n",
       "      <td>100</td>\n",
       "      <td>54</td>\n",
       "      <td>25</td>\n",
       "      <td>12</td>\n",
       "      <td>27</td>\n",
       "      <td>82</td>\n",
       "      <td>10</td>\n",
       "      <td>89</td>\n",
       "      <td>80</td>\n",
       "      <td>33</td>\n",
       "      <td>3</td>\n",
       "    </tr>\n",
       "    <tr>\n",
       "      <th>3</th>\n",
       "      <td>2</td>\n",
       "      <td>95</td>\n",
       "      <td>1</td>\n",
       "      <td>96</td>\n",
       "      <td>32</td>\n",
       "      <td>6</td>\n",
       "      <td>40</td>\n",
       "      <td>31</td>\n",
       "      <td>9</td>\n",
       "      <td>59</td>\n",
       "      <td>2</td>\n",
       "    </tr>\n",
       "    <tr>\n",
       "      <th>4</th>\n",
       "      <td>53</td>\n",
       "      <td>1</td>\n",
       "      <td>47</td>\n",
       "      <td>93</td>\n",
       "      <td>26</td>\n",
       "      <td>3</td>\n",
       "      <td>46</td>\n",
       "      <td>16</td>\n",
       "      <td>42</td>\n",
       "      <td>39</td>\n",
       "      <td>4</td>\n",
       "    </tr>\n",
       "  </tbody>\n",
       "</table>\n",
       "</div>"
      ],
      "text/plain": [
       "           choice_0  choice_1  choice_2  choice_3  choice_4  choice_5  \\\n",
       "family_id                                                               \n",
       "0                52        38        12        82        33        75   \n",
       "1                26         4        82         5        11        47   \n",
       "2               100        54        25        12        27        82   \n",
       "3                 2        95         1        96        32         6   \n",
       "4                53         1        47        93        26         3   \n",
       "\n",
       "           choice_6  choice_7  choice_8  choice_9  n_people  \n",
       "family_id                                                    \n",
       "0                64        76        10        28         4  \n",
       "1                38         6        66        61         4  \n",
       "2                10        89        80        33         3  \n",
       "3                40        31         9        59         2  \n",
       "4                46        16        42        39         4  "
      ]
     },
     "execution_count": 135,
     "metadata": {},
     "output_type": "execute_result"
    }
   ],
   "source": [
    "families.head()"
   ]
  },
  {
   "cell_type": "code",
   "execution_count": 136,
   "metadata": {},
   "outputs": [
    {
     "data": {
      "text/plain": [
       "choice_0    0\n",
       "choice_1    0\n",
       "choice_2    0\n",
       "choice_3    0\n",
       "choice_4    0\n",
       "choice_5    0\n",
       "choice_6    0\n",
       "choice_7    0\n",
       "choice_8    0\n",
       "choice_9    0\n",
       "n_people    0\n",
       "dtype: int64"
      ]
     },
     "execution_count": 136,
     "metadata": {},
     "output_type": "execute_result"
    }
   ],
   "source": [
    "families.isnull().sum()"
   ]
  },
  {
   "cell_type": "code",
   "execution_count": 137,
   "metadata": {},
   "outputs": [
    {
     "data": {
      "text/plain": [
       "(5000, 11)"
      ]
     },
     "execution_count": 137,
     "metadata": {},
     "output_type": "execute_result"
    }
   ],
   "source": [
    "families.shape"
   ]
  },
  {
   "cell_type": "code",
   "execution_count": 138,
   "metadata": {},
   "outputs": [
    {
     "data": {
      "text/html": [
       "<div>\n",
       "<style scoped>\n",
       "    .dataframe tbody tr th:only-of-type {\n",
       "        vertical-align: middle;\n",
       "    }\n",
       "\n",
       "    .dataframe tbody tr th {\n",
       "        vertical-align: top;\n",
       "    }\n",
       "\n",
       "    .dataframe thead th {\n",
       "        text-align: right;\n",
       "    }\n",
       "</style>\n",
       "<table border=\"1\" class=\"dataframe\">\n",
       "  <thead>\n",
       "    <tr style=\"text-align: right;\">\n",
       "      <th></th>\n",
       "      <th>assigned_day</th>\n",
       "    </tr>\n",
       "    <tr>\n",
       "      <th>family_id</th>\n",
       "      <th></th>\n",
       "    </tr>\n",
       "  </thead>\n",
       "  <tbody>\n",
       "    <tr>\n",
       "      <th>0</th>\n",
       "      <td>100</td>\n",
       "    </tr>\n",
       "    <tr>\n",
       "      <th>1</th>\n",
       "      <td>99</td>\n",
       "    </tr>\n",
       "    <tr>\n",
       "      <th>2</th>\n",
       "      <td>98</td>\n",
       "    </tr>\n",
       "    <tr>\n",
       "      <th>3</th>\n",
       "      <td>97</td>\n",
       "    </tr>\n",
       "    <tr>\n",
       "      <th>4</th>\n",
       "      <td>96</td>\n",
       "    </tr>\n",
       "    <tr>\n",
       "      <th>...</th>\n",
       "      <td>...</td>\n",
       "    </tr>\n",
       "    <tr>\n",
       "      <th>4995</th>\n",
       "      <td>5</td>\n",
       "    </tr>\n",
       "    <tr>\n",
       "      <th>4996</th>\n",
       "      <td>4</td>\n",
       "    </tr>\n",
       "    <tr>\n",
       "      <th>4997</th>\n",
       "      <td>3</td>\n",
       "    </tr>\n",
       "    <tr>\n",
       "      <th>4998</th>\n",
       "      <td>2</td>\n",
       "    </tr>\n",
       "    <tr>\n",
       "      <th>4999</th>\n",
       "      <td>1</td>\n",
       "    </tr>\n",
       "  </tbody>\n",
       "</table>\n",
       "<p>5000 rows × 1 columns</p>\n",
       "</div>"
      ],
      "text/plain": [
       "           assigned_day\n",
       "family_id              \n",
       "0                   100\n",
       "1                    99\n",
       "2                    98\n",
       "3                    97\n",
       "4                    96\n",
       "...                 ...\n",
       "4995                  5\n",
       "4996                  4\n",
       "4997                  3\n",
       "4998                  2\n",
       "4999                  1\n",
       "\n",
       "[5000 rows x 1 columns]"
      ]
     },
     "execution_count": 138,
     "metadata": {},
     "output_type": "execute_result"
    }
   ],
   "source": [
    "submission"
   ]
  },
  {
   "cell_type": "code",
   "execution_count": 139,
   "metadata": {},
   "outputs": [],
   "source": [
    "# in order to work on just 1 dataframe, I will join both families and submission. After\n",
    "# finding a solution, I will update the submission dataframe.\n",
    "\n",
    "famsub = families.join(submission, on = 'family_id')"
   ]
  },
  {
   "cell_type": "code",
   "execution_count": 255,
   "metadata": {},
   "outputs": [],
   "source": [
    "family_size_dict = famsub[['n_people']].to_dict()['n_people']\n",
    "\n",
    "columns = [f'choice_{i}' for i in range(10)]\n",
    "choice_dict = famsub[columns].to_dict()\n",
    "\n",
    "N_DAYS = 100\n",
    "MAX_OCCUPANCY = 300\n",
    "MIN_OCCUPANCY = 125\n",
    "\n",
    "# from 100 to 1\n",
    "days = list(range(N_DAYS,0,-1))"
   ]
  },
  {
   "cell_type": "code",
   "execution_count": null,
   "metadata": {},
   "outputs": [],
   "source": [
    "def scoring(column):\n",
    "    penalty = 0\n",
    "\n",
    "    # We'll use this to count the number of people scheduled each day\n",
    "    daily_occupancy = {k:0 for k in days}\n",
    "    \n",
    "    # Looping over each family; d is the day for each family f\n",
    "    for f, d in enumerate(column):\n",
    "        # Using our lookup dictionaries to make simpler variable names\n",
    "        n = family_size_dict[f]\n",
    "        choice_0 = choice_dict['choice_0'][f]\n",
    "        choice_1 = choice_dict['choice_1'][f]\n",
    "        choice_2 = choice_dict['choice_2'][f]\n",
    "        choice_3 = choice_dict['choice_3'][f]\n",
    "        choice_4 = choice_dict['choice_4'][f]\n",
    "        choice_5 = choice_dict['choice_5'][f]\n",
    "        choice_6 = choice_dict['choice_6'][f]\n",
    "        choice_7 = choice_dict['choice_7'][f]\n",
    "        choice_8 = choice_dict['choice_8'][f]\n",
    "        choice_9 = choice_dict['choice_9'][f]\n",
    "    \n",
    "        # checking the daily occupancy\n",
    "        if daily_occupancy[d] + n > 300:\n",
    "            break\n",
    "        else:\n",
    "            daily_occupancy[d] += n\n",
    "            \n",
    "        "
   ]
  },
  {
   "cell_type": "code",
   "execution_count": null,
   "metadata": {},
   "outputs": [],
   "source": []
  },
  {
   "cell_type": "code",
   "execution_count": null,
   "metadata": {},
   "outputs": [],
   "source": []
  },
  {
   "cell_type": "code",
   "execution_count": null,
   "metadata": {},
   "outputs": [],
   "source": []
  },
  {
   "cell_type": "code",
   "execution_count": null,
   "metadata": {},
   "outputs": [],
   "source": []
  },
  {
   "cell_type": "code",
   "execution_count": null,
   "metadata": {},
   "outputs": [],
   "source": []
  },
  {
   "cell_type": "code",
   "execution_count": null,
   "metadata": {},
   "outputs": [],
   "source": []
  },
  {
   "cell_type": "code",
   "execution_count": null,
   "metadata": {},
   "outputs": [],
   "source": []
  },
  {
   "cell_type": "code",
   "execution_count": null,
   "metadata": {},
   "outputs": [],
   "source": []
  },
  {
   "cell_type": "code",
   "execution_count": null,
   "metadata": {},
   "outputs": [],
   "source": []
  },
  {
   "cell_type": "code",
   "execution_count": null,
   "metadata": {},
   "outputs": [],
   "source": []
  },
  {
   "cell_type": "code",
   "execution_count": null,
   "metadata": {},
   "outputs": [],
   "source": []
  },
  {
   "cell_type": "code",
   "execution_count": null,
   "metadata": {},
   "outputs": [],
   "source": []
  },
  {
   "cell_type": "code",
   "execution_count": null,
   "metadata": {},
   "outputs": [],
   "source": []
  },
  {
   "cell_type": "code",
   "execution_count": null,
   "metadata": {},
   "outputs": [],
   "source": []
  },
  {
   "cell_type": "code",
   "execution_count": 221,
   "metadata": {},
   "outputs": [],
   "source": [
    "def accounting_penalty(column):\n",
    "\n",
    "    n1 = famsub.loc[df['assigned_day'] == 100]['n_people'].sum()\n",
    "    penalty = 0\n",
    "    \n",
    "    for day in reversed(range (1, 101)):\n",
    "        n0 = df.loc[df['assigned_day'] == day]['n_people'].sum()\n",
    "        \n",
    "        exp = 0.5 + abs(n0 - n1)/50\n",
    "        result = (n0 - 125) / 400 * n0**exp\n",
    "        \n",
    "        penalty += result\n",
    "        n1 = n0\n",
    "        \n",
    "    return penalty\n",
    "\n",
    "# to include in the function: check the length of the dataframe\n",
    "# check other possible errors \n",
    "# think about more understandable names for variables\n"
   ]
  },
  {
   "cell_type": "code",
   "execution_count": 222,
   "metadata": {},
   "outputs": [],
   "source": [
    "def preference_cost(row):\n",
    " \n",
    "    people = row['n_people']\n",
    "\n",
    "    gifts = {0 : 0, \n",
    "             1 : 50, \n",
    "             2 : 50 + 9*people,\n",
    "             3 : 100 + 9*people,\n",
    "             4 : 200 + 9*people,\n",
    "             5 : 200 + 18*people,\n",
    "             6 : 300 + 18*people,\n",
    "             7 : 300 + 36*people,\n",
    "             8 : 400 + 36*people,\n",
    "             9 : 500 + 36*people + 199*people\n",
    "            }\n",
    "    \n",
    "    other_gift = 500 + 36*people + 398*people\n",
    "    \n",
    "    for i in range(10):\n",
    "        if row[i] == row['assigned_day']:\n",
    "            return gifts[i]\n",
    "        else:\n",
    "            pass\n",
    "        return other_gift\n",
    "        \n",
    "# check other possible errors "
   ]
  },
  {
   "cell_type": "code",
   "execution_count": 236,
   "metadata": {},
   "outputs": [],
   "source": [
    "def score(column):\n",
    "       \n",
    "    # first we need to calculate the daily occupancy to get sure it fits the rules.\n",
    "    daily_occ = {el:0 for el in reversed(range (1, 101))}\n",
    "    \n",
    "    for day in reversed(range (1, 101)):\n",
    "        daily_occ = df.loc[df['assigned_day'] == day]['n_people'].sum()\n",
    "        if 125 <= daily_occ <= 300: \n",
    "            pass\n",
    "        else:\n",
    "            print('Some assignments are out of range (125-300). Try it again')\n",
    "            return np.NaN\n",
    "            break\n",
    "            \n",
    "    \n",
    "    # second step is to calculate the gift cost.\n",
    "    gift_cost = pd.DataFrame(df).apply(lambda x: preference_cost(x), axis = 1).sum()\n",
    "    \n",
    "    # third step is to calculate the accounting penalty.\n",
    "    penalty = accounting_penalty(df)\n",
    "    \n",
    "    return gift_cost + penalty"
   ]
  },
  {
   "cell_type": "code",
   "execution_count": 242,
   "metadata": {},
   "outputs": [
    {
     "data": {
      "text/plain": [
       "Index(['choice_0', 'choice_1', 'choice_2', 'choice_3', 'choice_4', 'choice_5',\n",
       "       'choice_6', 'choice_7', 'choice_8', 'choice_9', 'n_people',\n",
       "       'assigned_day'],\n",
       "      dtype='object')"
      ]
     },
     "execution_count": 242,
     "metadata": {},
     "output_type": "execute_result"
    }
   ],
   "source": [
    "famsub.columns"
   ]
  },
  {
   "cell_type": "code",
   "execution_count": 237,
   "metadata": {
    "scrolled": true
   },
   "outputs": [
    {
     "data": {
      "text/plain": [
       "0"
      ]
     },
     "execution_count": 237,
     "metadata": {},
     "output_type": "execute_result"
    }
   ],
   "source": [
    "famsub.apply(lambda x: preference_cost(x), axis = 1).sum()"
   ]
  },
  {
   "cell_type": "code",
   "execution_count": 238,
   "metadata": {},
   "outputs": [
    {
     "name": "stdout",
     "output_type": "stream",
     "text": [
      "Some assignments are out of range (125-300). Try it again\n"
     ]
    },
    {
     "data": {
      "text/plain": [
       "nan"
      ]
     },
     "execution_count": 238,
     "metadata": {},
     "output_type": "execute_result"
    }
   ],
   "source": [
    "score(famsub)"
   ]
  },
  {
   "cell_type": "code",
   "execution_count": 244,
   "metadata": {},
   "outputs": [],
   "source": [
    "daily_occ = {el:0 for el in reversed(range (1, 101))}"
   ]
  },
  {
   "cell_type": "code",
   "execution_count": null,
   "metadata": {},
   "outputs": [],
   "source": [
    "# Start with the sample submission values\n",
    "best = submission['assigned_day'].tolist()\n",
    "start_score = cost_function(best)\n",
    "\n",
    "new = best.copy()\n",
    "# loop over each family\n",
    "for fam_id, _ in enumerate(best):\n",
    "    # loop over each family choice\n",
    "    for pick in range(10):\n",
    "        day = choice_dict[f'choice_{pick}'][fam_id]\n",
    "        temp = new.copy()\n",
    "        temp[fam_id] = day # add in the new pick\n",
    "        if cost_function(temp) < start_score:\n",
    "            new = temp.copy()\n",
    "            start_score = cost_function(new)\n",
    "\n",
    "submission['assigned_day'] = new\n",
    "score = cost_function(new)\n",
    "# submission.to_csv(f'submission_{score}.csv')\n",
    "print(f'Score: {score}')"
   ]
  }
 ],
 "metadata": {
  "kernelspec": {
   "display_name": "Python 3",
   "language": "python",
   "name": "python3"
  },
  "language_info": {
   "codemirror_mode": {
    "name": "ipython",
    "version": 3
   },
   "file_extension": ".py",
   "mimetype": "text/x-python",
   "name": "python",
   "nbconvert_exporter": "python",
   "pygments_lexer": "ipython3",
   "version": "3.7.4"
  }
 },
 "nbformat": 4,
 "nbformat_minor": 2
}
