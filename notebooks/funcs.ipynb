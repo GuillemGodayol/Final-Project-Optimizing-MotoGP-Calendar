{
 "cells": [
  {
   "cell_type": "code",
   "execution_count": 1,
   "metadata": {},
   "outputs": [],
   "source": [
    "import math\n",
    "\n",
    "def best_route(dist_list):\n",
    "    # Initialize fitness function object using coords_sub0\n",
    "    fitness_coords = mlrose.TravellingSales(distances = dist_list)\n",
    "    \n",
    "    # Calculating the number of circuits depending on the number of distances in list\n",
    "    # The num of distances is equal to n * (n-1) / 2, being n the number of circuits.\n",
    "    # we want to find n having the num of distances, this is a quadratic function:\n",
    "    # x**2 - x - 2y = 0, being x = n and y = num of distances.\n",
    "    # Solving the equation with math library:\n",
    "    \n",
    "    a = 1\n",
    "    b = -1\n",
    "    c = -2*len(dist_list)\n",
    "    # calculate the discriminant\n",
    "    d = (b**2) - (4*a*c)\n",
    "    # find two solutions\n",
    "    sol1 = (-b-math.sqrt(d))/(2*a)\n",
    "    sol2 = (-b+math.sqrt(d))/(2*a)\n",
    "    \n",
    "    # assigning the positive solution to length, needed for the algorithm\n",
    "    length = max(sol1, sol2)\n",
    "    \n",
    "    # Define optimization problem object\n",
    "    problem_fit = mlrose.TSPOpt(length = length, fitness_fn = fitness_coords, \n",
    "                                maximize = False)\n",
    "    \n",
    "    # Solve using genetic algorithm - attempt 1\n",
    "    best_state1, best_fitness1 = mlrose.genetic_alg(problem_fit, random_state = 2)\n",
    "    \n",
    "    # Solve using genetic algorithm - attempt 2\n",
    "    best_state2, best_fitness2 = mlrose.genetic_alg(problem_fit, mutation_prob = 0.2, \n",
    "                                                  max_attempts = 100, random_state = 2)\n",
    "    \n",
    "    if best_fitness1 < best_fitness2:\n",
    "        return best_state1, best_fitness1\n",
    "    else:\n",
    "        return best_state2, best_fitness2"
   ]
  },
  {
   "cell_type": "code",
   "execution_count": null,
   "metadata": {},
   "outputs": [],
   "source": [
    "# calculating and appending the total distance:\n",
    "first = subcluster0.loc[subcluster0['Circuit'] == best_route0[0]].index[0]\n",
    "last = subcluster0.loc[subcluster0['Circuit'] == best_route0[-1]].index[0]\n",
    "last_stage = 0\n",
    "\n",
    "for el in dist_list:\n",
    "    if el[0] == first and el[1] == last:\n",
    "        last_stage = el[2]\n",
    "    elif el[0] == last and el[1] == first:\n",
    "        last_stage = el[2]\n",
    "\n",
    "route = best_fitness - last_stage"
   ]
  }
 ],
 "metadata": {
  "kernelspec": {
   "display_name": "Python 3",
   "language": "python",
   "name": "python3"
  },
  "language_info": {
   "codemirror_mode": {
    "name": "ipython",
    "version": 3
   },
   "file_extension": ".py",
   "mimetype": "text/x-python",
   "name": "python",
   "nbconvert_exporter": "python",
   "pygments_lexer": "ipython3",
   "version": "3.7.4"
  }
 },
 "nbformat": 4,
 "nbformat_minor": 2
}
