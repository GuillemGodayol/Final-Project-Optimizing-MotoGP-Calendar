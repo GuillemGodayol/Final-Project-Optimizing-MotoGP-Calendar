{
 "cells": [
  {
   "cell_type": "code",
   "execution_count": 1,
   "metadata": {},
   "outputs": [],
   "source": [
    "import math\n",
    "\n",
    "def best_route(dist_list):\n",
    "    # Initialize fitness function object using coords_sub0\n",
    "    fitness_coords = mlrose.TravellingSales(distances = dist_list)\n",
    "    \n",
    "    # Calculating the number of circuits depending on the number of distances in list\n",
    "    # The num of distances is equal to n * (n-1) / 2, being n the number of circuits.\n",
    "    # we want to find n having the num of distances, this is a quadratic function:\n",
    "    # x**2 - x - 2y = 0, being x = n and y = num of distances.\n",
    "    # Solving the equation with math library:\n",
    "    \n",
    "    a = 1\n",
    "    b = -1\n",
    "    c = -2*len(dist_list)\n",
    "    # calculate the discriminant\n",
    "    d = (b**2) - (4*a*c)\n",
    "    # find two solutions\n",
    "    sol1 = (-b-math.sqrt(d))/(2*a)\n",
    "    sol2 = (-b+math.sqrt(d))/(2*a)\n",
    "    \n",
    "    # assigning the positive solution to length, needed for the algorithm\n",
    "    length = max(sol1, sol2)\n",
    "    \n",
    "    # Define optimization problem object\n",
    "    problem_fit = mlrose.TSPOpt(length = length, fitness_fn = fitness_coords, \n",
    "                                maximize = False)\n",
    "    \n",
    "    # Solve using genetic algorithm - attempt 1\n",
    "    best_state1, best_fitness1 = mlrose.genetic_alg(problem_fit, random_state = 2)\n",
    "    \n",
    "    # Solve using genetic algorithm - attempt 2\n",
    "    best_state2, best_fitness2 = mlrose.genetic_alg(problem_fit, mutation_prob = 0.2, \n",
    "                                                  max_attempts = 100, random_state = 2)\n",
    "    \n",
    "    if best_fitness1 < best_fitness2:\n",
    "        return best_state1, best_fitness1\n",
    "    else:\n",
    "        return best_state2, best_fitness2"
   ]
  },
  {
   "cell_type": "code",
   "execution_count": 3,
   "metadata": {},
   "outputs": [
    {
     "name": "stdout",
     "output_type": "stream",
     "text": [
      "The solution are -4.0 and 5.0\n"
     ]
    }
   ],
   "source": [
    "# Solve the quadratic equation ax**2 + bx + c = 0\n",
    "# import complex math module\n",
    "import cmath\n",
    "a = 1\n",
    "b = -1\n",
    "c = -20\n",
    "# calculate the discriminant\n",
    "d = (b**2) - (4*a*c)\n",
    "# find two solutions\n",
    "sol1 = (-b-math.sqrt(d))/(2*a)\n",
    "sol2 = (-b+math.sqrt(d))/(2*a)\n",
    "print('The solution are {0} and {1}'.format(sol1,sol2))"
   ]
  },
  {
   "cell_type": "code",
   "execution_count": 4,
   "metadata": {},
   "outputs": [
    {
     "data": {
      "text/plain": [
       "5.0"
      ]
     },
     "execution_count": 4,
     "metadata": {},
     "output_type": "execute_result"
    }
   ],
   "source": [
    "max(sol1, sol2)"
   ]
  },
  {
   "cell_type": "code",
   "execution_count": 5,
   "metadata": {},
   "outputs": [],
   "source": [
    "dist_list = [(0, 1, 753.2093789744465),\n",
    " (0, 2, 697.4292716963196),\n",
    " (0, 3, 445.163498201435),\n",
    " (0, 4, 105.31854933139327),\n",
    " (1, 2, 331.6271130393199),\n",
    " (1, 3, 424.56157676462203),\n",
    " (1, 4, 752.9087233093135),\n",
    " (2, 3, 254.10488703569786),\n",
    " (2, 4, 650.6950903273602),\n",
    " (3, 4, 396.99937821188894)]"
   ]
  },
  {
   "cell_type": "code",
   "execution_count": null,
   "metadata": {},
   "outputs": [],
   "source": []
  }
 ],
 "metadata": {
  "kernelspec": {
   "display_name": "Python 3",
   "language": "python",
   "name": "python3"
  },
  "language_info": {
   "codemirror_mode": {
    "name": "ipython",
    "version": 3
   },
   "file_extension": ".py",
   "mimetype": "text/x-python",
   "name": "python",
   "nbconvert_exporter": "python",
   "pygments_lexer": "ipython3",
   "version": "3.7.4"
  }
 },
 "nbformat": 4,
 "nbformat_minor": 2
}
