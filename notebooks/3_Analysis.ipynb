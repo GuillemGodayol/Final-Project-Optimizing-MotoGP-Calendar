{
 "cells": [
  {
   "cell_type": "code",
   "execution_count": 181,
   "metadata": {},
   "outputs": [],
   "source": [
    "import pandas as pd\n",
    "from geopy import distance"
   ]
  },
  {
   "cell_type": "markdown",
   "metadata": {},
   "source": [
    "# ANALYSIS"
   ]
  },
  {
   "cell_type": "code",
   "execution_count": 182,
   "metadata": {},
   "outputs": [
    {
     "data": {
      "text/plain": [
       "'\\nTravelling Salesman Problem has (n-1)! / 2 solutions. For 20 races, that means 6,08e+16\\nsolutions.\\n\\nFirst approach: clustering. Max number of points up to 6, and then minimize distances \\nbetween\\n'"
      ]
     },
     "execution_count": 182,
     "metadata": {},
     "output_type": "execute_result"
    }
   ],
   "source": [
    "\"\"\"\n",
    "Travelling Salesman Problem has (n-1)! / 2 solutions. For 20 races, that means 6,08e+16\n",
    "solutions.\n",
    "\n",
    "First approach: clustering. Max number of points up to 6, and then minimize distances \n",
    "between\n",
    "\"\"\""
   ]
  },
  {
   "cell_type": "markdown",
   "metadata": {},
   "source": [
    "## The current calendar"
   ]
  },
  {
   "cell_type": "code",
   "execution_count": 183,
   "metadata": {},
   "outputs": [],
   "source": [
    "circuits = pd.read_csv('../data/races_cleaned.csv', index_col = 0)"
   ]
  },
  {
   "cell_type": "code",
   "execution_count": 184,
   "metadata": {},
   "outputs": [
    {
     "data": {
      "text/html": [
       "<div>\n",
       "<style scoped>\n",
       "    .dataframe tbody tr th:only-of-type {\n",
       "        vertical-align: middle;\n",
       "    }\n",
       "\n",
       "    .dataframe tbody tr th {\n",
       "        vertical-align: top;\n",
       "    }\n",
       "\n",
       "    .dataframe thead th {\n",
       "        text-align: right;\n",
       "    }\n",
       "</style>\n",
       "<table border=\"1\" class=\"dataframe\">\n",
       "  <thead>\n",
       "    <tr style=\"text-align: right;\">\n",
       "      <th></th>\n",
       "      <th>Date</th>\n",
       "      <th>Race</th>\n",
       "      <th>Circuit</th>\n",
       "      <th>Country</th>\n",
       "      <th>Latitude</th>\n",
       "      <th>Longitude</th>\n",
       "    </tr>\n",
       "  </thead>\n",
       "  <tbody>\n",
       "    <tr>\n",
       "      <th>0</th>\n",
       "      <td>2020-03-08</td>\n",
       "      <td>Grand Prix of Qatar</td>\n",
       "      <td>Losail International Circuit</td>\n",
       "      <td>QATAR</td>\n",
       "      <td>25.491000</td>\n",
       "      <td>51.452068</td>\n",
       "    </tr>\n",
       "    <tr>\n",
       "      <th>1</th>\n",
       "      <td>2020-03-22</td>\n",
       "      <td>OR Thailand Grand Prix</td>\n",
       "      <td>Chang International Circuit</td>\n",
       "      <td>THAILAND</td>\n",
       "      <td>2.760191</td>\n",
       "      <td>101.736859</td>\n",
       "    </tr>\n",
       "    <tr>\n",
       "      <th>2</th>\n",
       "      <td>2020-04-05</td>\n",
       "      <td>Red Bull Grand Prix of The Americas</td>\n",
       "      <td>Circuit Of The Americas</td>\n",
       "      <td>UNITED STATES</td>\n",
       "      <td>30.138715</td>\n",
       "      <td>-97.636410</td>\n",
       "    </tr>\n",
       "    <tr>\n",
       "      <th>3</th>\n",
       "      <td>2020-04-19</td>\n",
       "      <td>Gran Premio Motul de la República Argentina</td>\n",
       "      <td>Termas de Río Hondo</td>\n",
       "      <td>ARGENTINA</td>\n",
       "      <td>-27.495926</td>\n",
       "      <td>-64.864078</td>\n",
       "    </tr>\n",
       "    <tr>\n",
       "      <th>4</th>\n",
       "      <td>2020-05-03</td>\n",
       "      <td>Gran Premio Red Bull de España</td>\n",
       "      <td>Circuito de Jerez</td>\n",
       "      <td>SPAIN</td>\n",
       "      <td>36.694447</td>\n",
       "      <td>-6.156317</td>\n",
       "    </tr>\n",
       "  </tbody>\n",
       "</table>\n",
       "</div>"
      ],
      "text/plain": [
       "         Date                                          Race  \\\n",
       "0  2020-03-08                           Grand Prix of Qatar   \n",
       "1  2020-03-22                       OR Thailand Grand Prix    \n",
       "2  2020-04-05           Red Bull Grand Prix of The Americas   \n",
       "3  2020-04-19   Gran Premio Motul de la República Argentina   \n",
       "4  2020-05-03                Gran Premio Red Bull de España   \n",
       "\n",
       "                        Circuit        Country   Latitude   Longitude  \n",
       "0  Losail International Circuit          QATAR  25.491000   51.452068  \n",
       "1   Chang International Circuit       THAILAND   2.760191  101.736859  \n",
       "2       Circuit Of The Americas  UNITED STATES  30.138715  -97.636410  \n",
       "3           Termas de Río Hondo      ARGENTINA -27.495926  -64.864078  \n",
       "4             Circuito de Jerez          SPAIN  36.694447   -6.156317  "
      ]
     },
     "execution_count": 184,
     "metadata": {},
     "output_type": "execute_result"
    }
   ],
   "source": [
    "circuits.head()"
   ]
  },
  {
   "cell_type": "code",
   "execution_count": 185,
   "metadata": {},
   "outputs": [],
   "source": [
    "# Now I can calculate the current distance:\n",
    "current_distance = 0\n",
    "\n",
    "for index in circuits.index[1:]:\n",
    "    coord0 = (circuits.loc[index-1, 'Latitude'], circuits.loc[index-1, 'Longitude'])\n",
    "    coord1 = (circuits.loc[index, 'Latitude'], circuits.loc[index, 'Longitude'])\n",
    "    current_distance += round(distance.distance(coord0, coord1).km)"
   ]
  },
  {
   "cell_type": "code",
   "execution_count": 186,
   "metadata": {},
   "outputs": [
    {
     "name": "stdout",
     "output_type": "stream",
     "text": [
      "The current distance for the whole calendar is: 86324 km\n"
     ]
    }
   ],
   "source": [
    "print('The current distance for the whole calendar is:', current_distance, 'km')"
   ]
  },
  {
   "cell_type": "markdown",
   "metadata": {},
   "source": [
    "#### Current distance is more than 86k km. The objective is minimize this distance"
   ]
  },
  {
   "cell_type": "markdown",
   "metadata": {},
   "source": [
    "## First approach. Clustering Circuits\n",
    "\n",
    "I will use Unsupervised Learning algorithms to cluster the circuits, and then optimizing the distance between clusters."
   ]
  },
  {
   "cell_type": "markdown",
   "metadata": {},
   "source": [
    "### Clustering with DBSCAN\n",
    "The first clustering will be using DBSCAN, as I don't want to force any number of clusters."
   ]
  },
  {
   "cell_type": "code",
   "execution_count": 187,
   "metadata": {},
   "outputs": [],
   "source": [
    "# first of all I need to create a list of lists with the coordinates:\n",
    "coordinates = []\n",
    "for index in circuits.index:\n",
    "    coord_list = [circuits.loc[index,'Latitude'], circuits.loc[index,'Longitude']]\n",
    "    coordinates.append(coord_list)"
   ]
  },
  {
   "cell_type": "code",
   "execution_count": 188,
   "metadata": {},
   "outputs": [],
   "source": [
    "# As the latitude goes from -90º to 90º and the longitude from -180º to 180º, first of\n",
    "# all I will scale the coordinates to give them the same weight.\n",
    "\n",
    "from sklearn.preprocessing import StandardScaler\n",
    "\n",
    "scaler = StandardScaler()\n",
    "coord_scale = scaler.fit_transform(coordinates)"
   ]
  },
  {
   "cell_type": "code",
   "execution_count": 189,
   "metadata": {},
   "outputs": [
    {
     "data": {
      "text/plain": [
       "array([[-0.24846584,  0.47539751],\n",
       "       [-1.11898273,  1.33538315],\n",
       "       [-0.07047329, -2.07435859],\n",
       "       [-2.27769475, -1.51387629],\n",
       "       [ 0.18059019, -0.50983846],\n",
       "       [ 0.613838  , -0.4011866 ],\n",
       "       [ 0.46034573, -0.21005766],\n",
       "       [ 0.36728784, -0.3659332 ],\n",
       "       [ 0.7182163 , -0.19119827],\n",
       "       [ 0.80349503, -0.29290789],\n",
       "       [ 1.10686416,  0.04829759],\n",
       "       [ 0.65990494, -0.12320698],\n",
       "       [ 0.58382058, -0.15211336],\n",
       "       [ 0.76949383, -0.42189812],\n",
       "       [ 0.45892218, -0.18762495],\n",
       "       [ 0.3485146 , -0.40808144],\n",
       "       [ 0.17443205,  1.9937042 ],\n",
       "       [-2.69898859,  2.07936847],\n",
       "       [-1.11898273,  1.33538315],\n",
       "       [ 0.2878625 , -0.41525226]])"
      ]
     },
     "execution_count": 189,
     "metadata": {},
     "output_type": "execute_result"
    }
   ],
   "source": [
    "coord_scale"
   ]
  },
  {
   "cell_type": "code",
   "execution_count": 190,
   "metadata": {},
   "outputs": [],
   "source": [
    "from sklearn.cluster import DBSCAN\n",
    "\n",
    "dbscan = DBSCAN(eps=0.5)\n",
    "circuits_dbscan = dbscan.fit(coord_scale)\n",
    "circuits['DBSCAN_Clusters'] = circuits_dbscan.labels_"
   ]
  },
  {
   "cell_type": "code",
   "execution_count": 191,
   "metadata": {},
   "outputs": [
    {
     "data": {
      "text/plain": [
       "DBSCAN_Clusters\n",
       "-1     7\n",
       " 0    13\n",
       "dtype: int64"
      ]
     },
     "execution_count": 191,
     "metadata": {},
     "output_type": "execute_result"
    }
   ],
   "source": [
    "circuits.groupby(['DBSCAN_Clusters']).size()"
   ]
  },
  {
   "cell_type": "markdown",
   "metadata": {},
   "source": [
    "#### There is a cluster with 13 items and 7 outliers"
   ]
  },
  {
   "cell_type": "code",
   "execution_count": 192,
   "metadata": {},
   "outputs": [
    {
     "data": {
      "text/plain": [
       "DBSCAN_Clusters  Country       \n",
       "-1               ARGENTINA         1\n",
       "                 AUSTRALIA         1\n",
       "                 JAPAN             1\n",
       "                 MALAYSIA          1\n",
       "                 QATAR             1\n",
       "                 THAILAND          1\n",
       "                 UNITED STATES     1\n",
       " 0               AUSTRIA           1\n",
       "                 CZECH REPUBLIC    1\n",
       "                 FINLAND           1\n",
       "                 FRANCE            1\n",
       "                 GERMANY           1\n",
       "                 GREAT BRITAIN     1\n",
       "                 ITALY             2\n",
       "                 NETHERLANDS       1\n",
       "                 SPAIN             4\n",
       "dtype: int64"
      ]
     },
     "execution_count": 192,
     "metadata": {},
     "output_type": "execute_result"
    }
   ],
   "source": [
    "circuits.groupby(['DBSCAN_Clusters', 'Country']).size()"
   ]
  },
  {
   "cell_type": "markdown",
   "metadata": {},
   "source": [
    "#### The distribuiton makes sense, as the outliers are far from each other while the items in the cluster are pretty close."
   ]
  },
  {
   "cell_type": "markdown",
   "metadata": {},
   "source": [
    "### Clustering with KMeans\n",
    "In order to small calculations of distances, I will split the cluster with 13 items into several clusters of max 5 items each. This will simplify the optimizing calculation for the routes between the circuits into the cluster."
   ]
  },
  {
   "cell_type": "code",
   "execution_count": 193,
   "metadata": {},
   "outputs": [],
   "source": [
    "# creating the coordinates for circuits in cluster\n",
    "\n",
    "cluster_coord = []\n",
    "for index in circuits.query('DBSCAN_Clusters == 0').index:\n",
    "    coord_list = [circuits.loc[index,'Latitude'], circuits.loc[index,'Longitude']]\n",
    "    cluster_coord.append(coord_list)"
   ]
  },
  {
   "cell_type": "code",
   "execution_count": 194,
   "metadata": {},
   "outputs": [
    {
     "data": {
      "text/plain": [
       "[[36.69444715, -6.15631689958845],\n",
       " [48.00734979999999, 0.1967379],\n",
       " [43.99938220000001, 11.3723647068196],\n",
       " [41.56946855, 2.25806310666666],\n",
       " [50.7328604, 12.4751047884026],\n",
       " [52.95964605, 6.5279741969904395],\n",
       " [60.88117595, 26.478826152075502],\n",
       " [49.2102429, 16.4506683],\n",
       " [47.223539200000005, 14.7604645],\n",
       " [52.071811600000004, -1.01429912415686],\n",
       " [43.9622107, 12.6840429850135],\n",
       " [41.07926445, -0.206414553372675],\n",
       " [39.4955257, -0.6257045]]"
      ]
     },
     "execution_count": 194,
     "metadata": {},
     "output_type": "execute_result"
    }
   ],
   "source": [
    "cluster_coord"
   ]
  },
  {
   "cell_type": "code",
   "execution_count": 195,
   "metadata": {},
   "outputs": [
    {
     "data": {
      "text/plain": [
       "array([2, 3, 0, 2, 0, 3, 1, 0, 0, 3, 0, 2, 2], dtype=int32)"
      ]
     },
     "execution_count": 195,
     "metadata": {},
     "output_type": "execute_result"
    }
   ],
   "source": [
    "# in order to get a max of 5 items per cluster, I need 4 clusters\n",
    "from sklearn.cluster import KMeans\n",
    "\n",
    "kmeans = KMeans(n_clusters=4)\n",
    "circuits_clusters = kmeans.fit(cluster_coord)\n",
    "circuits_clusters.labels_"
   ]
  },
  {
   "cell_type": "code",
   "execution_count": 196,
   "metadata": {},
   "outputs": [],
   "source": [
    "# creating a new column to write the code of subcluster\n",
    "circuits['Subcluster'] = 'None'"
   ]
  },
  {
   "cell_type": "code",
   "execution_count": 207,
   "metadata": {},
   "outputs": [],
   "source": [
    "# creating a list with the index of the row and its subcluster code\n",
    "sub_list = list(zip(circuits.query('DBSCAN_Clusters == 0').index, circuits_clusters.labels_))"
   ]
  },
  {
   "cell_type": "code",
   "execution_count": 208,
   "metadata": {},
   "outputs": [],
   "source": [
    "# updating the subcluster code for the rows in cluster 0\n",
    "for elem in sub_list:\n",
    "    circuits.at[elem[0], 'Subcluster'] = elem[1]"
   ]
  },
  {
   "cell_type": "code",
   "execution_count": 209,
   "metadata": {
    "scrolled": false
   },
   "outputs": [
    {
     "data": {
      "text/html": [
       "<div>\n",
       "<style scoped>\n",
       "    .dataframe tbody tr th:only-of-type {\n",
       "        vertical-align: middle;\n",
       "    }\n",
       "\n",
       "    .dataframe tbody tr th {\n",
       "        vertical-align: top;\n",
       "    }\n",
       "\n",
       "    .dataframe thead th {\n",
       "        text-align: right;\n",
       "    }\n",
       "</style>\n",
       "<table border=\"1\" class=\"dataframe\">\n",
       "  <thead>\n",
       "    <tr style=\"text-align: right;\">\n",
       "      <th></th>\n",
       "      <th>Date</th>\n",
       "      <th>Race</th>\n",
       "      <th>Circuit</th>\n",
       "      <th>Country</th>\n",
       "      <th>Latitude</th>\n",
       "      <th>Longitude</th>\n",
       "      <th>DBSCAN_Clusters</th>\n",
       "      <th>Subcluster</th>\n",
       "    </tr>\n",
       "  </thead>\n",
       "  <tbody>\n",
       "    <tr>\n",
       "      <th>4</th>\n",
       "      <td>2020-05-03</td>\n",
       "      <td>Gran Premio Red Bull de España</td>\n",
       "      <td>Circuito de Jerez</td>\n",
       "      <td>SPAIN</td>\n",
       "      <td>36.694447</td>\n",
       "      <td>-6.156317</td>\n",
       "      <td>0</td>\n",
       "      <td>2</td>\n",
       "    </tr>\n",
       "    <tr>\n",
       "      <th>5</th>\n",
       "      <td>2020-05-17</td>\n",
       "      <td>SHARK Helmets Grand Prix de France</td>\n",
       "      <td>Le Mans</td>\n",
       "      <td>FRANCE</td>\n",
       "      <td>48.007350</td>\n",
       "      <td>0.196738</td>\n",
       "      <td>0</td>\n",
       "      <td>3</td>\n",
       "    </tr>\n",
       "    <tr>\n",
       "      <th>6</th>\n",
       "      <td>2020-05-31</td>\n",
       "      <td>Gran Premio d'Italia Oakley</td>\n",
       "      <td>Autodromo Internazionale del Mugello</td>\n",
       "      <td>ITALY</td>\n",
       "      <td>43.999382</td>\n",
       "      <td>11.372365</td>\n",
       "      <td>0</td>\n",
       "      <td>0</td>\n",
       "    </tr>\n",
       "    <tr>\n",
       "      <th>7</th>\n",
       "      <td>2020-06-07</td>\n",
       "      <td>Gran Premi Monster Energy de Catalunya</td>\n",
       "      <td>Circuit de Barcelona-Catalunya</td>\n",
       "      <td>SPAIN</td>\n",
       "      <td>41.569469</td>\n",
       "      <td>2.258063</td>\n",
       "      <td>0</td>\n",
       "      <td>2</td>\n",
       "    </tr>\n",
       "    <tr>\n",
       "      <th>8</th>\n",
       "      <td>2020-06-21</td>\n",
       "      <td>HJC Helmets Motorrad Grand Prix Deutschland</td>\n",
       "      <td>Sachsenring</td>\n",
       "      <td>GERMANY</td>\n",
       "      <td>50.732860</td>\n",
       "      <td>12.475105</td>\n",
       "      <td>0</td>\n",
       "      <td>0</td>\n",
       "    </tr>\n",
       "    <tr>\n",
       "      <th>9</th>\n",
       "      <td>2020-06-28</td>\n",
       "      <td>Motul TT Assen</td>\n",
       "      <td>TT Circuit Assen</td>\n",
       "      <td>NETHERLANDS</td>\n",
       "      <td>52.959646</td>\n",
       "      <td>6.527974</td>\n",
       "      <td>0</td>\n",
       "      <td>3</td>\n",
       "    </tr>\n",
       "    <tr>\n",
       "      <th>10</th>\n",
       "      <td>2020-07-12</td>\n",
       "      <td>Finland Grand Prix</td>\n",
       "      <td>KymiRing</td>\n",
       "      <td>FINLAND</td>\n",
       "      <td>60.881176</td>\n",
       "      <td>26.478826</td>\n",
       "      <td>0</td>\n",
       "      <td>1</td>\n",
       "    </tr>\n",
       "    <tr>\n",
       "      <th>11</th>\n",
       "      <td>2020-08-09</td>\n",
       "      <td>Monster Energy Grand Prix České republiky</td>\n",
       "      <td>Automotodrom Brno</td>\n",
       "      <td>CZECH REPUBLIC</td>\n",
       "      <td>49.210243</td>\n",
       "      <td>16.450668</td>\n",
       "      <td>0</td>\n",
       "      <td>0</td>\n",
       "    </tr>\n",
       "    <tr>\n",
       "      <th>12</th>\n",
       "      <td>2020-08-16</td>\n",
       "      <td>myWorld Motorrad Grand Prix von Österreich</td>\n",
       "      <td>Red Bull Ring - Spielberg</td>\n",
       "      <td>AUSTRIA</td>\n",
       "      <td>47.223539</td>\n",
       "      <td>14.760464</td>\n",
       "      <td>0</td>\n",
       "      <td>0</td>\n",
       "    </tr>\n",
       "    <tr>\n",
       "      <th>13</th>\n",
       "      <td>2020-08-30</td>\n",
       "      <td>British Grand Prix</td>\n",
       "      <td>Silverstone Circuit</td>\n",
       "      <td>GREAT BRITAIN</td>\n",
       "      <td>52.071812</td>\n",
       "      <td>-1.014299</td>\n",
       "      <td>0</td>\n",
       "      <td>3</td>\n",
       "    </tr>\n",
       "    <tr>\n",
       "      <th>14</th>\n",
       "      <td>2020-09-13</td>\n",
       "      <td>Gran Premio Octo di San Marino e della Rivier...</td>\n",
       "      <td>Misano World Circuit Marco Simoncelli</td>\n",
       "      <td>ITALY</td>\n",
       "      <td>43.962211</td>\n",
       "      <td>12.684043</td>\n",
       "      <td>0</td>\n",
       "      <td>0</td>\n",
       "    </tr>\n",
       "    <tr>\n",
       "      <th>15</th>\n",
       "      <td>2020-10-04</td>\n",
       "      <td>Gran Premio de Aragón</td>\n",
       "      <td>MotorLand Aragón</td>\n",
       "      <td>SPAIN</td>\n",
       "      <td>41.079264</td>\n",
       "      <td>-0.206415</td>\n",
       "      <td>0</td>\n",
       "      <td>2</td>\n",
       "    </tr>\n",
       "    <tr>\n",
       "      <th>19</th>\n",
       "      <td>2020-11-15</td>\n",
       "      <td>Gran Premio Motul de la Comunitat Valenciana</td>\n",
       "      <td>Circuit Ricardo Tormo</td>\n",
       "      <td>SPAIN</td>\n",
       "      <td>39.495526</td>\n",
       "      <td>-0.625704</td>\n",
       "      <td>0</td>\n",
       "      <td>2</td>\n",
       "    </tr>\n",
       "  </tbody>\n",
       "</table>\n",
       "</div>"
      ],
      "text/plain": [
       "          Date                                               Race  \\\n",
       "4   2020-05-03                     Gran Premio Red Bull de España   \n",
       "5   2020-05-17                 SHARK Helmets Grand Prix de France   \n",
       "6   2020-05-31                        Gran Premio d'Italia Oakley   \n",
       "7   2020-06-07             Gran Premi Monster Energy de Catalunya   \n",
       "8   2020-06-21        HJC Helmets Motorrad Grand Prix Deutschland   \n",
       "9   2020-06-28                                     Motul TT Assen   \n",
       "10  2020-07-12                                 Finland Grand Prix   \n",
       "11  2020-08-09          Monster Energy Grand Prix České republiky   \n",
       "12  2020-08-16         myWorld Motorrad Grand Prix von Österreich   \n",
       "13  2020-08-30                                 British Grand Prix   \n",
       "14  2020-09-13   Gran Premio Octo di San Marino e della Rivier...   \n",
       "15  2020-10-04                              Gran Premio de Aragón   \n",
       "19  2020-11-15       Gran Premio Motul de la Comunitat Valenciana   \n",
       "\n",
       "                                  Circuit         Country   Latitude  \\\n",
       "4                       Circuito de Jerez           SPAIN  36.694447   \n",
       "5                                 Le Mans          FRANCE  48.007350   \n",
       "6    Autodromo Internazionale del Mugello           ITALY  43.999382   \n",
       "7          Circuit de Barcelona-Catalunya           SPAIN  41.569469   \n",
       "8                             Sachsenring         GERMANY  50.732860   \n",
       "9                        TT Circuit Assen     NETHERLANDS  52.959646   \n",
       "10                               KymiRing         FINLAND  60.881176   \n",
       "11                      Automotodrom Brno  CZECH REPUBLIC  49.210243   \n",
       "12              Red Bull Ring - Spielberg         AUSTRIA  47.223539   \n",
       "13                    Silverstone Circuit   GREAT BRITAIN  52.071812   \n",
       "14  Misano World Circuit Marco Simoncelli           ITALY  43.962211   \n",
       "15                       MotorLand Aragón           SPAIN  41.079264   \n",
       "19                  Circuit Ricardo Tormo           SPAIN  39.495526   \n",
       "\n",
       "    Longitude  DBSCAN_Clusters Subcluster  \n",
       "4   -6.156317                0          2  \n",
       "5    0.196738                0          3  \n",
       "6   11.372365                0          0  \n",
       "7    2.258063                0          2  \n",
       "8   12.475105                0          0  \n",
       "9    6.527974                0          3  \n",
       "10  26.478826                0          1  \n",
       "11  16.450668                0          0  \n",
       "12  14.760464                0          0  \n",
       "13  -1.014299                0          3  \n",
       "14  12.684043                0          0  \n",
       "15  -0.206415                0          2  \n",
       "19  -0.625704                0          2  "
      ]
     },
     "execution_count": 209,
     "metadata": {},
     "output_type": "execute_result"
    }
   ],
   "source": [
    "circuits.query('DBSCAN_Clusters == 0')"
   ]
  },
  {
   "cell_type": "code",
   "execution_count": 311,
   "metadata": {
    "scrolled": true
   },
   "outputs": [
    {
     "data": {
      "text/plain": [
       "Subcluster\n",
       "0       5\n",
       "1       1\n",
       "2       4\n",
       "3       3\n",
       "None    7\n",
       "Name: Circuit, dtype: int64"
      ]
     },
     "execution_count": 311,
     "metadata": {},
     "output_type": "execute_result"
    }
   ],
   "source": [
    "circuits.groupby('Subcluster').count()['Circuit']"
   ]
  },
  {
   "cell_type": "markdown",
   "metadata": {},
   "source": [
    "#### I will start optimizing internal routes for subclusters 0 (5 circuits), 2 (4 circuits) and 3 (3 circuits)."
   ]
  },
  {
   "cell_type": "markdown",
   "metadata": {},
   "source": [
    "## Optimizing routes"
   ]
  },
  {
   "cell_type": "code",
   "execution_count": 210,
   "metadata": {},
   "outputs": [
    {
     "name": "stderr",
     "output_type": "stream",
     "text": [
      "/usr/local/lib/python3.7/site-packages/sklearn/externals/six.py:31: DeprecationWarning:\n",
      "\n",
      "The module is deprecated in version 0.21 and will be removed in version 0.23 since we've dropped support for Python 2.7. Please rely on the official version of six (https://pypi.org/project/six/).\n",
      "\n"
     ]
    }
   ],
   "source": [
    "import mlrose"
   ]
  },
  {
   "cell_type": "markdown",
   "metadata": {},
   "source": [
    "As the result of applying mlrose is in 'units' and the units of our coordinates are degrees of Latitude and Longitude, it is better to apply mlrose with a matrix of distances previously calculated in km with geopy."
   ]
  },
  {
   "cell_type": "markdown",
   "metadata": {},
   "source": [
    "### Subcluster 0"
   ]
  },
  {
   "cell_type": "code",
   "execution_count": 244,
   "metadata": {},
   "outputs": [],
   "source": [
    "# creating a list with distances between circuits:\n",
    "subcluster0 = circuits.query('Subcluster == 0').reset_index(drop=True)\n",
    "\n",
    "dist_list = []\n",
    "\n",
    "for i in subcluster0.index:\n",
    "    for j in subcluster0.index:\n",
    "        if i < j: \n",
    "            coord_i = (subcluster0.loc[i,'Latitude'],subcluster0.loc[i,'Longitude'])\n",
    "            coord_j = (subcluster0.loc[j,'Latitude'],subcluster0.loc[j,'Longitude'])\n",
    "\n",
    "            dist = distance.distance(coord_i, coord_j).km\n",
    "\n",
    "            dist_list.append((i, j, dist))"
   ]
  },
  {
   "cell_type": "code",
   "execution_count": 245,
   "metadata": {},
   "outputs": [
    {
     "data": {
      "text/plain": [
       "[(0, 1, 753.2093789744465),\n",
       " (0, 2, 697.4292716963196),\n",
       " (0, 3, 445.163498201435),\n",
       " (0, 4, 105.31854933139327),\n",
       " (1, 2, 331.6271130393199),\n",
       " (1, 3, 424.56157676462203),\n",
       " (1, 4, 752.9087233093135),\n",
       " (2, 3, 254.10488703569786),\n",
       " (2, 4, 650.6950903273602),\n",
       " (3, 4, 396.99937821188894)]"
      ]
     },
     "execution_count": 245,
     "metadata": {},
     "output_type": "execute_result"
    }
   ],
   "source": [
    "dist_list"
   ]
  },
  {
   "cell_type": "code",
   "execution_count": 246,
   "metadata": {},
   "outputs": [],
   "source": [
    "# Initialize fitness function object using coords_sub0\n",
    "fitness_coords = mlrose.TravellingSales(distances = dist_list)"
   ]
  },
  {
   "cell_type": "code",
   "execution_count": 247,
   "metadata": {},
   "outputs": [],
   "source": [
    "# Define optimization problem object\n",
    "problem_fit = mlrose.TSPOpt(length = len(subcluster0), \n",
    "                            fitness_fn = fitness_coords, maximize = False)"
   ]
  },
  {
   "cell_type": "code",
   "execution_count": 248,
   "metadata": {},
   "outputs": [],
   "source": [
    "# Solve using genetic algorithm - attempt 1\n",
    "best_state, best_fitness = mlrose.genetic_alg(problem_fit, random_state = 2)"
   ]
  },
  {
   "cell_type": "code",
   "execution_count": 249,
   "metadata": {},
   "outputs": [
    {
     "name": "stdout",
     "output_type": "stream",
     "text": [
      "[4 0 1 2 3]\n"
     ]
    }
   ],
   "source": [
    "print(best_state)"
   ]
  },
  {
   "cell_type": "code",
   "execution_count": 250,
   "metadata": {},
   "outputs": [
    {
     "name": "stdout",
     "output_type": "stream",
     "text": [
      "1841.2593065927463\n"
     ]
    }
   ],
   "source": [
    "print(best_fitness)"
   ]
  },
  {
   "cell_type": "code",
   "execution_count": 251,
   "metadata": {},
   "outputs": [],
   "source": [
    "# Solve using genetic algorithm - attempt 2\n",
    "best_state, best_fitness = mlrose.genetic_alg(problem_fit, mutation_prob = 0.2, max_attempts = 100,\n",
    "                                              random_state = 2)"
   ]
  },
  {
   "cell_type": "code",
   "execution_count": 252,
   "metadata": {},
   "outputs": [
    {
     "name": "stdout",
     "output_type": "stream",
     "text": [
      "[4 0 1 2 3]\n"
     ]
    }
   ],
   "source": [
    "print(best_state)"
   ]
  },
  {
   "cell_type": "code",
   "execution_count": 253,
   "metadata": {},
   "outputs": [
    {
     "name": "stdout",
     "output_type": "stream",
     "text": [
      "1841.2593065927463\n"
     ]
    }
   ],
   "source": [
    "print(best_fitness)"
   ]
  },
  {
   "cell_type": "code",
   "execution_count": 296,
   "metadata": {},
   "outputs": [],
   "source": [
    "# creating the route with circuit names:\n",
    "best_route0 = []\n",
    "for i in best_state:\n",
    "    name = subcluster0.loc[i, 'Circuit']\n",
    "    best_route0.append(name)"
   ]
  },
  {
   "cell_type": "code",
   "execution_count": 297,
   "metadata": {
    "scrolled": true
   },
   "outputs": [
    {
     "data": {
      "text/plain": [
       "['Misano World Circuit Marco Simoncelli',\n",
       " 'Autodromo Internazionale del Mugello',\n",
       " 'Sachsenring',\n",
       " 'Automotodrom Brno',\n",
       " 'Red Bull Ring - Spielberg']"
      ]
     },
     "execution_count": 297,
     "metadata": {},
     "output_type": "execute_result"
    }
   ],
   "source": [
    "best_route0"
   ]
  },
  {
   "cell_type": "markdown",
   "metadata": {},
   "source": [
    "#### This is a round route. I don't want a round route, so I will subtract the distance from the last circuit to the first one."
   ]
  },
  {
   "cell_type": "code",
   "execution_count": 298,
   "metadata": {},
   "outputs": [
    {
     "name": "stdout",
     "output_type": "stream",
     "text": [
      "last_stage second step 396.99937821188894\n"
     ]
    }
   ],
   "source": [
    "# calculating and appending the total distance:\n",
    "first = subcluster0.loc[subcluster0['Circuit'] == best_route0[0]].index[0]\n",
    "last = subcluster0.loc[subcluster0['Circuit'] == best_route0[-1]].index[0]\n",
    "last_stage = 0\n",
    "\n",
    "for el in dist_list:\n",
    "    if el[0] == first and el[1] == last:\n",
    "        last_stage = el[2]\n",
    "    elif el[0] == last and el[1] == first:\n",
    "        last_stage = el[2]\n",
    "\n",
    "route = best_fitness - last_stage\n",
    "\n",
    "best_route0.append(round(route))"
   ]
  },
  {
   "cell_type": "code",
   "execution_count": 299,
   "metadata": {},
   "outputs": [
    {
     "data": {
      "text/plain": [
       "['Misano World Circuit Marco Simoncelli',\n",
       " 'Autodromo Internazionale del Mugello',\n",
       " 'Sachsenring',\n",
       " 'Automotodrom Brno',\n",
       " 'Red Bull Ring - Spielberg',\n",
       " 1444]"
      ]
     },
     "execution_count": 299,
     "metadata": {},
     "output_type": "execute_result"
    }
   ],
   "source": [
    "best_route0"
   ]
  },
  {
   "cell_type": "markdown",
   "metadata": {},
   "source": [
    "### Subcluster 2"
   ]
  },
  {
   "cell_type": "code",
   "execution_count": 314,
   "metadata": {},
   "outputs": [],
   "source": [
    "# creating a list with distances between circuits:\n",
    "subcluster2 = circuits.query('Subcluster == 2').reset_index(drop=True)\n",
    "\n",
    "dist_list2 = []\n",
    "\n",
    "for i in subcluster2.index:\n",
    "    for j in subcluster2.index:\n",
    "        if i < j: \n",
    "            coord_i = (subcluster2.loc[i,'Latitude'],subcluster2.loc[i,'Longitude'])\n",
    "            coord_j = (subcluster2.loc[j,'Latitude'],subcluster2.loc[j,'Longitude'])\n",
    "\n",
    "            dist = distance.distance(coord_i, coord_j).km\n",
    "\n",
    "            dist_list2.append((i, j, dist))"
   ]
  },
  {
   "cell_type": "code",
   "execution_count": 315,
   "metadata": {},
   "outputs": [
    {
     "data": {
      "text/plain": [
       "[(0, 1, 906.0416003864943),\n",
       " (0, 2, 709.20506184732),\n",
       " (0, 3, 576.0433647759187),\n",
       " (1, 2, 213.3824218268996),\n",
       " (1, 3, 335.7240942715326),\n",
       " (2, 3, 179.43584263435042)]"
      ]
     },
     "execution_count": 315,
     "metadata": {},
     "output_type": "execute_result"
    }
   ],
   "source": [
    "dist_list2"
   ]
  },
  {
   "cell_type": "code",
   "execution_count": 338,
   "metadata": {},
   "outputs": [],
   "source": [
    "import math\n",
    "\n",
    "def route_calc(dist_list):\n",
    "    # Initialize fitness function object using coords_sub0\n",
    "    fitness_coords = mlrose.TravellingSales(distances = dist_list)\n",
    "    \n",
    "    # Calculating the number of circuits depending on the number of distances in list\n",
    "    # The num of distances is equal to n * (n-1) / 2, being n the number of circuits.\n",
    "    # we want to find n having the num of distances, this is a quadratic function:\n",
    "    # x**2 - x - 2y = 0, being x = n and y = num of distances.\n",
    "    # Solving the equation with math library:\n",
    "    \n",
    "    a = 1\n",
    "    b = -1\n",
    "    c = -2*len(dist_list)\n",
    "    # calculate the discriminant\n",
    "    d = (b**2) - (4*a*c)\n",
    "    # find two solutions\n",
    "    sol1 = (-b-math.sqrt(d))/(2*a)\n",
    "    sol2 = (-b+math.sqrt(d))/(2*a)\n",
    "    \n",
    "    # assigning the positive solution to length, needed for the algorithm\n",
    "    length = max(sol1, sol2)\n",
    "    \n",
    "    # Define optimization problem object\n",
    "    problem_fit = mlrose.TSPOpt(length = length, fitness_fn = fitness_coords, \n",
    "                                maximize = False)\n",
    "    \n",
    "    # Solve using genetic algorithm - attempt 1\n",
    "    best_state1, best_fitness1 = mlrose.genetic_alg(problem_fit, random_state = 2)\n",
    "    \n",
    "    # Solve using genetic algorithm - attempt 2\n",
    "    best_state2, best_fitness2 = mlrose.genetic_alg(problem_fit, mutation_prob = 0.2, \n",
    "                                                  max_attempts = 100, random_state = 2)\n",
    "    \n",
    "    if best_fitness1 < best_fitness2:\n",
    "        return best_state1, round(best_fitness1)\n",
    "    else:\n",
    "        return best_state2, round(best_fitness2)"
   ]
  },
  {
   "cell_type": "code",
   "execution_count": 341,
   "metadata": {},
   "outputs": [],
   "source": [
    "best_order2, round_dist2 = route_calc(dist_list2)"
   ]
  },
  {
   "cell_type": "code",
   "execution_count": 342,
   "metadata": {},
   "outputs": [
    {
     "data": {
      "text/plain": [
       "array([3, 1, 2, 0])"
      ]
     },
     "execution_count": 342,
     "metadata": {},
     "output_type": "execute_result"
    }
   ],
   "source": [
    "best_order2"
   ]
  },
  {
   "cell_type": "code",
   "execution_count": 343,
   "metadata": {},
   "outputs": [],
   "source": [
    "# creating the route with circuit names:\n",
    "best_route2 = []\n",
    "for i in best_order2:\n",
    "    name = subcluster2.loc[i, 'Circuit']\n",
    "    best_route2.append(name)"
   ]
  },
  {
   "cell_type": "code",
   "execution_count": 344,
   "metadata": {},
   "outputs": [
    {
     "data": {
      "text/plain": [
       "['Circuit Ricardo Tormo',\n",
       " 'Circuit de Barcelona-Catalunya',\n",
       " 'MotorLand Aragón',\n",
       " 'Circuito de Jerez']"
      ]
     },
     "execution_count": 344,
     "metadata": {},
     "output_type": "execute_result"
    }
   ],
   "source": [
    "best_route2"
   ]
  },
  {
   "cell_type": "code",
   "execution_count": 346,
   "metadata": {},
   "outputs": [],
   "source": [
    "# calculating the no-round distance:\n",
    "first = subcluster2.loc[subcluster2['Circuit'] == best_route2[0]].index[0]\n",
    "last = subcluster2.loc[subcluster2['Circuit'] == best_route2[-1]].index[0]\n",
    "last_stage = 0\n",
    "\n",
    "for el in dist_list2:\n",
    "    if el[0] == first and el[1] == last:\n",
    "        last_stage = el[2]\n",
    "    elif el[0] == last and el[1] == first:\n",
    "        last_stage = el[2]\n",
    "\n",
    "route = best_fitness - last_stage\n",
    "\n",
    "best_route2.append(round(route))"
   ]
  },
  {
   "cell_type": "code",
   "execution_count": 347,
   "metadata": {},
   "outputs": [
    {
     "data": {
      "text/plain": [
       "['Circuit Ricardo Tormo',\n",
       " 'Circuit de Barcelona-Catalunya',\n",
       " 'MotorLand Aragón',\n",
       " 'Circuito de Jerez',\n",
       " 1265]"
      ]
     },
     "execution_count": 347,
     "metadata": {},
     "output_type": "execute_result"
    }
   ],
   "source": [
    "best_route2"
   ]
  },
  {
   "cell_type": "markdown",
   "metadata": {},
   "source": [
    "### Subcluster 3"
   ]
  },
  {
   "cell_type": "code",
   "execution_count": 348,
   "metadata": {},
   "outputs": [],
   "source": [
    "# creating a list with distances between circuits:\n",
    "subcluster3 = circuits.query('Subcluster == 3').reset_index(drop=True)\n",
    "\n",
    "dist_list3 = []\n",
    "\n",
    "for i in subcluster3.index:\n",
    "    for j in subcluster3.index:\n",
    "        if i < j: \n",
    "            coord_i = (subcluster3.loc[i,'Latitude'],subcluster3.loc[i,'Longitude'])\n",
    "            coord_j = (subcluster3.loc[j,'Latitude'],subcluster3.loc[j,'Longitude'])\n",
    "\n",
    "            dist = distance.distance(coord_i, coord_j).km\n",
    "\n",
    "            dist_list3.append((i, j, dist))"
   ]
  },
  {
   "cell_type": "code",
   "execution_count": 349,
   "metadata": {},
   "outputs": [
    {
     "data": {
      "text/plain": [
       "[(0, 1, 710.3446224068736),\n",
       " (0, 2, 460.3195563371291),\n",
       " (1, 2, 521.1997578348935)]"
      ]
     },
     "execution_count": 349,
     "metadata": {},
     "output_type": "execute_result"
    }
   ],
   "source": [
    "dist_list3"
   ]
  },
  {
   "cell_type": "code",
   "execution_count": 350,
   "metadata": {},
   "outputs": [],
   "source": [
    "best_order3, round_dist3 = route_calc(dist_list3)"
   ]
  },
  {
   "cell_type": "code",
   "execution_count": 351,
   "metadata": {},
   "outputs": [
    {
     "data": {
      "text/plain": [
       "array([2, 0, 1])"
      ]
     },
     "execution_count": 351,
     "metadata": {},
     "output_type": "execute_result"
    }
   ],
   "source": [
    "best_order3"
   ]
  },
  {
   "cell_type": "code",
   "execution_count": 352,
   "metadata": {},
   "outputs": [],
   "source": [
    "# creating the route with circuit names:\n",
    "best_route3 = []\n",
    "for i in best_order3:\n",
    "    name = subcluster3.loc[i, 'Circuit']\n",
    "    best_route3.append(name)"
   ]
  },
  {
   "cell_type": "code",
   "execution_count": 353,
   "metadata": {},
   "outputs": [
    {
     "data": {
      "text/plain": [
       "['Silverstone Circuit', 'Le Mans', 'TT Circuit Assen']"
      ]
     },
     "execution_count": 353,
     "metadata": {},
     "output_type": "execute_result"
    }
   ],
   "source": [
    "best_route3"
   ]
  },
  {
   "cell_type": "code",
   "execution_count": 354,
   "metadata": {},
   "outputs": [],
   "source": [
    "# calculating the no-round distance:\n",
    "first = subcluster3.loc[subcluster3['Circuit'] == best_route3[0]].index[0]\n",
    "last = subcluster3.loc[subcluster3['Circuit'] == best_route3[-1]].index[0]\n",
    "last_stage = 0\n",
    "\n",
    "for el in dist_list3:\n",
    "    if el[0] == first and el[1] == last:\n",
    "        last_stage = el[2]\n",
    "    elif el[0] == last and el[1] == first:\n",
    "        last_stage = el[2]\n",
    "\n",
    "route = best_fitness - last_stage\n",
    "\n",
    "best_route3.append(round(route))"
   ]
  },
  {
   "cell_type": "code",
   "execution_count": 356,
   "metadata": {},
   "outputs": [
    {
     "data": {
      "text/plain": [
       "['Silverstone Circuit', 'Le Mans', 'TT Circuit Assen', 1320]"
      ]
     },
     "execution_count": 356,
     "metadata": {},
     "output_type": "execute_result"
    }
   ],
   "source": [
    "best_route3"
   ]
  },
  {
   "cell_type": "markdown",
   "metadata": {},
   "source": [
    "### At this point, I have the best routes for the circuits inside the 3 subclusters. Still pending 1 circuit alone in the 4th subclusters and 7 circuits with no subcluster"
   ]
  },
  {
   "cell_type": "markdown",
   "metadata": {},
   "source": [
    "### I will consider this 8 circuits as a new subcluster and calculate the best route between them"
   ]
  },
  {
   "cell_type": "code",
   "execution_count": 363,
   "metadata": {},
   "outputs": [],
   "source": [
    "# creating the new dataframe\n",
    "other_circuits = circuits.loc[(circuits['Subcluster'] == 1) | (circuits['Subcluster'] == 'None')].reset_index(drop=True)"
   ]
  },
  {
   "cell_type": "code",
   "execution_count": 364,
   "metadata": {},
   "outputs": [
    {
     "data": {
      "text/html": [
       "<div>\n",
       "<style scoped>\n",
       "    .dataframe tbody tr th:only-of-type {\n",
       "        vertical-align: middle;\n",
       "    }\n",
       "\n",
       "    .dataframe tbody tr th {\n",
       "        vertical-align: top;\n",
       "    }\n",
       "\n",
       "    .dataframe thead th {\n",
       "        text-align: right;\n",
       "    }\n",
       "</style>\n",
       "<table border=\"1\" class=\"dataframe\">\n",
       "  <thead>\n",
       "    <tr style=\"text-align: right;\">\n",
       "      <th></th>\n",
       "      <th>Date</th>\n",
       "      <th>Race</th>\n",
       "      <th>Circuit</th>\n",
       "      <th>Country</th>\n",
       "      <th>Latitude</th>\n",
       "      <th>Longitude</th>\n",
       "      <th>DBSCAN_Clusters</th>\n",
       "      <th>Subcluster</th>\n",
       "    </tr>\n",
       "  </thead>\n",
       "  <tbody>\n",
       "    <tr>\n",
       "      <th>0</th>\n",
       "      <td>2020-03-08</td>\n",
       "      <td>Grand Prix of Qatar</td>\n",
       "      <td>Losail International Circuit</td>\n",
       "      <td>QATAR</td>\n",
       "      <td>25.491000</td>\n",
       "      <td>51.452068</td>\n",
       "      <td>-1</td>\n",
       "      <td>None</td>\n",
       "    </tr>\n",
       "    <tr>\n",
       "      <th>1</th>\n",
       "      <td>2020-03-22</td>\n",
       "      <td>OR Thailand Grand Prix</td>\n",
       "      <td>Chang International Circuit</td>\n",
       "      <td>THAILAND</td>\n",
       "      <td>2.760191</td>\n",
       "      <td>101.736859</td>\n",
       "      <td>-1</td>\n",
       "      <td>None</td>\n",
       "    </tr>\n",
       "    <tr>\n",
       "      <th>2</th>\n",
       "      <td>2020-04-05</td>\n",
       "      <td>Red Bull Grand Prix of The Americas</td>\n",
       "      <td>Circuit Of The Americas</td>\n",
       "      <td>UNITED STATES</td>\n",
       "      <td>30.138715</td>\n",
       "      <td>-97.636410</td>\n",
       "      <td>-1</td>\n",
       "      <td>None</td>\n",
       "    </tr>\n",
       "    <tr>\n",
       "      <th>3</th>\n",
       "      <td>2020-04-19</td>\n",
       "      <td>Gran Premio Motul de la República Argentina</td>\n",
       "      <td>Termas de Río Hondo</td>\n",
       "      <td>ARGENTINA</td>\n",
       "      <td>-27.495926</td>\n",
       "      <td>-64.864078</td>\n",
       "      <td>-1</td>\n",
       "      <td>None</td>\n",
       "    </tr>\n",
       "    <tr>\n",
       "      <th>4</th>\n",
       "      <td>2020-07-12</td>\n",
       "      <td>Finland Grand Prix</td>\n",
       "      <td>KymiRing</td>\n",
       "      <td>FINLAND</td>\n",
       "      <td>60.881176</td>\n",
       "      <td>26.478826</td>\n",
       "      <td>0</td>\n",
       "      <td>1</td>\n",
       "    </tr>\n",
       "    <tr>\n",
       "      <th>5</th>\n",
       "      <td>2020-10-18</td>\n",
       "      <td>Motul Grand Prix of Japan</td>\n",
       "      <td>Twin Ring Motegi</td>\n",
       "      <td>JAPAN</td>\n",
       "      <td>36.533647</td>\n",
       "      <td>140.229985</td>\n",
       "      <td>-1</td>\n",
       "      <td>None</td>\n",
       "    </tr>\n",
       "    <tr>\n",
       "      <th>6</th>\n",
       "      <td>2020-10-25</td>\n",
       "      <td>Australian Motorcycle Grand Prix</td>\n",
       "      <td>Phillip Island</td>\n",
       "      <td>AUSTRALIA</td>\n",
       "      <td>-38.496688</td>\n",
       "      <td>145.238917</td>\n",
       "      <td>-1</td>\n",
       "      <td>None</td>\n",
       "    </tr>\n",
       "    <tr>\n",
       "      <th>7</th>\n",
       "      <td>2020-11-01</td>\n",
       "      <td>Shell Malaysia Motorcycle Grand Prix</td>\n",
       "      <td>Sepang International Circuit</td>\n",
       "      <td>MALAYSIA</td>\n",
       "      <td>2.760191</td>\n",
       "      <td>101.736859</td>\n",
       "      <td>-1</td>\n",
       "      <td>None</td>\n",
       "    </tr>\n",
       "  </tbody>\n",
       "</table>\n",
       "</div>"
      ],
      "text/plain": [
       "         Date                                          Race  \\\n",
       "0  2020-03-08                           Grand Prix of Qatar   \n",
       "1  2020-03-22                       OR Thailand Grand Prix    \n",
       "2  2020-04-05           Red Bull Grand Prix of The Americas   \n",
       "3  2020-04-19   Gran Premio Motul de la República Argentina   \n",
       "4  2020-07-12                            Finland Grand Prix   \n",
       "5  2020-10-18                     Motul Grand Prix of Japan   \n",
       "6  2020-10-25              Australian Motorcycle Grand Prix   \n",
       "7  2020-11-01          Shell Malaysia Motorcycle Grand Prix   \n",
       "\n",
       "                        Circuit        Country   Latitude   Longitude  \\\n",
       "0  Losail International Circuit          QATAR  25.491000   51.452068   \n",
       "1   Chang International Circuit       THAILAND   2.760191  101.736859   \n",
       "2       Circuit Of The Americas  UNITED STATES  30.138715  -97.636410   \n",
       "3           Termas de Río Hondo      ARGENTINA -27.495926  -64.864078   \n",
       "4                      KymiRing        FINLAND  60.881176   26.478826   \n",
       "5              Twin Ring Motegi          JAPAN  36.533647  140.229985   \n",
       "6                Phillip Island      AUSTRALIA -38.496688  145.238917   \n",
       "7  Sepang International Circuit       MALAYSIA   2.760191  101.736859   \n",
       "\n",
       "   DBSCAN_Clusters Subcluster  \n",
       "0               -1       None  \n",
       "1               -1       None  \n",
       "2               -1       None  \n",
       "3               -1       None  \n",
       "4                0          1  \n",
       "5               -1       None  \n",
       "6               -1       None  \n",
       "7               -1       None  "
      ]
     },
     "execution_count": 364,
     "metadata": {},
     "output_type": "execute_result"
    }
   ],
   "source": [
    "other_circuits"
   ]
  },
  {
   "cell_type": "code",
   "execution_count": 365,
   "metadata": {},
   "outputs": [],
   "source": [
    "dist_list_other = []\n",
    "\n",
    "for i in other_circuits.index:\n",
    "    for j in other_circuits.index:\n",
    "        if i < j: \n",
    "            coord_i = (other_circuits.loc[i,'Latitude'],other_circuits.loc[i,'Longitude'])\n",
    "            coord_j = (other_circuits.loc[j,'Latitude'],other_circuits.loc[j,'Longitude'])\n",
    "\n",
    "            dist = distance.distance(coord_i, coord_j).km\n",
    "\n",
    "            dist_list_other.append((i, j, dist))"
   ]
  },
  {
   "cell_type": "code",
   "execution_count": 366,
   "metadata": {},
   "outputs": [
    {
     "data": {
      "text/plain": [
       "[(0, 1, 5934.373927069669),\n",
       " (0, 2, 13027.280851968753),\n",
       " (0, 3, 13748.464271442162),\n",
       " (0, 4, 4365.819538710464),\n",
       " (0, 5, 8270.183074011635),\n",
       " (0, 6, 12038.62218753436),\n",
       " (0, 7, 5934.373927069669),\n",
       " (1, 2, 15827.81888198896),\n",
       " (1, 3, 16923.729646057596),\n",
       " (1, 4, 8943.668223441835),\n",
       " (1, 5, 5435.523367568314),\n",
       " (1, 6, 6386.1405068187905),\n",
       " (1, 7, 0.0),\n",
       " (2, 3, 7269.066592961215),\n",
       " (2, 4, 8726.736191782999),\n",
       " (2, 5, 10479.282482273198),\n",
       " (2, 6, 14274.208157616871),\n",
       " (2, 7, 15827.81888198896),\n",
       " (3, 4, 12706.666915492706),\n",
       " (3, 5, 17459.966421628003),\n",
       " (3, 6, 12058.974243919296),\n",
       " (3, 7, 16923.729646057596),\n",
       " (4, 5, 7663.212564868035),\n",
       " (4, 6, 15179.42626628677),\n",
       " (4, 7, 8943.668223441835),\n",
       " (5, 6, 8323.338197187517),\n",
       " (5, 7, 5435.523367568314),\n",
       " (6, 7, 6386.1405068187905)]"
      ]
     },
     "execution_count": 366,
     "metadata": {},
     "output_type": "execute_result"
    }
   ],
   "source": [
    "dist_list_other"
   ]
  },
  {
   "cell_type": "code",
   "execution_count": null,
   "metadata": {},
   "outputs": [],
   "source": []
  }
 ],
 "metadata": {
  "kernelspec": {
   "display_name": "Python 3",
   "language": "python",
   "name": "python3"
  },
  "language_info": {
   "codemirror_mode": {
    "name": "ipython",
    "version": 3
   },
   "file_extension": ".py",
   "mimetype": "text/x-python",
   "name": "python",
   "nbconvert_exporter": "python",
   "pygments_lexer": "ipython3",
   "version": "3.7.4"
  }
 },
 "nbformat": 4,
 "nbformat_minor": 2
}
