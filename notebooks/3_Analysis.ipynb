{
 "cells": [
  {
   "cell_type": "code",
   "execution_count": 31,
   "metadata": {},
   "outputs": [],
   "source": [
    "import pandas as pd\n",
    "from geopy import distance"
   ]
  },
  {
   "cell_type": "markdown",
   "metadata": {},
   "source": [
    "# ANALYSIS"
   ]
  },
  {
   "cell_type": "code",
   "execution_count": null,
   "metadata": {},
   "outputs": [],
   "source": [
    "\"\"\"\n",
    "Travelling Salesman Problem has (n-1)! / 2 solutions. For 20 races, that means 6,08e+16\n",
    "solutions.\n",
    "\n",
    "First approach: clustering.\n",
    "\"\"\""
   ]
  },
  {
   "cell_type": "markdown",
   "metadata": {},
   "source": [
    "## The current calendar"
   ]
  },
  {
   "cell_type": "code",
   "execution_count": 36,
   "metadata": {},
   "outputs": [],
   "source": [
    "circuits = pd.read_csv('../data/races_cleaned.csv', index_col = 0)"
   ]
  },
  {
   "cell_type": "code",
   "execution_count": 37,
   "metadata": {},
   "outputs": [
    {
     "data": {
      "text/html": [
       "<div>\n",
       "<style scoped>\n",
       "    .dataframe tbody tr th:only-of-type {\n",
       "        vertical-align: middle;\n",
       "    }\n",
       "\n",
       "    .dataframe tbody tr th {\n",
       "        vertical-align: top;\n",
       "    }\n",
       "\n",
       "    .dataframe thead th {\n",
       "        text-align: right;\n",
       "    }\n",
       "</style>\n",
       "<table border=\"1\" class=\"dataframe\">\n",
       "  <thead>\n",
       "    <tr style=\"text-align: right;\">\n",
       "      <th></th>\n",
       "      <th>Date</th>\n",
       "      <th>Race</th>\n",
       "      <th>Circuit</th>\n",
       "      <th>Country</th>\n",
       "      <th>Latitude</th>\n",
       "      <th>Longitude</th>\n",
       "    </tr>\n",
       "  </thead>\n",
       "  <tbody>\n",
       "    <tr>\n",
       "      <th>0</th>\n",
       "      <td>2020-03-08</td>\n",
       "      <td>Grand Prix of Qatar</td>\n",
       "      <td>Losail International Circuit</td>\n",
       "      <td>QATAR</td>\n",
       "      <td>25.491000</td>\n",
       "      <td>51.452068</td>\n",
       "    </tr>\n",
       "    <tr>\n",
       "      <th>1</th>\n",
       "      <td>2020-03-22</td>\n",
       "      <td>OR Thailand Grand Prix</td>\n",
       "      <td>Chang International Circuit</td>\n",
       "      <td>THAILAND</td>\n",
       "      <td>2.760191</td>\n",
       "      <td>101.736859</td>\n",
       "    </tr>\n",
       "    <tr>\n",
       "      <th>2</th>\n",
       "      <td>2020-04-05</td>\n",
       "      <td>Red Bull Grand Prix of The Americas</td>\n",
       "      <td>Circuit Of The Americas</td>\n",
       "      <td>UNITED STATES</td>\n",
       "      <td>30.138715</td>\n",
       "      <td>-97.636410</td>\n",
       "    </tr>\n",
       "    <tr>\n",
       "      <th>3</th>\n",
       "      <td>2020-04-19</td>\n",
       "      <td>Gran Premio Motul de la República Argentina</td>\n",
       "      <td>Termas de Río Hondo</td>\n",
       "      <td>ARGENTINA</td>\n",
       "      <td>-27.495926</td>\n",
       "      <td>-64.864078</td>\n",
       "    </tr>\n",
       "    <tr>\n",
       "      <th>4</th>\n",
       "      <td>2020-05-03</td>\n",
       "      <td>Gran Premio Red Bull de España</td>\n",
       "      <td>Circuito de Jerez</td>\n",
       "      <td>SPAIN</td>\n",
       "      <td>36.694447</td>\n",
       "      <td>-6.156317</td>\n",
       "    </tr>\n",
       "  </tbody>\n",
       "</table>\n",
       "</div>"
      ],
      "text/plain": [
       "         Date                                          Race  \\\n",
       "0  2020-03-08                           Grand Prix of Qatar   \n",
       "1  2020-03-22                       OR Thailand Grand Prix    \n",
       "2  2020-04-05           Red Bull Grand Prix of The Americas   \n",
       "3  2020-04-19   Gran Premio Motul de la República Argentina   \n",
       "4  2020-05-03                Gran Premio Red Bull de España   \n",
       "\n",
       "                        Circuit        Country   Latitude   Longitude  \n",
       "0  Losail International Circuit          QATAR  25.491000   51.452068  \n",
       "1   Chang International Circuit       THAILAND   2.760191  101.736859  \n",
       "2       Circuit Of The Americas  UNITED STATES  30.138715  -97.636410  \n",
       "3           Termas de Río Hondo      ARGENTINA -27.495926  -64.864078  \n",
       "4             Circuito de Jerez          SPAIN  36.694447   -6.156317  "
      ]
     },
     "execution_count": 37,
     "metadata": {},
     "output_type": "execute_result"
    }
   ],
   "source": [
    "circuits.head()"
   ]
  },
  {
   "cell_type": "code",
   "execution_count": 34,
   "metadata": {},
   "outputs": [],
   "source": [
    "# Now I can calculate the current distance:\n",
    "current_distance = 0\n",
    "\n",
    "for index in circuits.index[1:]:\n",
    "    coord0 = (circuits.loc[index-1, 'Latitude'], circuits.loc[index-1, 'Longitude'])\n",
    "    coord1 = (circuits.loc[index, 'Latitude'], circuits.loc[index, 'Longitude'])\n",
    "    current_distance += round(distance.distance(coord0, coord1).km)"
   ]
  },
  {
   "cell_type": "code",
   "execution_count": 35,
   "metadata": {},
   "outputs": [
    {
     "name": "stdout",
     "output_type": "stream",
     "text": [
      "The current distance for the whole calendar is: 86324 km\n"
     ]
    }
   ],
   "source": [
    "print('The current distance for the whole calendar is:', current_distance, 'km')"
   ]
  },
  {
   "cell_type": "markdown",
   "metadata": {},
   "source": [
    "#### Current distance is more than 86k km. The objective is minimize this distance"
   ]
  },
  {
   "cell_type": "markdown",
   "metadata": {},
   "source": [
    "## First approach. Clustering Circuits\n",
    "\n",
    "I will use Unsupervised Learning algorithms to cluster the circuits, and then optimizing the distance between clusters."
   ]
  },
  {
   "cell_type": "markdown",
   "metadata": {},
   "source": [
    "### Clustering with KMeans\n",
    "Looking ath the map, seems obvious to cluster the circuits by something similar to continents, so I will look for 3 clusters"
   ]
  },
  {
   "cell_type": "code",
   "execution_count": 117,
   "metadata": {},
   "outputs": [],
   "source": [
    "# first of all I need to create a list of lists with the coordinates:\n",
    "coordinates = []\n",
    "for index in circuits.index:\n",
    "    coord_list = [circuits.loc[index,'Latitude'], circuits.loc[index,'Longitude']]\n",
    "    coordinates.append(coord_list)"
   ]
  },
  {
   "cell_type": "code",
   "execution_count": 118,
   "metadata": {},
   "outputs": [],
   "source": [
    "from sklearn.cluster import KMeans\n",
    "\n",
    "kmeans = KMeans(n_clusters=3)\n",
    "circuits_clusters = kmeans.fit(coordinates)\n",
    "circuits['KM_Clusters'] = circuits_clusters.labels_"
   ]
  },
  {
   "cell_type": "code",
   "execution_count": 119,
   "metadata": {
    "scrolled": true
   },
   "outputs": [
    {
     "data": {
      "text/plain": [
       "KM_Clusters  Country       \n",
       "0            ARGENTINA         1\n",
       "             UNITED STATES     1\n",
       "1            AUSTRIA           1\n",
       "             CZECH REPUBLIC    1\n",
       "             FINLAND           1\n",
       "             FRANCE            1\n",
       "             GERMANY           1\n",
       "             GREAT BRITAIN     1\n",
       "             ITALY             2\n",
       "             NETHERLANDS       1\n",
       "             QATAR             1\n",
       "             SPAIN             4\n",
       "2            AUSTRALIA         1\n",
       "             JAPAN             1\n",
       "             MALAYSIA          1\n",
       "             THAILAND          1\n",
       "dtype: int64"
      ]
     },
     "execution_count": 119,
     "metadata": {},
     "output_type": "execute_result"
    }
   ],
   "source": [
    "circuits.groupby(['KM_Clusters', 'Country']).size()"
   ]
  },
  {
   "cell_type": "code",
   "execution_count": 120,
   "metadata": {},
   "outputs": [],
   "source": [
    "cluster_centers = circuits_clusters.cluster_centers_"
   ]
  },
  {
   "cell_type": "code",
   "execution_count": 121,
   "metadata": {},
   "outputs": [],
   "source": [
    "cluster0 = (cluster_centers[0][0], cluster_centers[0][1])\n",
    "cluster1 = (cluster_centers[1][0], cluster_centers[1][1])\n",
    "cluster2 = (cluster_centers[2][0], cluster_centers[2][1])"
   ]
  },
  {
   "cell_type": "code",
   "execution_count": 122,
   "metadata": {},
   "outputs": [],
   "source": [
    "dist_0_1 = round(distance.distance(cluster0, cluster1).km)\n",
    "dist_1_2 = round(distance.distance(cluster1, cluster2).km)\n",
    "dist_2_0 = round(distance.distance(cluster2, cluster0).km)"
   ]
  },
  {
   "cell_type": "code",
   "execution_count": 123,
   "metadata": {},
   "outputs": [
    {
     "name": "stdout",
     "output_type": "stream",
     "text": [
      "Distance from cluster 0 to cluster 1 is: 10042 km\n",
      "Distance from cluster 1 to cluster 2 is: 10042 km\n",
      "Distance from cluster 2 to cluster 0 is: 10042 km\n"
     ]
    }
   ],
   "source": [
    "print('Distance from cluster 0 to cluster 1 is:', dist_0_1, 'km')\n",
    "print('Distance from cluster 1 to cluster 2 is:', dist_0_1, 'km')\n",
    "print('Distance from cluster 2 to cluster 0 is:', dist_0_1, 'km')"
   ]
  },
  {
   "cell_type": "markdown",
   "metadata": {},
   "source": [
    "#### The clustering obtained makes sense regarding the countries in each cluster"
   ]
  },
  {
   "cell_type": "markdown",
   "metadata": {},
   "source": [
    "### Clustering with DBSCAN\n",
    "Let's check if DBSCAN gives other clustering"
   ]
  },
  {
   "cell_type": "code",
   "execution_count": 87,
   "metadata": {},
   "outputs": [],
   "source": [
    "# As the latitude goes from -90º to 90º and the longitude from -180º to 180º, first of\n",
    "# all I will scale the coordinates to give them the same weight.\n",
    "\n",
    "from sklearn.preprocessing import StandardScaler\n",
    "\n",
    "scaler = StandardScaler()\n",
    "coord_scale = scaler.fit_transform(coordinates)"
   ]
  },
  {
   "cell_type": "code",
   "execution_count": 98,
   "metadata": {},
   "outputs": [
    {
     "data": {
      "text/plain": [
       "array([[-0.24846584,  0.47539751],\n",
       "       [-1.11898273,  1.33538315],\n",
       "       [-0.07047329, -2.07435859],\n",
       "       [-2.27769475, -1.51387629],\n",
       "       [ 0.18059019, -0.50983846],\n",
       "       [ 0.613838  , -0.4011866 ],\n",
       "       [ 0.46034573, -0.21005766],\n",
       "       [ 0.36728784, -0.3659332 ],\n",
       "       [ 0.7182163 , -0.19119827],\n",
       "       [ 0.80349503, -0.29290789],\n",
       "       [ 1.10686416,  0.04829759],\n",
       "       [ 0.65990494, -0.12320698],\n",
       "       [ 0.58382058, -0.15211336],\n",
       "       [ 0.76949383, -0.42189812],\n",
       "       [ 0.45892218, -0.18762495],\n",
       "       [ 0.3485146 , -0.40808144],\n",
       "       [ 0.17443205,  1.9937042 ],\n",
       "       [-2.69898859,  2.07936847],\n",
       "       [-1.11898273,  1.33538315],\n",
       "       [ 0.2878625 , -0.41525226]])"
      ]
     },
     "execution_count": 98,
     "metadata": {},
     "output_type": "execute_result"
    }
   ],
   "source": [
    "coord_scale"
   ]
  },
  {
   "cell_type": "code",
   "execution_count": 105,
   "metadata": {},
   "outputs": [],
   "source": [
    "from sklearn.cluster import DBSCAN\n",
    "\n",
    "dbscan = DBSCAN(eps=0.5)\n",
    "circuits_dbscan = dbscan.fit(coord_scale)\n",
    "circuits['DBSCAN_Clusters'] = circuits_dbscan.labels_"
   ]
  },
  {
   "cell_type": "code",
   "execution_count": 106,
   "metadata": {},
   "outputs": [
    {
     "data": {
      "text/plain": [
       "DBSCAN_Clusters  Country       \n",
       "-1               ARGENTINA         1\n",
       "                 AUSTRALIA         1\n",
       "                 JAPAN             1\n",
       "                 MALAYSIA          1\n",
       "                 QATAR             1\n",
       "                 THAILAND          1\n",
       "                 UNITED STATES     1\n",
       " 0               AUSTRIA           1\n",
       "                 CZECH REPUBLIC    1\n",
       "                 FINLAND           1\n",
       "                 FRANCE            1\n",
       "                 GERMANY           1\n",
       "                 GREAT BRITAIN     1\n",
       "                 ITALY             2\n",
       "                 NETHERLANDS       1\n",
       "                 SPAIN             4\n",
       "dtype: int64"
      ]
     },
     "execution_count": 106,
     "metadata": {},
     "output_type": "execute_result"
    }
   ],
   "source": [
    "circuits.groupby(['DBSCAN_Clusters', 'Country']).size()"
   ]
  },
  {
   "cell_type": "code",
   "execution_count": null,
   "metadata": {},
   "outputs": [],
   "source": []
  }
 ],
 "metadata": {
  "kernelspec": {
   "display_name": "Python 3",
   "language": "python",
   "name": "python3"
  },
  "language_info": {
   "codemirror_mode": {
    "name": "ipython",
    "version": 3
   },
   "file_extension": ".py",
   "mimetype": "text/x-python",
   "name": "python",
   "nbconvert_exporter": "python",
   "pygments_lexer": "ipython3",
   "version": "3.7.4"
  }
 },
 "nbformat": 4,
 "nbformat_minor": 2
}
