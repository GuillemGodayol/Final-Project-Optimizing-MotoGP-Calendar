{
 "cells": [
  {
   "cell_type": "code",
   "execution_count": 1,
   "metadata": {},
   "outputs": [],
   "source": [
    "import pandas as pd\n",
    "# from geopy import distance"
   ]
  },
  {
   "cell_type": "markdown",
   "metadata": {},
   "source": [
    "# ANALYSIS"
   ]
  },
  {
   "cell_type": "code",
   "execution_count": 2,
   "metadata": {},
   "outputs": [],
   "source": [
    "# importing the cluster's dataframes\n",
    "outliers = pd.read_csv('../data/outliers.csv', index_col = 0)\n",
    "big_cluster = pd.read_csv('../data/big_cluster.csv', index_col = 0)"
   ]
  },
  {
   "cell_type": "code",
   "execution_count": 3,
   "metadata": {},
   "outputs": [
    {
     "data": {
      "text/html": [
       "<div>\n",
       "<style scoped>\n",
       "    .dataframe tbody tr th:only-of-type {\n",
       "        vertical-align: middle;\n",
       "    }\n",
       "\n",
       "    .dataframe tbody tr th {\n",
       "        vertical-align: top;\n",
       "    }\n",
       "\n",
       "    .dataframe thead th {\n",
       "        text-align: right;\n",
       "    }\n",
       "</style>\n",
       "<table border=\"1\" class=\"dataframe\">\n",
       "  <thead>\n",
       "    <tr style=\"text-align: right;\">\n",
       "      <th></th>\n",
       "      <th>Date</th>\n",
       "      <th>Race</th>\n",
       "      <th>Circuit</th>\n",
       "      <th>Country</th>\n",
       "      <th>Latitude</th>\n",
       "      <th>Longitude</th>\n",
       "      <th>DBSCAN_Clusters</th>\n",
       "    </tr>\n",
       "  </thead>\n",
       "  <tbody>\n",
       "    <tr>\n",
       "      <th>0</th>\n",
       "      <td>2020-03-08</td>\n",
       "      <td>Grand Prix of Qatar</td>\n",
       "      <td>Losail International Circuit</td>\n",
       "      <td>QATAR</td>\n",
       "      <td>25.491000</td>\n",
       "      <td>51.452068</td>\n",
       "      <td>-1</td>\n",
       "    </tr>\n",
       "    <tr>\n",
       "      <th>1</th>\n",
       "      <td>2020-03-22</td>\n",
       "      <td>OR Thailand Grand Prix</td>\n",
       "      <td>Buriram International Circuit</td>\n",
       "      <td>THAILAND</td>\n",
       "      <td>14.963057</td>\n",
       "      <td>103.085589</td>\n",
       "      <td>-1</td>\n",
       "    </tr>\n",
       "    <tr>\n",
       "      <th>2</th>\n",
       "      <td>2020-04-05</td>\n",
       "      <td>Red Bull Grand Prix of The Americas</td>\n",
       "      <td>Circuit Of The Americas</td>\n",
       "      <td>UNITED STATES</td>\n",
       "      <td>30.138715</td>\n",
       "      <td>-97.636410</td>\n",
       "      <td>-1</td>\n",
       "    </tr>\n",
       "    <tr>\n",
       "      <th>3</th>\n",
       "      <td>2020-04-19</td>\n",
       "      <td>Gran Premio Motul de la República Argentina</td>\n",
       "      <td>Termas de Río Hondo</td>\n",
       "      <td>ARGENTINA</td>\n",
       "      <td>-27.495925</td>\n",
       "      <td>-64.864078</td>\n",
       "      <td>-1</td>\n",
       "    </tr>\n",
       "    <tr>\n",
       "      <th>4</th>\n",
       "      <td>2020-10-18</td>\n",
       "      <td>Motul Grand Prix of Japan</td>\n",
       "      <td>Twin Ring Motegi</td>\n",
       "      <td>JAPAN</td>\n",
       "      <td>36.533647</td>\n",
       "      <td>140.229985</td>\n",
       "      <td>-1</td>\n",
       "    </tr>\n",
       "  </tbody>\n",
       "</table>\n",
       "</div>"
      ],
      "text/plain": [
       "         Date                                          Race  \\\n",
       "0  2020-03-08                           Grand Prix of Qatar   \n",
       "1  2020-03-22                       OR Thailand Grand Prix    \n",
       "2  2020-04-05           Red Bull Grand Prix of The Americas   \n",
       "3  2020-04-19   Gran Premio Motul de la República Argentina   \n",
       "4  2020-10-18                     Motul Grand Prix of Japan   \n",
       "\n",
       "                         Circuit        Country   Latitude   Longitude  \\\n",
       "0   Losail International Circuit          QATAR  25.491000   51.452068   \n",
       "1  Buriram International Circuit       THAILAND  14.963057  103.085589   \n",
       "2        Circuit Of The Americas  UNITED STATES  30.138715  -97.636410   \n",
       "3            Termas de Río Hondo      ARGENTINA -27.495925  -64.864078   \n",
       "4               Twin Ring Motegi          JAPAN  36.533647  140.229985   \n",
       "\n",
       "   DBSCAN_Clusters  \n",
       "0               -1  \n",
       "1               -1  \n",
       "2               -1  \n",
       "3               -1  \n",
       "4               -1  "
      ]
     },
     "execution_count": 3,
     "metadata": {},
     "output_type": "execute_result"
    }
   ],
   "source": [
    "outliers.head()"
   ]
  },
  {
   "cell_type": "code",
   "execution_count": 4,
   "metadata": {
    "scrolled": true
   },
   "outputs": [
    {
     "data": {
      "text/html": [
       "<div>\n",
       "<style scoped>\n",
       "    .dataframe tbody tr th:only-of-type {\n",
       "        vertical-align: middle;\n",
       "    }\n",
       "\n",
       "    .dataframe tbody tr th {\n",
       "        vertical-align: top;\n",
       "    }\n",
       "\n",
       "    .dataframe thead th {\n",
       "        text-align: right;\n",
       "    }\n",
       "</style>\n",
       "<table border=\"1\" class=\"dataframe\">\n",
       "  <thead>\n",
       "    <tr style=\"text-align: right;\">\n",
       "      <th></th>\n",
       "      <th>Date</th>\n",
       "      <th>Race</th>\n",
       "      <th>Circuit</th>\n",
       "      <th>Country</th>\n",
       "      <th>Latitude</th>\n",
       "      <th>Longitude</th>\n",
       "      <th>DBSCAN_Clusters</th>\n",
       "      <th>Subcluster</th>\n",
       "    </tr>\n",
       "  </thead>\n",
       "  <tbody>\n",
       "    <tr>\n",
       "      <th>0</th>\n",
       "      <td>2020-05-03</td>\n",
       "      <td>Gran Premio Red Bull de España</td>\n",
       "      <td>Circuito de Jerez</td>\n",
       "      <td>SPAIN</td>\n",
       "      <td>36.694447</td>\n",
       "      <td>-6.156317</td>\n",
       "      <td>0</td>\n",
       "      <td>1</td>\n",
       "    </tr>\n",
       "    <tr>\n",
       "      <th>1</th>\n",
       "      <td>2020-05-17</td>\n",
       "      <td>SHARK Helmets Grand Prix de France</td>\n",
       "      <td>Le Mans</td>\n",
       "      <td>FRANCE</td>\n",
       "      <td>48.007350</td>\n",
       "      <td>0.196738</td>\n",
       "      <td>0</td>\n",
       "      <td>3</td>\n",
       "    </tr>\n",
       "    <tr>\n",
       "      <th>2</th>\n",
       "      <td>2020-05-31</td>\n",
       "      <td>Gran Premio d'Italia Oakley</td>\n",
       "      <td>Autodromo Internazionale del Mugello</td>\n",
       "      <td>ITALY</td>\n",
       "      <td>43.999382</td>\n",
       "      <td>11.372365</td>\n",
       "      <td>0</td>\n",
       "      <td>0</td>\n",
       "    </tr>\n",
       "    <tr>\n",
       "      <th>3</th>\n",
       "      <td>2020-06-07</td>\n",
       "      <td>Gran Premi Monster Energy de Catalunya</td>\n",
       "      <td>Circuit de Barcelona-Catalunya</td>\n",
       "      <td>SPAIN</td>\n",
       "      <td>41.569469</td>\n",
       "      <td>2.258063</td>\n",
       "      <td>0</td>\n",
       "      <td>1</td>\n",
       "    </tr>\n",
       "    <tr>\n",
       "      <th>4</th>\n",
       "      <td>2020-06-21</td>\n",
       "      <td>HJC Helmets Motorrad Grand Prix Deutschland</td>\n",
       "      <td>Sachsenring</td>\n",
       "      <td>GERMANY</td>\n",
       "      <td>50.732860</td>\n",
       "      <td>12.475105</td>\n",
       "      <td>0</td>\n",
       "      <td>0</td>\n",
       "    </tr>\n",
       "  </tbody>\n",
       "</table>\n",
       "</div>"
      ],
      "text/plain": [
       "         Date                                          Race  \\\n",
       "0  2020-05-03                Gran Premio Red Bull de España   \n",
       "1  2020-05-17            SHARK Helmets Grand Prix de France   \n",
       "2  2020-05-31                   Gran Premio d'Italia Oakley   \n",
       "3  2020-06-07        Gran Premi Monster Energy de Catalunya   \n",
       "4  2020-06-21   HJC Helmets Motorrad Grand Prix Deutschland   \n",
       "\n",
       "                                Circuit  Country   Latitude  Longitude  \\\n",
       "0                     Circuito de Jerez    SPAIN  36.694447  -6.156317   \n",
       "1                               Le Mans   FRANCE  48.007350   0.196738   \n",
       "2  Autodromo Internazionale del Mugello    ITALY  43.999382  11.372365   \n",
       "3        Circuit de Barcelona-Catalunya    SPAIN  41.569469   2.258063   \n",
       "4                           Sachsenring  GERMANY  50.732860  12.475105   \n",
       "\n",
       "   DBSCAN_Clusters  Subcluster  \n",
       "0                0           1  \n",
       "1                0           3  \n",
       "2                0           0  \n",
       "3                0           1  \n",
       "4                0           0  "
      ]
     },
     "execution_count": 4,
     "metadata": {},
     "output_type": "execute_result"
    }
   ],
   "source": [
    "big_cluster.head()"
   ]
  },
  {
   "cell_type": "code",
   "execution_count": 5,
   "metadata": {},
   "outputs": [
    {
     "data": {
      "text/plain": [
       "Subcluster\n",
       "0    5\n",
       "1    4\n",
       "3    3\n",
       "dtype: int64"
      ]
     },
     "execution_count": 5,
     "metadata": {},
     "output_type": "execute_result"
    }
   ],
   "source": [
    "big_cluster.groupby('Subcluster').size()"
   ]
  },
  {
   "cell_type": "markdown",
   "metadata": {},
   "source": [
    "#### I will start optimizing internal routes for subclusters."
   ]
  },
  {
   "cell_type": "markdown",
   "metadata": {},
   "source": [
    "## Optimizing routes"
   ]
  },
  {
   "cell_type": "markdown",
   "metadata": {},
   "source": [
    "As the result of applying mlrose is in 'units' and the units of our coordinates are degrees of Latitude and Longitude, it is better to apply mlrose with a matrix of distances previously calculated in km with geopy."
   ]
  },
  {
   "cell_type": "code",
   "execution_count": 6,
   "metadata": {},
   "outputs": [],
   "source": [
    "subclusters = big_cluster['Subcluster'].unique()"
   ]
  },
  {
   "cell_type": "code",
   "execution_count": 7,
   "metadata": {},
   "outputs": [
    {
     "data": {
      "text/plain": [
       "array([1, 3, 0])"
      ]
     },
     "execution_count": 7,
     "metadata": {},
     "output_type": "execute_result"
    }
   ],
   "source": [
    "subclusters"
   ]
  },
  {
   "cell_type": "code",
   "execution_count": 8,
   "metadata": {},
   "outputs": [],
   "source": [
    "from functions import create_dist_list"
   ]
  },
  {
   "cell_type": "code",
   "execution_count": 10,
   "metadata": {},
   "outputs": [],
   "source": [
    "# creating dist lists for all subclusters, applying the function 'create_dist_list':\n",
    "subcluster_dist_dict = {}\n",
    "for cluster in subclusters:\n",
    "    subcluster = big_cluster.loc[big_cluster['Subcluster']==cluster].reset_index(drop=True)\n",
    "    subcluster_dist_dict[cluster] = create_dist_list(subcluster)"
   ]
  },
  {
   "cell_type": "code",
   "execution_count": 11,
   "metadata": {},
   "outputs": [
    {
     "data": {
      "text/plain": [
       "{1: [(0, 1, 906.0416003864943),\n",
       "  (0, 2, 709.20506184732),\n",
       "  (0, 3, 576.0433647759187),\n",
       "  (1, 2, 213.3824218268996),\n",
       "  (1, 3, 335.7240942715326),\n",
       "  (2, 3, 179.43584263435042)],\n",
       " 3: [(0, 1, 710.3446224068731),\n",
       "  (0, 2, 460.3195563371287),\n",
       "  (1, 2, 521.1997578348936)],\n",
       " 0: [(0, 1, 753.2093789744465),\n",
       "  (0, 2, 697.4292716963196),\n",
       "  (0, 3, 445.16349820143387),\n",
       "  (0, 4, 105.31854933139327),\n",
       "  (1, 2, 331.6271130393199),\n",
       "  (1, 3, 424.56157676462203),\n",
       "  (1, 4, 752.9087233093135),\n",
       "  (2, 3, 254.1048870356972),\n",
       "  (2, 4, 650.6950903273602),\n",
       "  (3, 4, 396.9993782118908)]}"
      ]
     },
     "execution_count": 11,
     "metadata": {},
     "output_type": "execute_result"
    }
   ],
   "source": [
    "subcluster_dist_dict"
   ]
  },
  {
   "cell_type": "code",
   "execution_count": 13,
   "metadata": {},
   "outputs": [
    {
     "name": "stderr",
     "output_type": "stream",
     "text": [
      "/usr/local/lib/python3.7/site-packages/sklearn/externals/six.py:31: DeprecationWarning: The module is deprecated in version 0.21 and will be removed in version 0.23 since we've dropped support for Python 2.7. Please rely on the official version of six (https://pypi.org/project/six/).\n",
      "  \"(https://pypi.org/project/six/).\", DeprecationWarning)\n"
     ]
    }
   ],
   "source": [
    "# Calculating best routes:\n",
    "from functions import best_route\n",
    "\n",
    "routes_dict = {}\n",
    "\n",
    "for cluster in subclusters:\n",
    "    best_order, best_dist = best_route(subcluster_dist_dict[cluster])\n",
    "    routes_dict[cluster] = (best_order, best_dist)"
   ]
  },
  {
   "cell_type": "code",
   "execution_count": 14,
   "metadata": {},
   "outputs": [
    {
     "data": {
      "text/plain": [
       "{1: (array([3, 1, 2, 0]), 1834),\n",
       " 3: (array([2, 1, 0]), 1692),\n",
       " 0: (array([1, 0, 4, 3, 2]), 1841)}"
      ]
     },
     "execution_count": 14,
     "metadata": {},
     "output_type": "execute_result"
    }
   ],
   "source": [
    "routes_dict"
   ]
  },
  {
   "cell_type": "markdown",
   "metadata": {},
   "source": [
    "### At this point, I have the best routes for the circuits inside the 3 subclusters. Now I will calculate the best route for the outliers"
   ]
  },
  {
   "cell_type": "code",
   "execution_count": 15,
   "metadata": {},
   "outputs": [],
   "source": [
    "outliers_dist_list = create_dist_list(outliers)"
   ]
  },
  {
   "cell_type": "code",
   "execution_count": 16,
   "metadata": {},
   "outputs": [
    {
     "data": {
      "text/plain": [
       "[(0, 1, 5486.3451291389265),\n",
       " (0, 2, 13027.280851968753),\n",
       " (0, 3, 13748.46427144216),\n",
       " (0, 4, 8270.183074011635),\n",
       " (0, 5, 12038.62218753436),\n",
       " (0, 6, 5934.373927069669),\n",
       " (0, 7, 4365.819538710465),\n",
       " (0, 8, 4365.819538710465),\n",
       " (1, 2, 14545.997308130585),\n",
       " (1, 3, 18150.991002447245),\n",
       " (1, 4, 4384.353204179663),\n",
       " (1, 5, 7369.134897106193),\n",
       " (1, 6, 1357.7900737827379),\n",
       " (1, 7, 7839.468845562157),\n",
       " (1, 8, 7839.468845562157),\n",
       " (2, 3, 7269.066592961213),\n",
       " (2, 4, 10479.282482273198),\n",
       " (2, 5, 14274.208157616871),\n",
       " (2, 6, 15827.81888198896),\n",
       " (2, 7, 8726.736191782999),\n",
       " (2, 8, 8726.736191782999),\n",
       " (3, 4, 17459.966421628003),\n",
       " (3, 5, 12058.974243919298),\n",
       " (3, 6, 16923.7296460576),\n",
       " (3, 7, 12706.666915492708),\n",
       " (3, 8, 12706.666915492708),\n",
       " (4, 5, 8323.338197187517),\n",
       " (4, 6, 5435.523367568314),\n",
       " (4, 7, 7663.212564868035),\n",
       " (4, 8, 7663.212564868035),\n",
       " (5, 6, 6386.1405068187905),\n",
       " (5, 7, 15179.42626628677),\n",
       " (5, 8, 15179.42626628677),\n",
       " (6, 7, 8943.668223441835),\n",
       " (6, 8, 8943.668223441835),\n",
       " (7, 8, 0.0)]"
      ]
     },
     "execution_count": 16,
     "metadata": {},
     "output_type": "execute_result"
    }
   ],
   "source": [
    "outliers_dist_list"
   ]
  },
  {
   "cell_type": "code",
   "execution_count": 17,
   "metadata": {},
   "outputs": [
    {
     "data": {
      "text/html": [
       "<div>\n",
       "<style scoped>\n",
       "    .dataframe tbody tr th:only-of-type {\n",
       "        vertical-align: middle;\n",
       "    }\n",
       "\n",
       "    .dataframe tbody tr th {\n",
       "        vertical-align: top;\n",
       "    }\n",
       "\n",
       "    .dataframe thead th {\n",
       "        text-align: right;\n",
       "    }\n",
       "</style>\n",
       "<table border=\"1\" class=\"dataframe\">\n",
       "  <thead>\n",
       "    <tr style=\"text-align: right;\">\n",
       "      <th></th>\n",
       "      <th>Date</th>\n",
       "      <th>Race</th>\n",
       "      <th>Circuit</th>\n",
       "      <th>Country</th>\n",
       "      <th>Latitude</th>\n",
       "      <th>Longitude</th>\n",
       "      <th>DBSCAN_Clusters</th>\n",
       "    </tr>\n",
       "  </thead>\n",
       "  <tbody>\n",
       "    <tr>\n",
       "      <th>0</th>\n",
       "      <td>2020-03-08</td>\n",
       "      <td>Grand Prix of Qatar</td>\n",
       "      <td>Losail International Circuit</td>\n",
       "      <td>QATAR</td>\n",
       "      <td>25.491000</td>\n",
       "      <td>51.452068</td>\n",
       "      <td>-1</td>\n",
       "    </tr>\n",
       "    <tr>\n",
       "      <th>1</th>\n",
       "      <td>2020-03-22</td>\n",
       "      <td>OR Thailand Grand Prix</td>\n",
       "      <td>Buriram International Circuit</td>\n",
       "      <td>THAILAND</td>\n",
       "      <td>14.963057</td>\n",
       "      <td>103.085589</td>\n",
       "      <td>-1</td>\n",
       "    </tr>\n",
       "    <tr>\n",
       "      <th>2</th>\n",
       "      <td>2020-04-05</td>\n",
       "      <td>Red Bull Grand Prix of The Americas</td>\n",
       "      <td>Circuit Of The Americas</td>\n",
       "      <td>UNITED STATES</td>\n",
       "      <td>30.138715</td>\n",
       "      <td>-97.636410</td>\n",
       "      <td>-1</td>\n",
       "    </tr>\n",
       "    <tr>\n",
       "      <th>3</th>\n",
       "      <td>2020-04-19</td>\n",
       "      <td>Gran Premio Motul de la República Argentina</td>\n",
       "      <td>Termas de Río Hondo</td>\n",
       "      <td>ARGENTINA</td>\n",
       "      <td>-27.495925</td>\n",
       "      <td>-64.864078</td>\n",
       "      <td>-1</td>\n",
       "    </tr>\n",
       "    <tr>\n",
       "      <th>4</th>\n",
       "      <td>2020-10-18</td>\n",
       "      <td>Motul Grand Prix of Japan</td>\n",
       "      <td>Twin Ring Motegi</td>\n",
       "      <td>JAPAN</td>\n",
       "      <td>36.533647</td>\n",
       "      <td>140.229985</td>\n",
       "      <td>-1</td>\n",
       "    </tr>\n",
       "    <tr>\n",
       "      <th>5</th>\n",
       "      <td>2020-10-25</td>\n",
       "      <td>Australian Motorcycle Grand Prix</td>\n",
       "      <td>Phillip Island</td>\n",
       "      <td>AUSTRALIA</td>\n",
       "      <td>-38.496688</td>\n",
       "      <td>145.238917</td>\n",
       "      <td>-1</td>\n",
       "    </tr>\n",
       "    <tr>\n",
       "      <th>6</th>\n",
       "      <td>2020-11-01</td>\n",
       "      <td>Shell Malaysia Motorcycle Grand Prix</td>\n",
       "      <td>Sepang International Circuit</td>\n",
       "      <td>MALAYSIA</td>\n",
       "      <td>2.760191</td>\n",
       "      <td>101.736859</td>\n",
       "      <td>-1</td>\n",
       "    </tr>\n",
       "    <tr>\n",
       "      <th>7</th>\n",
       "      <td>2020-07-12</td>\n",
       "      <td>Finland Grand Prix</td>\n",
       "      <td>KymiRing</td>\n",
       "      <td>FINLAND</td>\n",
       "      <td>60.881176</td>\n",
       "      <td>26.478826</td>\n",
       "      <td>0</td>\n",
       "    </tr>\n",
       "    <tr>\n",
       "      <th>8</th>\n",
       "      <td>2020-07-12</td>\n",
       "      <td>Finland Grand Prix</td>\n",
       "      <td>KymiRing</td>\n",
       "      <td>FINLAND</td>\n",
       "      <td>60.881176</td>\n",
       "      <td>26.478826</td>\n",
       "      <td>0</td>\n",
       "    </tr>\n",
       "  </tbody>\n",
       "</table>\n",
       "</div>"
      ],
      "text/plain": [
       "         Date                                          Race  \\\n",
       "0  2020-03-08                           Grand Prix of Qatar   \n",
       "1  2020-03-22                       OR Thailand Grand Prix    \n",
       "2  2020-04-05           Red Bull Grand Prix of The Americas   \n",
       "3  2020-04-19   Gran Premio Motul de la República Argentina   \n",
       "4  2020-10-18                     Motul Grand Prix of Japan   \n",
       "5  2020-10-25              Australian Motorcycle Grand Prix   \n",
       "6  2020-11-01          Shell Malaysia Motorcycle Grand Prix   \n",
       "7  2020-07-12                            Finland Grand Prix   \n",
       "8  2020-07-12                            Finland Grand Prix   \n",
       "\n",
       "                         Circuit        Country   Latitude   Longitude  \\\n",
       "0   Losail International Circuit          QATAR  25.491000   51.452068   \n",
       "1  Buriram International Circuit       THAILAND  14.963057  103.085589   \n",
       "2        Circuit Of The Americas  UNITED STATES  30.138715  -97.636410   \n",
       "3            Termas de Río Hondo      ARGENTINA -27.495925  -64.864078   \n",
       "4               Twin Ring Motegi          JAPAN  36.533647  140.229985   \n",
       "5                 Phillip Island      AUSTRALIA -38.496688  145.238917   \n",
       "6   Sepang International Circuit       MALAYSIA   2.760191  101.736859   \n",
       "7                       KymiRing        FINLAND  60.881176   26.478826   \n",
       "8                       KymiRing        FINLAND  60.881176   26.478826   \n",
       "\n",
       "   DBSCAN_Clusters  \n",
       "0               -1  \n",
       "1               -1  \n",
       "2               -1  \n",
       "3               -1  \n",
       "4               -1  \n",
       "5               -1  \n",
       "6               -1  \n",
       "7                0  \n",
       "8                0  "
      ]
     },
     "execution_count": 17,
     "metadata": {},
     "output_type": "execute_result"
    }
   ],
   "source": [
    "outliers"
   ]
  },
  {
   "cell_type": "code",
   "execution_count": null,
   "metadata": {},
   "outputs": [],
   "source": []
  },
  {
   "cell_type": "markdown",
   "metadata": {},
   "source": [
    "### Subcluster 2"
   ]
  },
  {
   "cell_type": "code",
   "execution_count": null,
   "metadata": {},
   "outputs": [],
   "source": [
    "# creating a list with distances between circuits:\n",
    "subcluster2 = circuits.query('Subcluster == 2').reset_index(drop=True)\n",
    "\n",
    "dist_list2 = []\n",
    "\n",
    "for i in subcluster2.index:\n",
    "    for j in subcluster2.index:\n",
    "        if i < j: \n",
    "            coord_i = (subcluster2.loc[i,'Latitude'],subcluster2.loc[i,'Longitude'])\n",
    "            coord_j = (subcluster2.loc[j,'Latitude'],subcluster2.loc[j,'Longitude'])\n",
    "\n",
    "            dist = distance.distance(coord_i, coord_j).km\n",
    "\n",
    "            dist_list2.append((i, j, dist))"
   ]
  },
  {
   "cell_type": "code",
   "execution_count": null,
   "metadata": {},
   "outputs": [],
   "source": [
    "dist_list2"
   ]
  },
  {
   "cell_type": "code",
   "execution_count": null,
   "metadata": {},
   "outputs": [],
   "source": [
    "# defining a function to apply all the steps for mlrose\n",
    "\n",
    "import math\n",
    "\n",
    "def route_calc(dist_list):\n",
    "    # Initialize fitness function object using coords_sub0\n",
    "    fitness_coords = mlrose.TravellingSales(distances = dist_list)\n",
    "    \n",
    "    # Calculating the number of circuits depending on the number of distances in list\n",
    "    # The num of distances is equal to n * (n-1) / 2, being n the number of circuits.\n",
    "    # we want to find n having the num of distances, this is a quadratic function:\n",
    "    # x**2 - x - 2y = 0, being x = n and y = num of distances.\n",
    "    # Solving the equation with math library:\n",
    "    \n",
    "    a = 1\n",
    "    b = -1\n",
    "    c = -2*len(dist_list)\n",
    "    # calculate the discriminant\n",
    "    d = (b**2) - (4*a*c)\n",
    "    # find two solutions\n",
    "    sol1 = (-b-math.sqrt(d))/(2*a)\n",
    "    sol2 = (-b+math.sqrt(d))/(2*a)\n",
    "    \n",
    "    # assigning the positive solution to length, needed for the algorithm\n",
    "    length = max(sol1, sol2)\n",
    "    \n",
    "    # Define optimization problem object\n",
    "    problem_fit = mlrose.TSPOpt(length = length, fitness_fn = fitness_coords, \n",
    "                                maximize = False)\n",
    "    \n",
    "    # Solve using genetic algorithm - attempt 1\n",
    "    best_state1, best_fitness1 = mlrose.genetic_alg(problem_fit, random_state = 2)\n",
    "    \n",
    "    # Solve using genetic algorithm - attempt 2\n",
    "    best_state2, best_fitness2 = mlrose.genetic_alg(problem_fit, mutation_prob = 0.2, \n",
    "                                                  max_attempts = 100, random_state = 2)\n",
    "    \n",
    "    if best_fitness1 < best_fitness2:\n",
    "        return best_state1, round(best_fitness1)\n",
    "    else:\n",
    "        return best_state2, round(best_fitness2)"
   ]
  },
  {
   "cell_type": "code",
   "execution_count": null,
   "metadata": {},
   "outputs": [],
   "source": [
    "best_order2, round_dist2 = route_calc(dist_list2)"
   ]
  },
  {
   "cell_type": "code",
   "execution_count": null,
   "metadata": {},
   "outputs": [],
   "source": [
    "best_order2"
   ]
  },
  {
   "cell_type": "code",
   "execution_count": null,
   "metadata": {},
   "outputs": [],
   "source": [
    "# creating the route with circuit names:\n",
    "best_route2 = []\n",
    "for i in best_order2:\n",
    "    name = subcluster2.loc[i, 'Circuit']\n",
    "    best_route2.append(name)"
   ]
  },
  {
   "cell_type": "code",
   "execution_count": null,
   "metadata": {
    "scrolled": true
   },
   "outputs": [],
   "source": [
    "best_route2"
   ]
  },
  {
   "cell_type": "markdown",
   "metadata": {},
   "source": [
    "#### This is a round route. When calculating the distance for the whole calendar, I will remove one step. By now, I will append the distance to the list."
   ]
  },
  {
   "cell_type": "code",
   "execution_count": null,
   "metadata": {},
   "outputs": [],
   "source": [
    "best_route2.append(round(round_dist2))"
   ]
  },
  {
   "cell_type": "code",
   "execution_count": null,
   "metadata": {},
   "outputs": [],
   "source": [
    "best_route2"
   ]
  },
  {
   "cell_type": "markdown",
   "metadata": {},
   "source": [
    "### Subcluster 1"
   ]
  },
  {
   "cell_type": "code",
   "execution_count": null,
   "metadata": {},
   "outputs": [],
   "source": [
    "# creating a list with distances between circuits:\n",
    "subcluster1 = circuits.query('Subcluster == 1').reset_index(drop=True)\n",
    "\n",
    "dist_list1 = []\n",
    "\n",
    "for i in subcluster1.index:\n",
    "    for j in subcluster1.index:\n",
    "        if i < j: \n",
    "            coord_i = (subcluster1.loc[i,'Latitude'],subcluster1.loc[i,'Longitude'])\n",
    "            coord_j = (subcluster1.loc[j,'Latitude'],subcluster1.loc[j,'Longitude'])\n",
    "\n",
    "            dist = distance.distance(coord_i, coord_j).km\n",
    "\n",
    "            dist_list1.append((i, j, dist))"
   ]
  },
  {
   "cell_type": "code",
   "execution_count": null,
   "metadata": {},
   "outputs": [],
   "source": [
    "dist_list1"
   ]
  },
  {
   "cell_type": "code",
   "execution_count": null,
   "metadata": {},
   "outputs": [],
   "source": [
    "# applying the function\n",
    "best_order1, round_dist1 = route_calc(dist_list1)"
   ]
  },
  {
   "cell_type": "code",
   "execution_count": null,
   "metadata": {},
   "outputs": [],
   "source": [
    "best_order1"
   ]
  },
  {
   "cell_type": "code",
   "execution_count": null,
   "metadata": {},
   "outputs": [],
   "source": [
    "# creating the route with circuit names:\n",
    "best_route1 = []\n",
    "for i in best_order1:\n",
    "    name = subcluster1.loc[i, 'Circuit']\n",
    "    best_route1.append(name)"
   ]
  },
  {
   "cell_type": "code",
   "execution_count": null,
   "metadata": {},
   "outputs": [],
   "source": [
    "best_route1"
   ]
  },
  {
   "cell_type": "code",
   "execution_count": null,
   "metadata": {},
   "outputs": [],
   "source": [
    "# appending the distance\n",
    "best_route1.append(round(round_dist1))"
   ]
  },
  {
   "cell_type": "code",
   "execution_count": null,
   "metadata": {},
   "outputs": [],
   "source": [
    "best_route1"
   ]
  },
  {
   "cell_type": "markdown",
   "metadata": {},
   "source": [
    "### Subcluster 3"
   ]
  },
  {
   "cell_type": "code",
   "execution_count": null,
   "metadata": {},
   "outputs": [],
   "source": [
    "# creating a list with distances between circuits:\n",
    "subcluster3 = circuits.query('Subcluster == 3').reset_index(drop=True)\n",
    "\n",
    "dist_list3 = []\n",
    "\n",
    "for i in subcluster3.index:\n",
    "    for j in subcluster3.index:\n",
    "        if i < j: \n",
    "            coord_i = (subcluster3.loc[i,'Latitude'],subcluster3.loc[i,'Longitude'])\n",
    "            coord_j = (subcluster3.loc[j,'Latitude'],subcluster3.loc[j,'Longitude'])\n",
    "\n",
    "            dist = distance.distance(coord_i, coord_j).km\n",
    "\n",
    "            dist_list3.append((i, j, dist))"
   ]
  },
  {
   "cell_type": "code",
   "execution_count": null,
   "metadata": {},
   "outputs": [],
   "source": [
    "dist_list3"
   ]
  },
  {
   "cell_type": "code",
   "execution_count": null,
   "metadata": {},
   "outputs": [],
   "source": [
    "# applying the function:\n",
    "best_order3, round_dist3 = route_calc(dist_list3)"
   ]
  },
  {
   "cell_type": "code",
   "execution_count": null,
   "metadata": {},
   "outputs": [],
   "source": [
    "best_order3"
   ]
  },
  {
   "cell_type": "code",
   "execution_count": null,
   "metadata": {},
   "outputs": [],
   "source": [
    "# creating the route with circuit names:\n",
    "best_route3 = []\n",
    "for i in best_order3:\n",
    "    name = subcluster3.loc[i, 'Circuit']\n",
    "    best_route3.append(name)"
   ]
  },
  {
   "cell_type": "code",
   "execution_count": null,
   "metadata": {},
   "outputs": [],
   "source": [
    "best_route3"
   ]
  },
  {
   "cell_type": "code",
   "execution_count": null,
   "metadata": {},
   "outputs": [],
   "source": [
    "# appending the round distance\n",
    "best_route3.append(round(round_dist3))"
   ]
  },
  {
   "cell_type": "code",
   "execution_count": null,
   "metadata": {},
   "outputs": [],
   "source": [
    "best_route3"
   ]
  },
  {
   "cell_type": "markdown",
   "metadata": {},
   "source": [
    "### At this point, I have the best routes for the circuits inside the 3 subclusters. Still pending 1 circuit alone in the 4th subclusters and 7 circuits with no subcluster"
   ]
  },
  {
   "cell_type": "markdown",
   "metadata": {},
   "source": [
    "### I will consider this 8 circuits as a new subcluster and calculate the best route between them"
   ]
  },
  {
   "cell_type": "code",
   "execution_count": null,
   "metadata": {},
   "outputs": [],
   "source": [
    "# creating the new dataframe\n",
    "other_circuits = circuits.loc[(circuits['Subcluster'] == 0) | (circuits['Subcluster'] == 'None')].reset_index(drop=True)"
   ]
  },
  {
   "cell_type": "code",
   "execution_count": null,
   "metadata": {},
   "outputs": [],
   "source": [
    "other_circuits"
   ]
  },
  {
   "cell_type": "code",
   "execution_count": null,
   "metadata": {},
   "outputs": [],
   "source": [
    "dist_list_other = []\n",
    "\n",
    "for i in other_circuits.index:\n",
    "    for j in other_circuits.index:\n",
    "        if i < j: \n",
    "            coord_i = (other_circuits.loc[i,'Latitude'],other_circuits.loc[i,'Longitude'])\n",
    "            coord_j = (other_circuits.loc[j,'Latitude'],other_circuits.loc[j,'Longitude'])\n",
    "\n",
    "            dist = distance.distance(coord_i, coord_j).km\n",
    "\n",
    "            dist_list_other.append((i, j, dist))"
   ]
  },
  {
   "cell_type": "code",
   "execution_count": null,
   "metadata": {},
   "outputs": [],
   "source": [
    "dist_list_other"
   ]
  },
  {
   "cell_type": "code",
   "execution_count": null,
   "metadata": {},
   "outputs": [],
   "source": [
    "# applying the function:\n",
    "best_order_other, round_dist_other = route_calc(dist_list_other)"
   ]
  },
  {
   "cell_type": "code",
   "execution_count": null,
   "metadata": {},
   "outputs": [],
   "source": [
    "best_order_other"
   ]
  },
  {
   "cell_type": "code",
   "execution_count": null,
   "metadata": {},
   "outputs": [],
   "source": [
    "# creating the route with circuit names:\n",
    "best_route_other = []\n",
    "for i in best_order_other:\n",
    "    name = other_circuits.loc[i, 'Circuit']\n",
    "    best_route_other.append(name)"
   ]
  },
  {
   "cell_type": "code",
   "execution_count": null,
   "metadata": {},
   "outputs": [],
   "source": [
    "best_route_other"
   ]
  },
  {
   "cell_type": "code",
   "execution_count": null,
   "metadata": {},
   "outputs": [],
   "source": [
    "# appending the round distance\n",
    "best_route_other.append(round(round_dist_other))"
   ]
  },
  {
   "cell_type": "code",
   "execution_count": null,
   "metadata": {},
   "outputs": [],
   "source": [
    "best_route_other"
   ]
  },
  {
   "cell_type": "markdown",
   "metadata": {},
   "source": [
    "### At this point, I have all the distances between points inside each cluster, considering 'the outliers' like a cluster, but these are round distances.\n",
    "\n",
    "### Now it's time to make them linear and calculate distances from one cluster to another and sum them all up.\n",
    "\n",
    "### To do this, as I have one circuit in the 'outliers' which initally was considered in the first calculated cluster, I will consider this circuit as the last stage of the first route. And from this circuit, I will calculate the distance to the nearest circuit of the 3 subclusters.\n",
    "\n",
    "### I will follow this method until I have all the circuits connected."
   ]
  },
  {
   "cell_type": "code",
   "execution_count": null,
   "metadata": {},
   "outputs": [],
   "source": [
    "# defining functions to reorder the route according to last or first circuit\n",
    "import numpy as np   \n",
    "\n",
    "def reordering_last(array, index):\n",
    "    position = int(np.where(array == index)[0]) + 1\n",
    "    return np.roll(array, len(array)-position)\n",
    "\n",
    "def reordering_first(array, index):\n",
    "    position = int(np.where(array == index)[0])\n",
    "    return np.roll(array, -position)"
   ]
  },
  {
   "cell_type": "code",
   "execution_count": null,
   "metadata": {},
   "outputs": [],
   "source": [
    "# defining a function to subtract the distance for the last stage of the round route.\n",
    "\n",
    "def to_subtract(array, dist_list):\n",
    "    for el in dist_list:\n",
    "        if el[0] == array[0] and el[1] == array[-1]:\n",
    "            return el[2]\n",
    "        elif el[0] == array[-1] and el[1] == array[0]:\n",
    "            return el[2]"
   ]
  },
  {
   "cell_type": "code",
   "execution_count": null,
   "metadata": {},
   "outputs": [],
   "source": [
    "# looking for the index of the wanted last circuit\n",
    "last_circuit = other_circuits.query('Subcluster == 0').index[0]"
   ]
  },
  {
   "cell_type": "code",
   "execution_count": null,
   "metadata": {},
   "outputs": [],
   "source": [
    "# applying functions:\n",
    "first_stage = reordering_last(best_order_other, last_circuit)\n",
    "subtract0 = to_subtract(first_stage, dist_list_other)"
   ]
  },
  {
   "cell_type": "code",
   "execution_count": null,
   "metadata": {},
   "outputs": [],
   "source": [
    "# updating the route with circuit names:\n",
    "first_stage_names = []\n",
    "for i in first_stage:\n",
    "    name = other_circuits.loc[i, 'Circuit']\n",
    "    first_stage_names.append(name)"
   ]
  },
  {
   "cell_type": "code",
   "execution_count": null,
   "metadata": {},
   "outputs": [],
   "source": [
    "# appending the distance subtracting the last step\n",
    "first_stage_names.append(round(round_dist_other - subtract0))"
   ]
  },
  {
   "cell_type": "code",
   "execution_count": null,
   "metadata": {},
   "outputs": [],
   "source": [
    "first_stage_names"
   ]
  },
  {
   "cell_type": "markdown",
   "metadata": {},
   "source": [
    "### First stage is defined. Now I will look for the closest circuit to the last circuit of first stage. This will be the starting point for the second stage."
   ]
  },
  {
   "cell_type": "code",
   "execution_count": null,
   "metadata": {},
   "outputs": [],
   "source": [
    "checking_dist = {}\n",
    "\n",
    "for idx in circuits.query('Subcluster != \"None\"').index:\n",
    "    start_lat = circuits.loc[circuits.loc[circuits['Circuit']== first_stage_names[-2]].index[0],'Latitude']\n",
    "    start_lon = circuits.loc[circuits.loc[circuits['Circuit']== first_stage_names[-2]].index[0],'Longitude']\n",
    "    start_coord = (start_lat, start_lon)\n",
    "    \n",
    "    i_lat = circuits.loc[idx,'Latitude']\n",
    "    i_lon = circuits.loc[idx,'Longitude']\n",
    "    i_coord = (i_lat, i_lon)\n",
    "    \n",
    "    dist = distance.distance(start_coord, i_coord).km\n",
    "    if dist > 0:\n",
    "        checking_dist[dist] = circuits.loc[idx,'Circuit']"
   ]
  },
  {
   "cell_type": "code",
   "execution_count": null,
   "metadata": {},
   "outputs": [],
   "source": [
    "# checking the closest circuit to the last step for the first stage:\n",
    "next_circuit = checking_dist[min(checking_dist.keys())]"
   ]
  },
  {
   "cell_type": "code",
   "execution_count": null,
   "metadata": {},
   "outputs": [],
   "source": [
    "# looking for the cluster including the circuit\n",
    "next_cluster = circuits.loc[circuits.loc[circuits['Circuit'] == next_circuit].index[0]\\\n",
    "                            ,'Subcluster']"
   ]
  },
  {
   "cell_type": "markdown",
   "metadata": {},
   "source": [
    "Let's check 'next cluster' and reorder it if necessary, to get the route non-rounded"
   ]
  },
  {
   "cell_type": "code",
   "execution_count": null,
   "metadata": {},
   "outputs": [],
   "source": [
    "print('Next circuit should be',next_circuit,'from subcluster', next_cluster)"
   ]
  },
  {
   "cell_type": "code",
   "execution_count": null,
   "metadata": {},
   "outputs": [],
   "source": [
    "# checking the best order for subcluster 2\n",
    "best_route2"
   ]
  },
  {
   "cell_type": "code",
   "execution_count": null,
   "metadata": {},
   "outputs": [],
   "source": [
    "# as 'Sachsenring' is not in the first place, I need to reorder. I will apply the function\n",
    "# reorder_first to get that circuit in first place.\n",
    "# I also will apply the subtract function to get the distance to subtract.\n",
    "\n",
    "next_circuit_idx = subcluster2.loc[subcluster2['Circuit'] == next_circuit].index[0]\n",
    "second_stage = reordering_first(best_order2, next_circuit_idx)\n",
    "subtract2 = to_subtract(second_stage, dist_list2)"
   ]
  },
  {
   "cell_type": "code",
   "execution_count": null,
   "metadata": {},
   "outputs": [],
   "source": [
    "# updating the route with circuit names:\n",
    "second_stage_names = []\n",
    "for i in second_stage:\n",
    "    name = subcluster2.loc[i, 'Circuit']\n",
    "    second_stage_names.append(name)"
   ]
  },
  {
   "cell_type": "code",
   "execution_count": null,
   "metadata": {},
   "outputs": [],
   "source": [
    "second_stage_names"
   ]
  },
  {
   "cell_type": "code",
   "execution_count": null,
   "metadata": {},
   "outputs": [],
   "source": [
    "# appending the distance subtracting the last step\n",
    "second_stage_names.append(round(round_dist2 - subtract2))"
   ]
  },
  {
   "cell_type": "code",
   "execution_count": null,
   "metadata": {},
   "outputs": [],
   "source": [
    "second_stage_names"
   ]
  },
  {
   "cell_type": "markdown",
   "metadata": {},
   "source": [
    "### Second stage is now defined. Again, turn to look for the closest circuit to the last circuit of second stage. This will be the starting point for the third stage."
   ]
  },
  {
   "cell_type": "code",
   "execution_count": null,
   "metadata": {},
   "outputs": [],
   "source": [
    "checking_dist2 = {}\n",
    "\n",
    "for idx in circuits.loc[(circuits['Subcluster'] == 1) | (circuits['Subcluster'] == 3)].index:\n",
    "    start_lat = circuits.loc[circuits.loc[circuits['Circuit']== second_stage_names[-2]].index[0],'Latitude']\n",
    "    start_lon = circuits.loc[circuits.loc[circuits['Circuit']== second_stage_names[-2]].index[0],'Longitude']\n",
    "    start_coord = (start_lat, start_lon)\n",
    "    \n",
    "    i_lat = circuits.loc[idx,'Latitude']\n",
    "    i_lon = circuits.loc[idx,'Longitude']\n",
    "    i_coord = (i_lat, i_lon)\n",
    "    \n",
    "    dist = distance.distance(start_coord, i_coord).km\n",
    "    if dist > 0:\n",
    "        checking_dist2[dist] = circuits.loc[idx,'Circuit']"
   ]
  },
  {
   "cell_type": "code",
   "execution_count": null,
   "metadata": {},
   "outputs": [],
   "source": [
    "# checking the closest circuit to the last step for the second stage:\n",
    "next_circuit2 = checking_dist2[min(checking_dist2.keys())]"
   ]
  },
  {
   "cell_type": "code",
   "execution_count": null,
   "metadata": {},
   "outputs": [],
   "source": [
    "# looking for the cluster including the circuit\n",
    "next_cluster2 = circuits.loc[circuits.loc[circuits['Circuit'] == next_circuit2].index[0]\\\n",
    "                            ,'Subcluster']"
   ]
  },
  {
   "cell_type": "code",
   "execution_count": null,
   "metadata": {},
   "outputs": [],
   "source": [
    "print('Next circuit should be',next_circuit2,'from subcluster', next_cluster2)"
   ]
  },
  {
   "cell_type": "code",
   "execution_count": null,
   "metadata": {},
   "outputs": [],
   "source": [
    "# checking the best order for subcluster 1\n",
    "best_route1"
   ]
  },
  {
   "cell_type": "code",
   "execution_count": null,
   "metadata": {},
   "outputs": [],
   "source": [
    "# again it is necessary to reorder.\n",
    "next_circuit2_idx = subcluster1.loc[subcluster1['Circuit'] == next_circuit2].index[0]\n",
    "third_stage = reordering_first(best_order1, next_circuit2_idx)\n",
    "subtract1 = to_subtract(third_stage, dist_list1)"
   ]
  },
  {
   "cell_type": "code",
   "execution_count": null,
   "metadata": {},
   "outputs": [],
   "source": [
    "# updating the route with circuit names:\n",
    "third_stage_names = []\n",
    "for i in third_stage:\n",
    "    name = subcluster1.loc[i, 'Circuit']\n",
    "    third_stage_names.append(name)"
   ]
  },
  {
   "cell_type": "code",
   "execution_count": null,
   "metadata": {},
   "outputs": [],
   "source": [
    "third_stage_names"
   ]
  },
  {
   "cell_type": "code",
   "execution_count": null,
   "metadata": {},
   "outputs": [],
   "source": [
    "# appending the distance subtracting the last step\n",
    "third_stage_names.append(round(round_dist1 - subtract1))"
   ]
  },
  {
   "cell_type": "code",
   "execution_count": null,
   "metadata": {},
   "outputs": [],
   "source": [
    "third_stage_names"
   ]
  },
  {
   "cell_type": "markdown",
   "metadata": {},
   "source": [
    "### Third stage defined. One more step to get the whole distances."
   ]
  },
  {
   "cell_type": "code",
   "execution_count": null,
   "metadata": {},
   "outputs": [],
   "source": [
    "checking_dist3 = {}\n",
    "\n",
    "for idx in circuits.loc[circuits['Subcluster'] == 3].index:\n",
    "    start_lat = circuits.loc[circuits.loc[circuits['Circuit']== third_stage_names[-2]].index[0],'Latitude']\n",
    "    start_lon = circuits.loc[circuits.loc[circuits['Circuit']== third_stage_names[-2]].index[0],'Longitude']\n",
    "    start_coord = (start_lat, start_lon)\n",
    "    \n",
    "    i_lat = circuits.loc[idx,'Latitude']\n",
    "    i_lon = circuits.loc[idx,'Longitude']\n",
    "    i_coord = (i_lat, i_lon)\n",
    "    \n",
    "    dist = distance.distance(start_coord, i_coord).km\n",
    "    if dist > 0:\n",
    "        checking_dist3[dist] = circuits.loc[idx,'Circuit']"
   ]
  },
  {
   "cell_type": "code",
   "execution_count": null,
   "metadata": {},
   "outputs": [],
   "source": [
    "checking_dist3"
   ]
  },
  {
   "cell_type": "code",
   "execution_count": null,
   "metadata": {
    "scrolled": true
   },
   "outputs": [],
   "source": [
    "# checking the closest circuit to the last step for the third stage:\n",
    "next_circuit3 = checking_dist3[min(checking_dist3.keys())]"
   ]
  },
  {
   "cell_type": "code",
   "execution_count": null,
   "metadata": {},
   "outputs": [],
   "source": [
    "# looking for the cluster including the circuit. Should be cluster 3, just to confirm\n",
    "next_cluster3 = circuits.loc[circuits.loc[circuits['Circuit'] == next_circuit3].index[0]\\\n",
    "                            ,'Subcluster']"
   ]
  },
  {
   "cell_type": "code",
   "execution_count": null,
   "metadata": {},
   "outputs": [],
   "source": [
    "next_cluster3"
   ]
  },
  {
   "cell_type": "code",
   "execution_count": null,
   "metadata": {},
   "outputs": [],
   "source": [
    "print('Next circuit should be',next_circuit3,'from subcluster', next_cluster3)"
   ]
  },
  {
   "cell_type": "code",
   "execution_count": null,
   "metadata": {},
   "outputs": [],
   "source": [
    "# checking the best order for subcluster 3\n",
    "best_route3"
   ]
  },
  {
   "cell_type": "code",
   "execution_count": null,
   "metadata": {},
   "outputs": [],
   "source": [
    "# once more, it is necessary to reorder.\n",
    "next_circuit3_idx = subcluster3.loc[subcluster3['Circuit'] == next_circuit3].index[0]\n",
    "fourth_stage = reordering_first(best_order3, next_circuit3_idx)\n",
    "subtract3 = to_subtract(fourth_stage, dist_list3)"
   ]
  },
  {
   "cell_type": "code",
   "execution_count": null,
   "metadata": {},
   "outputs": [],
   "source": [
    "# updating the route with circuit names:\n",
    "fourth_stage_names = []\n",
    "for i in fourth_stage:\n",
    "    name = subcluster3.loc[i, 'Circuit']\n",
    "    fourth_stage_names.append(name)"
   ]
  },
  {
   "cell_type": "code",
   "execution_count": null,
   "metadata": {},
   "outputs": [],
   "source": [
    "fourth_stage_names"
   ]
  },
  {
   "cell_type": "code",
   "execution_count": null,
   "metadata": {},
   "outputs": [],
   "source": [
    "# appending the distance subtracting the last step\n",
    "fourth_stage_names.append(round(round_dist3 - subtract3))"
   ]
  },
  {
   "cell_type": "code",
   "execution_count": null,
   "metadata": {},
   "outputs": [],
   "source": [
    "fourth_stage_names"
   ]
  },
  {
   "cell_type": "code",
   "execution_count": null,
   "metadata": {},
   "outputs": [],
   "source": []
  }
 ],
 "metadata": {
  "kernelspec": {
   "display_name": "Python 3",
   "language": "python",
   "name": "python3"
  },
  "language_info": {
   "codemirror_mode": {
    "name": "ipython",
    "version": 3
   },
   "file_extension": ".py",
   "mimetype": "text/x-python",
   "name": "python",
   "nbconvert_exporter": "python",
   "pygments_lexer": "ipython3",
   "version": "3.7.4"
  }
 },
 "nbformat": 4,
 "nbformat_minor": 2
}
