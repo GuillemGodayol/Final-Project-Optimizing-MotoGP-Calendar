{
 "cells": [
  {
   "cell_type": "code",
   "execution_count": 1,
   "metadata": {},
   "outputs": [],
   "source": [
    "import pandas as pd\n",
    "from geopy import distance\n",
    "import numpy as np"
   ]
  },
  {
   "cell_type": "markdown",
   "metadata": {},
   "source": [
    "# ANALYSIS"
   ]
  },
  {
   "cell_type": "code",
   "execution_count": 2,
   "metadata": {},
   "outputs": [],
   "source": [
    "# importing the cluster's dataframes\n",
    "outliers = pd.read_csv('../data/outliers.csv', index_col = 0)\n",
    "big_cluster = pd.read_csv('../data/big_cluster.csv', index_col = 0)"
   ]
  },
  {
   "cell_type": "code",
   "execution_count": 3,
   "metadata": {},
   "outputs": [
    {
     "data": {
      "text/html": [
       "<div>\n",
       "<style scoped>\n",
       "    .dataframe tbody tr th:only-of-type {\n",
       "        vertical-align: middle;\n",
       "    }\n",
       "\n",
       "    .dataframe tbody tr th {\n",
       "        vertical-align: top;\n",
       "    }\n",
       "\n",
       "    .dataframe thead th {\n",
       "        text-align: right;\n",
       "    }\n",
       "</style>\n",
       "<table border=\"1\" class=\"dataframe\">\n",
       "  <thead>\n",
       "    <tr style=\"text-align: right;\">\n",
       "      <th></th>\n",
       "      <th>Date</th>\n",
       "      <th>Race</th>\n",
       "      <th>Circuit</th>\n",
       "      <th>Country</th>\n",
       "      <th>Latitude</th>\n",
       "      <th>Longitude</th>\n",
       "      <th>DBSCAN_Clusters</th>\n",
       "    </tr>\n",
       "  </thead>\n",
       "  <tbody>\n",
       "    <tr>\n",
       "      <th>0</th>\n",
       "      <td>2020-03-08</td>\n",
       "      <td>Grand Prix of Qatar</td>\n",
       "      <td>Losail International Circuit</td>\n",
       "      <td>QATAR</td>\n",
       "      <td>25.491000</td>\n",
       "      <td>51.452068</td>\n",
       "      <td>-1</td>\n",
       "    </tr>\n",
       "    <tr>\n",
       "      <th>1</th>\n",
       "      <td>2020-03-22</td>\n",
       "      <td>OR Thailand Grand Prix</td>\n",
       "      <td>Buriram International Circuit</td>\n",
       "      <td>THAILAND</td>\n",
       "      <td>14.963057</td>\n",
       "      <td>103.085589</td>\n",
       "      <td>-1</td>\n",
       "    </tr>\n",
       "    <tr>\n",
       "      <th>2</th>\n",
       "      <td>2020-04-05</td>\n",
       "      <td>Red Bull Grand Prix of The Americas</td>\n",
       "      <td>Circuit Of The Americas</td>\n",
       "      <td>UNITED STATES</td>\n",
       "      <td>30.138715</td>\n",
       "      <td>-97.636410</td>\n",
       "      <td>-1</td>\n",
       "    </tr>\n",
       "    <tr>\n",
       "      <th>3</th>\n",
       "      <td>2020-04-19</td>\n",
       "      <td>Gran Premio Motul de la República Argentina</td>\n",
       "      <td>Termas de Río Hondo</td>\n",
       "      <td>ARGENTINA</td>\n",
       "      <td>-27.495925</td>\n",
       "      <td>-64.864078</td>\n",
       "      <td>-1</td>\n",
       "    </tr>\n",
       "    <tr>\n",
       "      <th>4</th>\n",
       "      <td>2020-10-18</td>\n",
       "      <td>Motul Grand Prix of Japan</td>\n",
       "      <td>Twin Ring Motegi</td>\n",
       "      <td>JAPAN</td>\n",
       "      <td>36.533647</td>\n",
       "      <td>140.229985</td>\n",
       "      <td>-1</td>\n",
       "    </tr>\n",
       "  </tbody>\n",
       "</table>\n",
       "</div>"
      ],
      "text/plain": [
       "         Date                                          Race  \\\n",
       "0  2020-03-08                           Grand Prix of Qatar   \n",
       "1  2020-03-22                       OR Thailand Grand Prix    \n",
       "2  2020-04-05           Red Bull Grand Prix of The Americas   \n",
       "3  2020-04-19   Gran Premio Motul de la República Argentina   \n",
       "4  2020-10-18                     Motul Grand Prix of Japan   \n",
       "\n",
       "                         Circuit        Country   Latitude   Longitude  \\\n",
       "0   Losail International Circuit          QATAR  25.491000   51.452068   \n",
       "1  Buriram International Circuit       THAILAND  14.963057  103.085589   \n",
       "2        Circuit Of The Americas  UNITED STATES  30.138715  -97.636410   \n",
       "3            Termas de Río Hondo      ARGENTINA -27.495925  -64.864078   \n",
       "4               Twin Ring Motegi          JAPAN  36.533647  140.229985   \n",
       "\n",
       "   DBSCAN_Clusters  \n",
       "0               -1  \n",
       "1               -1  \n",
       "2               -1  \n",
       "3               -1  \n",
       "4               -1  "
      ]
     },
     "execution_count": 3,
     "metadata": {},
     "output_type": "execute_result"
    }
   ],
   "source": [
    "outliers.head()"
   ]
  },
  {
   "cell_type": "code",
   "execution_count": 4,
   "metadata": {
    "scrolled": true
   },
   "outputs": [
    {
     "data": {
      "text/html": [
       "<div>\n",
       "<style scoped>\n",
       "    .dataframe tbody tr th:only-of-type {\n",
       "        vertical-align: middle;\n",
       "    }\n",
       "\n",
       "    .dataframe tbody tr th {\n",
       "        vertical-align: top;\n",
       "    }\n",
       "\n",
       "    .dataframe thead th {\n",
       "        text-align: right;\n",
       "    }\n",
       "</style>\n",
       "<table border=\"1\" class=\"dataframe\">\n",
       "  <thead>\n",
       "    <tr style=\"text-align: right;\">\n",
       "      <th></th>\n",
       "      <th>Date</th>\n",
       "      <th>Race</th>\n",
       "      <th>Circuit</th>\n",
       "      <th>Country</th>\n",
       "      <th>Latitude</th>\n",
       "      <th>Longitude</th>\n",
       "      <th>DBSCAN_Clusters</th>\n",
       "      <th>Subcluster</th>\n",
       "    </tr>\n",
       "  </thead>\n",
       "  <tbody>\n",
       "    <tr>\n",
       "      <th>0</th>\n",
       "      <td>2020-05-03</td>\n",
       "      <td>Gran Premio Red Bull de España</td>\n",
       "      <td>Circuito de Jerez</td>\n",
       "      <td>SPAIN</td>\n",
       "      <td>36.694447</td>\n",
       "      <td>-6.156317</td>\n",
       "      <td>0</td>\n",
       "      <td>0</td>\n",
       "    </tr>\n",
       "    <tr>\n",
       "      <th>1</th>\n",
       "      <td>2020-05-17</td>\n",
       "      <td>SHARK Helmets Grand Prix de France</td>\n",
       "      <td>Le Mans</td>\n",
       "      <td>FRANCE</td>\n",
       "      <td>48.007350</td>\n",
       "      <td>0.196738</td>\n",
       "      <td>0</td>\n",
       "      <td>2</td>\n",
       "    </tr>\n",
       "    <tr>\n",
       "      <th>2</th>\n",
       "      <td>2020-05-31</td>\n",
       "      <td>Gran Premio d'Italia Oakley</td>\n",
       "      <td>Autodromo Internazionale del Mugello</td>\n",
       "      <td>ITALY</td>\n",
       "      <td>43.999382</td>\n",
       "      <td>11.372365</td>\n",
       "      <td>0</td>\n",
       "      <td>1</td>\n",
       "    </tr>\n",
       "    <tr>\n",
       "      <th>3</th>\n",
       "      <td>2020-06-07</td>\n",
       "      <td>Gran Premi Monster Energy de Catalunya</td>\n",
       "      <td>Circuit de Barcelona-Catalunya</td>\n",
       "      <td>SPAIN</td>\n",
       "      <td>41.569469</td>\n",
       "      <td>2.258063</td>\n",
       "      <td>0</td>\n",
       "      <td>0</td>\n",
       "    </tr>\n",
       "    <tr>\n",
       "      <th>4</th>\n",
       "      <td>2020-06-21</td>\n",
       "      <td>HJC Helmets Motorrad Grand Prix Deutschland</td>\n",
       "      <td>Sachsenring</td>\n",
       "      <td>GERMANY</td>\n",
       "      <td>50.732860</td>\n",
       "      <td>12.475105</td>\n",
       "      <td>0</td>\n",
       "      <td>1</td>\n",
       "    </tr>\n",
       "  </tbody>\n",
       "</table>\n",
       "</div>"
      ],
      "text/plain": [
       "         Date                                          Race  \\\n",
       "0  2020-05-03                Gran Premio Red Bull de España   \n",
       "1  2020-05-17            SHARK Helmets Grand Prix de France   \n",
       "2  2020-05-31                   Gran Premio d'Italia Oakley   \n",
       "3  2020-06-07        Gran Premi Monster Energy de Catalunya   \n",
       "4  2020-06-21   HJC Helmets Motorrad Grand Prix Deutschland   \n",
       "\n",
       "                                Circuit  Country   Latitude  Longitude  \\\n",
       "0                     Circuito de Jerez    SPAIN  36.694447  -6.156317   \n",
       "1                               Le Mans   FRANCE  48.007350   0.196738   \n",
       "2  Autodromo Internazionale del Mugello    ITALY  43.999382  11.372365   \n",
       "3        Circuit de Barcelona-Catalunya    SPAIN  41.569469   2.258063   \n",
       "4                           Sachsenring  GERMANY  50.732860  12.475105   \n",
       "\n",
       "   DBSCAN_Clusters  Subcluster  \n",
       "0                0           0  \n",
       "1                0           2  \n",
       "2                0           1  \n",
       "3                0           0  \n",
       "4                0           1  "
      ]
     },
     "execution_count": 4,
     "metadata": {},
     "output_type": "execute_result"
    }
   ],
   "source": [
    "big_cluster.head()"
   ]
  },
  {
   "cell_type": "code",
   "execution_count": 5,
   "metadata": {},
   "outputs": [
    {
     "data": {
      "text/plain": [
       "1    5\n",
       "0    4\n",
       "2    3\n",
       "Name: Subcluster, dtype: int64"
      ]
     },
     "execution_count": 5,
     "metadata": {},
     "output_type": "execute_result"
    }
   ],
   "source": [
    "big_cluster['Subcluster'].value_counts()"
   ]
  },
  {
   "cell_type": "markdown",
   "metadata": {},
   "source": [
    "#### I will start optimizing internal routes for subclusters."
   ]
  },
  {
   "cell_type": "markdown",
   "metadata": {},
   "source": [
    "## Optimizing routes"
   ]
  },
  {
   "cell_type": "markdown",
   "metadata": {},
   "source": [
    "As the result of applying mlrose is in 'units' and the units of our coordinates are degrees of Latitude and Longitude, it is better to apply mlrose with a matrix of distances previously calculated in km with geopy."
   ]
  },
  {
   "cell_type": "code",
   "execution_count": 6,
   "metadata": {},
   "outputs": [],
   "source": [
    "subclusters = np.sort(big_cluster['Subcluster'].unique())"
   ]
  },
  {
   "cell_type": "code",
   "execution_count": 7,
   "metadata": {},
   "outputs": [
    {
     "data": {
      "text/plain": [
       "array([0, 1, 2])"
      ]
     },
     "execution_count": 7,
     "metadata": {},
     "output_type": "execute_result"
    }
   ],
   "source": [
    "np.sort(subclusters)"
   ]
  },
  {
   "cell_type": "code",
   "execution_count": 8,
   "metadata": {},
   "outputs": [],
   "source": [
    "# creating new dataframes for subclusters, so after we can retrieve information\n",
    "sub0 = big_cluster.loc[big_cluster['Subcluster'] == subclusters[0]].reset_index(drop=True)\n",
    "sub1 = big_cluster.loc[big_cluster['Subcluster'] == subclusters[1]].reset_index(drop=True)\n",
    "sub2 = big_cluster.loc[big_cluster['Subcluster'] == subclusters[2]].reset_index(drop=True)"
   ]
  },
  {
   "cell_type": "code",
   "execution_count": 9,
   "metadata": {},
   "outputs": [],
   "source": [
    "from functions import create_dist_list"
   ]
  },
  {
   "cell_type": "code",
   "execution_count": 10,
   "metadata": {},
   "outputs": [],
   "source": [
    "# creating dist lists for all subclusters, applying the function 'create_dist_list':\n",
    "subcluster_dist_dict = {}\n",
    "subcluster_dist_dict[0] = create_dist_list(sub0)\n",
    "subcluster_dist_dict[1] = create_dist_list(sub1)\n",
    "subcluster_dist_dict[2] = create_dist_list(sub2)"
   ]
  },
  {
   "cell_type": "code",
   "execution_count": 11,
   "metadata": {},
   "outputs": [
    {
     "data": {
      "text/plain": [
       "{0: [(0, 1, 906.0416003864943),\n",
       "  (0, 2, 709.20506184732),\n",
       "  (0, 3, 576.0433647759187),\n",
       "  (1, 2, 213.3824218268996),\n",
       "  (1, 3, 335.7240942715326),\n",
       "  (2, 3, 179.43584263435042)],\n",
       " 1: [(0, 1, 753.2093789744465),\n",
       "  (0, 2, 697.4292716963196),\n",
       "  (0, 3, 445.16349820143387),\n",
       "  (0, 4, 105.31854933139327),\n",
       "  (1, 2, 331.6271130393199),\n",
       "  (1, 3, 424.56157676462203),\n",
       "  (1, 4, 752.9087233093135),\n",
       "  (2, 3, 254.1048870356972),\n",
       "  (2, 4, 650.6950903273602),\n",
       "  (3, 4, 396.9993782118908)],\n",
       " 2: [(0, 1, 710.3446224068731),\n",
       "  (0, 2, 460.3195563371287),\n",
       "  (1, 2, 521.1997578348936)]}"
      ]
     },
     "execution_count": 11,
     "metadata": {},
     "output_type": "execute_result"
    }
   ],
   "source": [
    "subcluster_dist_dict"
   ]
  },
  {
   "cell_type": "code",
   "execution_count": 12,
   "metadata": {},
   "outputs": [
    {
     "name": "stderr",
     "output_type": "stream",
     "text": [
      "/usr/local/lib/python3.7/site-packages/sklearn/externals/six.py:31: DeprecationWarning: The module is deprecated in version 0.21 and will be removed in version 0.23 since we've dropped support for Python 2.7. Please rely on the official version of six (https://pypi.org/project/six/).\n",
      "  \"(https://pypi.org/project/six/).\", DeprecationWarning)\n"
     ]
    }
   ],
   "source": [
    "# Calculating best routes:\n",
    "from functions import best_route\n",
    "\n",
    "routes_dict = {}\n",
    "\n",
    "for cluster in subclusters:\n",
    "    best_order, best_dist = best_route(subcluster_dist_dict[cluster])\n",
    "    routes_dict[cluster] = (best_order, best_dist)"
   ]
  },
  {
   "cell_type": "code",
   "execution_count": 13,
   "metadata": {},
   "outputs": [
    {
     "data": {
      "text/plain": [
       "{0: (array([3, 1, 2, 0]), 1834),\n",
       " 1: (array([1, 0, 4, 3, 2]), 1841),\n",
       " 2: (array([2, 1, 0]), 1692)}"
      ]
     },
     "execution_count": 13,
     "metadata": {},
     "output_type": "execute_result"
    }
   ],
   "source": [
    "routes_dict"
   ]
  },
  {
   "cell_type": "markdown",
   "metadata": {},
   "source": [
    "### At this point, I have the best routes for the circuits inside the 3 subclusters. Now I will calculate the best route for the outliers"
   ]
  },
  {
   "cell_type": "code",
   "execution_count": 14,
   "metadata": {},
   "outputs": [],
   "source": [
    "outliers_dist_list = create_dist_list(outliers)"
   ]
  },
  {
   "cell_type": "code",
   "execution_count": 15,
   "metadata": {},
   "outputs": [
    {
     "data": {
      "text/plain": [
       "[(0, 1, 5486.3451291389265),\n",
       " (0, 2, 13027.280851968753),\n",
       " (0, 3, 13748.46427144216),\n",
       " (0, 4, 8270.183074011635),\n",
       " (0, 5, 12038.62218753436),\n",
       " (0, 6, 5934.373927069669),\n",
       " (0, 7, 4365.819538710465),\n",
       " (1, 2, 14545.997308130585),\n",
       " (1, 3, 18150.991002447245),\n",
       " (1, 4, 4384.353204179663),\n",
       " (1, 5, 7369.134897106193),\n",
       " (1, 6, 1357.7900737827379),\n",
       " (1, 7, 7839.468845562157),\n",
       " (2, 3, 7269.066592961213),\n",
       " (2, 4, 10479.282482273198),\n",
       " (2, 5, 14274.208157616871),\n",
       " (2, 6, 15827.81888198896),\n",
       " (2, 7, 8726.736191782999),\n",
       " (3, 4, 17459.966421628003),\n",
       " (3, 5, 12058.974243919298),\n",
       " (3, 6, 16923.7296460576),\n",
       " (3, 7, 12706.666915492708),\n",
       " (4, 5, 8323.338197187517),\n",
       " (4, 6, 5435.523367568314),\n",
       " (4, 7, 7663.212564868035),\n",
       " (5, 6, 6386.1405068187905),\n",
       " (5, 7, 15179.42626628677),\n",
       " (6, 7, 8943.668223441835)]"
      ]
     },
     "execution_count": 15,
     "metadata": {},
     "output_type": "execute_result"
    }
   ],
   "source": [
    "outliers_dist_list"
   ]
  },
  {
   "cell_type": "code",
   "execution_count": 16,
   "metadata": {},
   "outputs": [],
   "source": [
    "outliers_best_route = best_route(outliers_dist_list)"
   ]
  },
  {
   "cell_type": "markdown",
   "metadata": {},
   "source": [
    "### At this point, I have all the distances between points inside each cluster, considering 'the outliers' like a cluster, but these are round distances.\n",
    "\n",
    "### Now it's time to make them linear and calculate distances from one cluster to another and sum them all up.\n",
    "\n",
    "### To do this, as I have one circuit in the 'outliers' which initally was considered in the first calculated cluster, I will consider this circuit as the last stage of the first route. And from this circuit, I will calculate the distance to the nearest circuit of the 3 subclusters.\n",
    "\n",
    "### I will follow this method until I have all the circuits connected."
   ]
  },
  {
   "cell_type": "markdown",
   "metadata": {},
   "source": [
    "## STAGE 1"
   ]
  },
  {
   "cell_type": "code",
   "execution_count": 17,
   "metadata": {},
   "outputs": [],
   "source": [
    "# looking for the index of the wanted last circuit, in outliers\n",
    "s1_last = outliers.query('DBSCAN_Clusters == 0').index[0]"
   ]
  },
  {
   "cell_type": "code",
   "execution_count": 18,
   "metadata": {},
   "outputs": [],
   "source": [
    "# importing needed functions\n",
    "from functions import reordering_last\n",
    "from functions import reordering_first\n",
    "from functions import to_subtract"
   ]
  },
  {
   "cell_type": "code",
   "execution_count": 19,
   "metadata": {},
   "outputs": [],
   "source": [
    "# applying functions:\n",
    "s1 = reordering_last(outliers_best_route[0], s1_last)\n",
    "s1_sub = to_subtract(s1, outliers_dist_list)"
   ]
  },
  {
   "cell_type": "code",
   "execution_count": 20,
   "metadata": {},
   "outputs": [],
   "source": [
    "# calculating the distance considering s1 an open route:\n",
    "s1_dist = outliers_best_route[1] - s1_sub"
   ]
  },
  {
   "cell_type": "code",
   "execution_count": 38,
   "metadata": {},
   "outputs": [],
   "source": [
    "# creating the list for the whole calendar and the total length:\n",
    "new_calendar = []\n",
    "new_length = 0\n",
    "\n",
    "# appending names for this stage\n",
    "for i in s1:\n",
    "    name = outliers.loc[i, 'Circuit']\n",
    "    new_calendar.append(name)\n",
    "\n",
    "# adding stage length\n",
    "new_length += round(s1_dist)"
   ]
  },
  {
   "cell_type": "code",
   "execution_count": 21,
   "metadata": {},
   "outputs": [],
   "source": [
    "# calculating the shortest distance from last point of stage 1 to the others\n",
    "# this will determine the cluster for second stage\n",
    "\n",
    "checking_dist = {}\n",
    "\n",
    "for idx in big_cluster.index:\n",
    "    start_lat = outliers.loc[s1_last,'Latitude']\n",
    "    start_lon = outliers.loc[s1_last,'Longitude']\n",
    "    start_coord = (start_lat, start_lon)\n",
    "    \n",
    "    i_lat = big_cluster.loc[idx,'Latitude']\n",
    "    i_lon = big_cluster.loc[idx,'Longitude']\n",
    "    i_coord = (i_lat, i_lon)\n",
    "    \n",
    "    dist = distance.distance(start_coord, i_coord).km\n",
    "    if dist > 0:\n",
    "        checking_dist[dist] = big_cluster.loc[idx,'Circuit']"
   ]
  },
  {
   "cell_type": "code",
   "execution_count": 22,
   "metadata": {},
   "outputs": [],
   "source": [
    "# assigning the distance from stage 1 to stage 2 = min distance from last point of\n",
    "# cluster 'outliers' and first point of next cluster.\n",
    "s1_s2_dist = min(checking_dist.keys())"
   ]
  },
  {
   "cell_type": "code",
   "execution_count": 40,
   "metadata": {},
   "outputs": [],
   "source": [
    "# updating new_lenght\n",
    "new_length += round(s1_s2_dist)"
   ]
  },
  {
   "cell_type": "markdown",
   "metadata": {},
   "source": [
    "## STAGE 2"
   ]
  },
  {
   "cell_type": "code",
   "execution_count": 23,
   "metadata": {},
   "outputs": [],
   "source": [
    "# checking the name of the circuit for the next cluster\n",
    "s2_first_name = checking_dist[s1_s2_dist]"
   ]
  },
  {
   "cell_type": "code",
   "execution_count": 24,
   "metadata": {
    "scrolled": true
   },
   "outputs": [],
   "source": [
    "# getting the index of the next cluster from circuit name\n",
    "cluster_s2 = big_cluster.loc[big_cluster['Circuit'] == s2_first_name]['Subcluster'].values[0]"
   ]
  },
  {
   "cell_type": "code",
   "execution_count": 50,
   "metadata": {},
   "outputs": [
    {
     "name": "stdout",
     "output_type": "stream",
     "text": [
      "1\n"
     ]
    }
   ],
   "source": [
    "print(cluster_s2)"
   ]
  },
  {
   "cell_type": "code",
   "execution_count": 26,
   "metadata": {},
   "outputs": [],
   "source": [
    "# getting the index of the subcluster for the first circuit of second cluster\n",
    "s2_first = sub1.loc[sub1['Circuit'] == s2_first_name].index[0]"
   ]
  },
  {
   "cell_type": "code",
   "execution_count": 30,
   "metadata": {},
   "outputs": [],
   "source": [
    "# applying functions to reorder and get distance to subtract:\n",
    "s2 = reordering_first(routes_dict[cluster_s2][0], s2_first)\n",
    "s2_sub = to_subtract(s2, subcluster_dist_dict[cluster_s2])"
   ]
  },
  {
   "cell_type": "code",
   "execution_count": 34,
   "metadata": {},
   "outputs": [],
   "source": [
    "# calculating the distance considering s2 an open route:\n",
    "s2_dist = routes_dict[cluster_s2][1] - s2_sub"
   ]
  },
  {
   "cell_type": "code",
   "execution_count": 41,
   "metadata": {},
   "outputs": [],
   "source": [
    "# appending names for this stage\n",
    "for i in s2:\n",
    "    name = sub1.loc[i, 'Circuit']\n",
    "    new_calendar.append(name)\n",
    "\n",
    "# adding stage length\n",
    "new_length += round(s2_dist)"
   ]
  },
  {
   "cell_type": "code",
   "execution_count": 44,
   "metadata": {},
   "outputs": [],
   "source": [
    "# calculating the shortest distance from last point of stage 2 to the others\n",
    "# this will determine the cluster for third stage\n",
    "\n",
    "checking_dist = {}\n",
    "\n",
    "for idx in big_cluster.loc[big_cluster['Subcluster'] != 1].index:\n",
    "    start_lat = sub1.loc[s2[-1],'Latitude']\n",
    "    start_lon = sub1.loc[s2[-1],'Longitude']\n",
    "    start_coord = (start_lat, start_lon)\n",
    "    \n",
    "    i_lat = big_cluster.loc[idx,'Latitude']\n",
    "    i_lon = big_cluster.loc[idx,'Longitude']\n",
    "    i_coord = (i_lat, i_lon)\n",
    "    \n",
    "    dist = distance.distance(start_coord, i_coord).km\n",
    "    if dist > 0:\n",
    "        checking_dist[dist] = big_cluster.loc[idx,'Circuit']"
   ]
  },
  {
   "cell_type": "code",
   "execution_count": 46,
   "metadata": {},
   "outputs": [],
   "source": [
    "# assigning the distance from stage 2 to stage 3 = min distance from last point of\n",
    "# cluster 'sub1' and first point of next cluster.\n",
    "s2_s3_dist = min(checking_dist.keys())"
   ]
  },
  {
   "cell_type": "code",
   "execution_count": 48,
   "metadata": {},
   "outputs": [],
   "source": [
    "# updating new_lenght\n",
    "new_length += round(s2_s3_dist)"
   ]
  },
  {
   "cell_type": "markdown",
   "metadata": {},
   "source": [
    "## STAGE 3"
   ]
  },
  {
   "cell_type": "code",
   "execution_count": 51,
   "metadata": {},
   "outputs": [
    {
     "name": "stdout",
     "output_type": "stream",
     "text": [
      "2\n"
     ]
    }
   ],
   "source": [
    "# checking the name of the circuit for the next cluster\n",
    "s3_first_name = checking_dist[s2_s3_dist]\n",
    "\n",
    "# getting the index of the next cluster from circuit name\n",
    "cluster_s3 = big_cluster.loc[big_cluster['Circuit'] == s3_first_name]['Subcluster'].values[0]\n",
    "\n",
    "print(cluster_s3)"
   ]
  },
  {
   "cell_type": "code",
   "execution_count": 52,
   "metadata": {},
   "outputs": [],
   "source": [
    "# getting the index of the subcluster for the first circuit of second cluster\n",
    "s3_first = sub2.loc[sub2['Circuit'] == s3_first_name].index[0]\n",
    "\n",
    "# applying functions to reorder and get distance to subtract:\n",
    "s3 = reordering_first(routes_dict[cluster_s3][0], s3_first)\n",
    "s3_sub = to_subtract(s3, subcluster_dist_dict[cluster_s3])\n",
    "\n",
    "# calculating the distance considering s3 an open route:\n",
    "s3_dist = routes_dict[cluster_s3][1] - s3_sub"
   ]
  },
  {
   "cell_type": "code",
   "execution_count": 54,
   "metadata": {},
   "outputs": [],
   "source": [
    "# appending names for this stage\n",
    "for i in s3:\n",
    "    name = sub2.loc[i, 'Circuit']\n",
    "    new_calendar.append(name)\n",
    "\n",
    "# adding stage length\n",
    "new_length += round(s3_dist)"
   ]
  },
  {
   "cell_type": "code",
   "execution_count": 56,
   "metadata": {},
   "outputs": [],
   "source": [
    "# calculating the shortest distance from last point of stage 3 to the last cluster\n",
    "\n",
    "checking_dist = {}\n",
    "\n",
    "for idx in big_cluster.loc[big_cluster['Subcluster'] == 0].index:\n",
    "    start_lat = sub2.loc[s2[-1],'Latitude']\n",
    "    start_lon = sub2.loc[s2[-1],'Longitude']\n",
    "    start_coord = (start_lat, start_lon)\n",
    "    \n",
    "    i_lat = big_cluster.loc[idx,'Latitude']\n",
    "    i_lon = big_cluster.loc[idx,'Longitude']\n",
    "    i_coord = (i_lat, i_lon)\n",
    "    \n",
    "    dist = distance.distance(start_coord, i_coord).km\n",
    "    if dist > 0:\n",
    "        checking_dist[dist] = big_cluster.loc[idx,'Circuit']"
   ]
  },
  {
   "cell_type": "code",
   "execution_count": 58,
   "metadata": {},
   "outputs": [],
   "source": [
    "# assigning the distance from stage 3 to stage 4 = min distance from last point of\n",
    "# cluster 'sub2' and first point of last cluster.\n",
    "s3_s4_dist = min(checking_dist.keys())\n",
    "\n",
    "# updating new_lenght\n",
    "new_length += round(s3_s4_dist)"
   ]
  },
  {
   "cell_type": "markdown",
   "metadata": {},
   "source": [
    "## STAGE 4"
   ]
  },
  {
   "cell_type": "code",
   "execution_count": 60,
   "metadata": {},
   "outputs": [
    {
     "name": "stdout",
     "output_type": "stream",
     "text": [
      "0\n"
     ]
    }
   ],
   "source": [
    "# checking the name of the circuit for the last cluster\n",
    "s4_first_name = checking_dist[s3_s4_dist]\n",
    "\n",
    "# getting the index of the next cluster from circuit name\n",
    "cluster_s4 = big_cluster.loc[big_cluster['Circuit'] == s4_first_name]['Subcluster'].values[0]\n",
    "\n",
    "print(cluster_s4) # should be 0!"
   ]
  },
  {
   "cell_type": "code",
   "execution_count": 61,
   "metadata": {},
   "outputs": [],
   "source": [
    "# getting the index of the subcluster for the first circuit of second cluster\n",
    "s4_first = sub0.loc[sub0['Circuit'] == s4_first_name].index[0]\n",
    "\n",
    "# applying functions to reorder and get distance to subtract:\n",
    "s4 = reordering_first(routes_dict[cluster_s4][0], s4_first)\n",
    "s4_sub = to_subtract(s4, subcluster_dist_dict[cluster_s4])\n",
    "\n",
    "# calculating the distance considering s3 an open route:\n",
    "s4_dist = routes_dict[cluster_s4][1] - s4_sub"
   ]
  },
  {
   "cell_type": "code",
   "execution_count": 62,
   "metadata": {},
   "outputs": [],
   "source": [
    "# appending names for this stage\n",
    "for i in s4:\n",
    "    name = sub0.loc[i, 'Circuit']\n",
    "    new_calendar.append(name)\n",
    "\n",
    "# adding stage length\n",
    "new_length += round(s4_dist)"
   ]
  },
  {
   "cell_type": "markdown",
   "metadata": {},
   "source": [
    "## LAST CHECKS"
   ]
  },
  {
   "cell_type": "code",
   "execution_count": 68,
   "metadata": {},
   "outputs": [
    {
     "data": {
      "text/plain": [
       "True"
      ]
     },
     "execution_count": 68,
     "metadata": {},
     "output_type": "execute_result"
    }
   ],
   "source": [
    "# the length of new_calendar should be = 20\n",
    "len(new_calendar) == 20"
   ]
  },
  {
   "cell_type": "code",
   "execution_count": 67,
   "metadata": {},
   "outputs": [
    {
     "data": {
      "text/plain": [
       "True"
      ]
     },
     "execution_count": 67,
     "metadata": {},
     "output_type": "execute_result"
    }
   ],
   "source": [
    "# the values of new_calendar should be all unique\n",
    "len(new_calendar) == len(set(new_calendar))"
   ]
  },
  {
   "cell_type": "code",
   "execution_count": 69,
   "metadata": {},
   "outputs": [
    {
     "data": {
      "text/plain": [
       "True"
      ]
     },
     "execution_count": 69,
     "metadata": {},
     "output_type": "execute_result"
    }
   ],
   "source": [
    "# the new distance should be lower than the first calculated: 84594 km\n",
    "new_length < 84594"
   ]
  },
  {
   "cell_type": "markdown",
   "metadata": {},
   "source": [
    "# FINAL RESULTS"
   ]
  },
  {
   "cell_type": "markdown",
   "metadata": {},
   "source": [
    "## NEW CALENDAR"
   ]
  },
  {
   "cell_type": "code",
   "execution_count": 63,
   "metadata": {},
   "outputs": [
    {
     "name": "stdout",
     "output_type": "stream",
     "text": [
      "The optimized calendar should be:\n",
      "Circuit Of The Americas\n",
      "Termas de Río Hondo\n",
      "Phillip Island\n",
      "Twin Ring Motegi\n",
      "Buriram International Circuit\n",
      "Sepang International Circuit\n",
      "Losail International Circuit\n",
      "KymiRing\n",
      "Sachsenring\n",
      "Autodromo Internazionale del Mugello\n",
      "Misano World Circuit Marco Simoncelli\n",
      "Red Bull Ring - Spielberg\n",
      "Automotodrom Brno\n",
      "TT Circuit Assen\n",
      "Le Mans\n",
      "Silverstone Circuit\n",
      "Circuit de Barcelona-Catalunya\n",
      "MotorLand Aragón\n",
      "Circuito de Jerez\n",
      "Circuit Ricardo Tormo\n"
     ]
    }
   ],
   "source": [
    "print('The optimized calendar should be:')\n",
    "for item in new_calendar:\n",
    "    print(item)"
   ]
  },
  {
   "cell_type": "markdown",
   "metadata": {},
   "source": [
    "## NEW DISTANCE"
   ]
  },
  {
   "cell_type": "code",
   "execution_count": 70,
   "metadata": {},
   "outputs": [
    {
     "name": "stdout",
     "output_type": "stream",
     "text": [
      "The total distance for the new calendar is: 51300\n"
     ]
    }
   ],
   "source": [
    "print('The total distance for the new calendar is:', new_length)"
   ]
  },
  {
   "cell_type": "code",
   "execution_count": null,
   "metadata": {},
   "outputs": [],
   "source": []
  },
  {
   "cell_type": "code",
   "execution_count": null,
   "metadata": {},
   "outputs": [],
   "source": []
  },
  {
   "cell_type": "code",
   "execution_count": null,
   "metadata": {},
   "outputs": [],
   "source": []
  }
 ],
 "metadata": {
  "kernelspec": {
   "display_name": "Python 3",
   "language": "python",
   "name": "python3"
  },
  "language_info": {
   "codemirror_mode": {
    "name": "ipython",
    "version": 3
   },
   "file_extension": ".py",
   "mimetype": "text/x-python",
   "name": "python",
   "nbconvert_exporter": "python",
   "pygments_lexer": "ipython3",
   "version": "3.7.4"
  }
 },
 "nbformat": 4,
 "nbformat_minor": 2
}
