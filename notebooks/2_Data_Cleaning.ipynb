{
 "cells": [
  {
   "cell_type": "code",
   "execution_count": 69,
   "metadata": {},
   "outputs": [],
   "source": [
    "import pandas as pd\n",
    "import re\n",
    "from geopy.geocoders import Nominatim"
   ]
  },
  {
   "cell_type": "markdown",
   "metadata": {},
   "source": [
    "# Cleaning the 'races' file"
   ]
  },
  {
   "cell_type": "code",
   "execution_count": 70,
   "metadata": {},
   "outputs": [],
   "source": [
    "races = pd.read_csv('../data/races.csv', index_col = 0)"
   ]
  },
  {
   "cell_type": "code",
   "execution_count": 71,
   "metadata": {
    "scrolled": true
   },
   "outputs": [
    {
     "data": {
      "text/html": [
       "<div>\n",
       "<style scoped>\n",
       "    .dataframe tbody tr th:only-of-type {\n",
       "        vertical-align: middle;\n",
       "    }\n",
       "\n",
       "    .dataframe tbody tr th {\n",
       "        vertical-align: top;\n",
       "    }\n",
       "\n",
       "    .dataframe thead th {\n",
       "        text-align: right;\n",
       "    }\n",
       "</style>\n",
       "<table border=\"1\" class=\"dataframe\">\n",
       "  <thead>\n",
       "    <tr style=\"text-align: right;\">\n",
       "      <th></th>\n",
       "      <th>0</th>\n",
       "      <th>1</th>\n",
       "      <th>0.1</th>\n",
       "      <th>1.1</th>\n",
       "      <th>2</th>\n",
       "    </tr>\n",
       "  </thead>\n",
       "  <tbody>\n",
       "    <tr>\n",
       "      <th>0</th>\n",
       "      <td>19</td>\n",
       "      <td>NOV</td>\n",
       "      <td>Valencia MotoGP™ Official Test</td>\n",
       "      <td>Circuit Ricardo Tormo</td>\n",
       "      <td>SPAIN</td>\n",
       "    </tr>\n",
       "    <tr>\n",
       "      <th>1</th>\n",
       "      <td>25</td>\n",
       "      <td>NOV</td>\n",
       "      <td>Jerez MotoGP™ Official Test</td>\n",
       "      <td>Circuito de Jerez - Angel Nieto</td>\n",
       "      <td>SPAIN</td>\n",
       "    </tr>\n",
       "    <tr>\n",
       "      <th>2</th>\n",
       "      <td>7</td>\n",
       "      <td>FEB</td>\n",
       "      <td>Sepang MotoGP™ Official Test</td>\n",
       "      <td>Sepang International Circuit</td>\n",
       "      <td>MALAYSIA</td>\n",
       "    </tr>\n",
       "    <tr>\n",
       "      <th>3</th>\n",
       "      <td>19</td>\n",
       "      <td>FEB</td>\n",
       "      <td>Jerez Moto2™-Moto3™ Test</td>\n",
       "      <td>Circuito de Jerez - Angel Nieto</td>\n",
       "      <td>SPAIN</td>\n",
       "    </tr>\n",
       "    <tr>\n",
       "      <th>4</th>\n",
       "      <td>22</td>\n",
       "      <td>FEB</td>\n",
       "      <td>Qatar MotoGP™ Test</td>\n",
       "      <td>Losail International Circuit</td>\n",
       "      <td>QATAR</td>\n",
       "    </tr>\n",
       "    <tr>\n",
       "      <th>5</th>\n",
       "      <td>28</td>\n",
       "      <td>FEB</td>\n",
       "      <td>Qatar Moto2™-Moto3™ Test</td>\n",
       "      <td>Losail International Circuit</td>\n",
       "      <td>QATAR</td>\n",
       "    </tr>\n",
       "    <tr>\n",
       "      <th>6</th>\n",
       "      <td>8</td>\n",
       "      <td>MAR</td>\n",
       "      <td>1 -  Grand Prix of Qatar</td>\n",
       "      <td>Losail International Circuit</td>\n",
       "      <td>QATAR</td>\n",
       "    </tr>\n",
       "    <tr>\n",
       "      <th>7</th>\n",
       "      <td>22</td>\n",
       "      <td>MAR</td>\n",
       "      <td>2 -   OR Thailand Grand Prix</td>\n",
       "      <td>TT Circuit Assen</td>\n",
       "      <td>NETHERLANDS</td>\n",
       "    </tr>\n",
       "    <tr>\n",
       "      <th>8</th>\n",
       "      <td>5</td>\n",
       "      <td>APR</td>\n",
       "      <td>3 -  Red Bull Grand Prix of The Americas</td>\n",
       "      <td>Circuit Of The Americas</td>\n",
       "      <td>UNITED STATES</td>\n",
       "    </tr>\n",
       "    <tr>\n",
       "      <th>9</th>\n",
       "      <td>19</td>\n",
       "      <td>APR</td>\n",
       "      <td>4 -  Gran Premio Motul de la República Argentina</td>\n",
       "      <td>Termas de Río Hondo</td>\n",
       "      <td>ARGENTINA</td>\n",
       "    </tr>\n",
       "  </tbody>\n",
       "</table>\n",
       "</div>"
      ],
      "text/plain": [
       "    0    1                                               0.1  \\\n",
       "0  19  NOV                    Valencia MotoGP™ Official Test   \n",
       "1  25  NOV                       Jerez MotoGP™ Official Test   \n",
       "2   7  FEB                      Sepang MotoGP™ Official Test   \n",
       "3  19  FEB                          Jerez Moto2™-Moto3™ Test   \n",
       "4  22  FEB                                Qatar MotoGP™ Test   \n",
       "5  28  FEB                          Qatar Moto2™-Moto3™ Test   \n",
       "6   8  MAR                          1 -  Grand Prix of Qatar   \n",
       "7  22  MAR                     2 -   OR Thailand Grand Prix    \n",
       "8   5  APR          3 -  Red Bull Grand Prix of The Americas   \n",
       "9  19  APR  4 -  Gran Premio Motul de la República Argentina   \n",
       "\n",
       "                               1.1              2  \n",
       "0            Circuit Ricardo Tormo          SPAIN  \n",
       "1  Circuito de Jerez - Angel Nieto          SPAIN  \n",
       "2     Sepang International Circuit       MALAYSIA  \n",
       "3  Circuito de Jerez - Angel Nieto          SPAIN  \n",
       "4     Losail International Circuit          QATAR  \n",
       "5     Losail International Circuit          QATAR  \n",
       "6     Losail International Circuit          QATAR  \n",
       "7                 TT Circuit Assen    NETHERLANDS  \n",
       "8          Circuit Of The Americas  UNITED STATES  \n",
       "9              Termas de Río Hondo      ARGENTINA  "
      ]
     },
     "execution_count": 71,
     "metadata": {},
     "output_type": "execute_result"
    }
   ],
   "source": [
    "races.head(10)"
   ]
  },
  {
   "cell_type": "markdown",
   "metadata": {},
   "source": [
    "## Renaming columns"
   ]
  },
  {
   "cell_type": "code",
   "execution_count": 72,
   "metadata": {},
   "outputs": [],
   "source": [
    "races.rename(columns = {'0':'Day', '1':'Month', '0.1':'Race', '1.1':'Circuit', '2':'Country'}, inplace = True)"
   ]
  },
  {
   "cell_type": "code",
   "execution_count": 73,
   "metadata": {},
   "outputs": [
    {
     "data": {
      "text/html": [
       "<div>\n",
       "<style scoped>\n",
       "    .dataframe tbody tr th:only-of-type {\n",
       "        vertical-align: middle;\n",
       "    }\n",
       "\n",
       "    .dataframe tbody tr th {\n",
       "        vertical-align: top;\n",
       "    }\n",
       "\n",
       "    .dataframe thead th {\n",
       "        text-align: right;\n",
       "    }\n",
       "</style>\n",
       "<table border=\"1\" class=\"dataframe\">\n",
       "  <thead>\n",
       "    <tr style=\"text-align: right;\">\n",
       "      <th></th>\n",
       "      <th>Day</th>\n",
       "      <th>Month</th>\n",
       "      <th>Race</th>\n",
       "      <th>Circuit</th>\n",
       "      <th>Country</th>\n",
       "    </tr>\n",
       "  </thead>\n",
       "  <tbody>\n",
       "    <tr>\n",
       "      <th>0</th>\n",
       "      <td>19</td>\n",
       "      <td>NOV</td>\n",
       "      <td>Valencia MotoGP™ Official Test</td>\n",
       "      <td>Circuit Ricardo Tormo</td>\n",
       "      <td>SPAIN</td>\n",
       "    </tr>\n",
       "    <tr>\n",
       "      <th>1</th>\n",
       "      <td>25</td>\n",
       "      <td>NOV</td>\n",
       "      <td>Jerez MotoGP™ Official Test</td>\n",
       "      <td>Circuito de Jerez - Angel Nieto</td>\n",
       "      <td>SPAIN</td>\n",
       "    </tr>\n",
       "    <tr>\n",
       "      <th>2</th>\n",
       "      <td>7</td>\n",
       "      <td>FEB</td>\n",
       "      <td>Sepang MotoGP™ Official Test</td>\n",
       "      <td>Sepang International Circuit</td>\n",
       "      <td>MALAYSIA</td>\n",
       "    </tr>\n",
       "    <tr>\n",
       "      <th>3</th>\n",
       "      <td>19</td>\n",
       "      <td>FEB</td>\n",
       "      <td>Jerez Moto2™-Moto3™ Test</td>\n",
       "      <td>Circuito de Jerez - Angel Nieto</td>\n",
       "      <td>SPAIN</td>\n",
       "    </tr>\n",
       "    <tr>\n",
       "      <th>4</th>\n",
       "      <td>22</td>\n",
       "      <td>FEB</td>\n",
       "      <td>Qatar MotoGP™ Test</td>\n",
       "      <td>Losail International Circuit</td>\n",
       "      <td>QATAR</td>\n",
       "    </tr>\n",
       "  </tbody>\n",
       "</table>\n",
       "</div>"
      ],
      "text/plain": [
       "   Day Month                             Race  \\\n",
       "0   19   NOV   Valencia MotoGP™ Official Test   \n",
       "1   25   NOV      Jerez MotoGP™ Official Test   \n",
       "2    7   FEB     Sepang MotoGP™ Official Test   \n",
       "3   19   FEB         Jerez Moto2™-Moto3™ Test   \n",
       "4   22   FEB               Qatar MotoGP™ Test   \n",
       "\n",
       "                           Circuit   Country  \n",
       "0            Circuit Ricardo Tormo     SPAIN  \n",
       "1  Circuito de Jerez - Angel Nieto     SPAIN  \n",
       "2     Sepang International Circuit  MALAYSIA  \n",
       "3  Circuito de Jerez - Angel Nieto     SPAIN  \n",
       "4     Losail International Circuit     QATAR  "
      ]
     },
     "execution_count": 73,
     "metadata": {},
     "output_type": "execute_result"
    }
   ],
   "source": [
    "races.head()"
   ]
  },
  {
   "cell_type": "markdown",
   "metadata": {},
   "source": [
    "## Removing 'Tests'\n",
    "\n",
    "For this project, I will focus only in scoring races which are called 'Grand Prix'."
   ]
  },
  {
   "cell_type": "code",
   "execution_count": 74,
   "metadata": {},
   "outputs": [],
   "source": [
    "# The new dataframe should not include races with 'Test' word in the 'Race' column.\n",
    "races = races.loc[races['Race'].str.contains('Test') == False]"
   ]
  },
  {
   "cell_type": "code",
   "execution_count": 75,
   "metadata": {},
   "outputs": [
    {
     "data": {
      "text/html": [
       "<div>\n",
       "<style scoped>\n",
       "    .dataframe tbody tr th:only-of-type {\n",
       "        vertical-align: middle;\n",
       "    }\n",
       "\n",
       "    .dataframe tbody tr th {\n",
       "        vertical-align: top;\n",
       "    }\n",
       "\n",
       "    .dataframe thead th {\n",
       "        text-align: right;\n",
       "    }\n",
       "</style>\n",
       "<table border=\"1\" class=\"dataframe\">\n",
       "  <thead>\n",
       "    <tr style=\"text-align: right;\">\n",
       "      <th></th>\n",
       "      <th>Day</th>\n",
       "      <th>Month</th>\n",
       "      <th>Race</th>\n",
       "      <th>Circuit</th>\n",
       "      <th>Country</th>\n",
       "    </tr>\n",
       "  </thead>\n",
       "  <tbody>\n",
       "    <tr>\n",
       "      <th>6</th>\n",
       "      <td>8</td>\n",
       "      <td>MAR</td>\n",
       "      <td>1 -  Grand Prix of Qatar</td>\n",
       "      <td>Losail International Circuit</td>\n",
       "      <td>QATAR</td>\n",
       "    </tr>\n",
       "    <tr>\n",
       "      <th>7</th>\n",
       "      <td>22</td>\n",
       "      <td>MAR</td>\n",
       "      <td>2 -   OR Thailand Grand Prix</td>\n",
       "      <td>TT Circuit Assen</td>\n",
       "      <td>NETHERLANDS</td>\n",
       "    </tr>\n",
       "    <tr>\n",
       "      <th>8</th>\n",
       "      <td>5</td>\n",
       "      <td>APR</td>\n",
       "      <td>3 -  Red Bull Grand Prix of The Americas</td>\n",
       "      <td>Circuit Of The Americas</td>\n",
       "      <td>UNITED STATES</td>\n",
       "    </tr>\n",
       "    <tr>\n",
       "      <th>9</th>\n",
       "      <td>19</td>\n",
       "      <td>APR</td>\n",
       "      <td>4 -  Gran Premio Motul de la República Argentina</td>\n",
       "      <td>Termas de Río Hondo</td>\n",
       "      <td>ARGENTINA</td>\n",
       "    </tr>\n",
       "    <tr>\n",
       "      <th>10</th>\n",
       "      <td>3</td>\n",
       "      <td>MAY</td>\n",
       "      <td>5 -  Gran Premio Red Bull de España</td>\n",
       "      <td>Circuito de Jerez - Angel Nieto</td>\n",
       "      <td>SPAIN</td>\n",
       "    </tr>\n",
       "  </tbody>\n",
       "</table>\n",
       "</div>"
      ],
      "text/plain": [
       "    Day Month                                              Race  \\\n",
       "6     8   MAR                          1 -  Grand Prix of Qatar   \n",
       "7    22   MAR                     2 -   OR Thailand Grand Prix    \n",
       "8     5   APR          3 -  Red Bull Grand Prix of The Americas   \n",
       "9    19   APR  4 -  Gran Premio Motul de la República Argentina   \n",
       "10    3   MAY               5 -  Gran Premio Red Bull de España   \n",
       "\n",
       "                            Circuit        Country  \n",
       "6      Losail International Circuit          QATAR  \n",
       "7                  TT Circuit Assen    NETHERLANDS  \n",
       "8           Circuit Of The Americas  UNITED STATES  \n",
       "9               Termas de Río Hondo      ARGENTINA  \n",
       "10  Circuito de Jerez - Angel Nieto          SPAIN  "
      ]
     },
     "execution_count": 75,
     "metadata": {},
     "output_type": "execute_result"
    }
   ],
   "source": [
    "races.head()"
   ]
  },
  {
   "cell_type": "markdown",
   "metadata": {},
   "source": [
    "## Updating dates\n",
    "\n",
    "Now we removed the tests, all the dates are for same year 2020. I will create a new column with 'Date' as a DateTime"
   ]
  },
  {
   "cell_type": "code",
   "execution_count": 76,
   "metadata": {},
   "outputs": [],
   "source": [
    "races['Date'] = pd.to_datetime((races['Day'].astype(str)+races['Month'] + '2020'), errors = 'coerce', infer_datetime_format=True)"
   ]
  },
  {
   "cell_type": "code",
   "execution_count": 77,
   "metadata": {},
   "outputs": [],
   "source": [
    "races = races[['Date', 'Race', 'Circuit', 'Country']].reset_index(drop=True)"
   ]
  },
  {
   "cell_type": "code",
   "execution_count": 78,
   "metadata": {},
   "outputs": [
    {
     "data": {
      "text/html": [
       "<div>\n",
       "<style scoped>\n",
       "    .dataframe tbody tr th:only-of-type {\n",
       "        vertical-align: middle;\n",
       "    }\n",
       "\n",
       "    .dataframe tbody tr th {\n",
       "        vertical-align: top;\n",
       "    }\n",
       "\n",
       "    .dataframe thead th {\n",
       "        text-align: right;\n",
       "    }\n",
       "</style>\n",
       "<table border=\"1\" class=\"dataframe\">\n",
       "  <thead>\n",
       "    <tr style=\"text-align: right;\">\n",
       "      <th></th>\n",
       "      <th>Date</th>\n",
       "      <th>Race</th>\n",
       "      <th>Circuit</th>\n",
       "      <th>Country</th>\n",
       "    </tr>\n",
       "  </thead>\n",
       "  <tbody>\n",
       "    <tr>\n",
       "      <th>0</th>\n",
       "      <td>2020-03-08</td>\n",
       "      <td>1 -  Grand Prix of Qatar</td>\n",
       "      <td>Losail International Circuit</td>\n",
       "      <td>QATAR</td>\n",
       "    </tr>\n",
       "    <tr>\n",
       "      <th>1</th>\n",
       "      <td>2020-03-22</td>\n",
       "      <td>2 -   OR Thailand Grand Prix</td>\n",
       "      <td>TT Circuit Assen</td>\n",
       "      <td>NETHERLANDS</td>\n",
       "    </tr>\n",
       "    <tr>\n",
       "      <th>2</th>\n",
       "      <td>2020-04-05</td>\n",
       "      <td>3 -  Red Bull Grand Prix of The Americas</td>\n",
       "      <td>Circuit Of The Americas</td>\n",
       "      <td>UNITED STATES</td>\n",
       "    </tr>\n",
       "    <tr>\n",
       "      <th>3</th>\n",
       "      <td>2020-04-19</td>\n",
       "      <td>4 -  Gran Premio Motul de la República Argentina</td>\n",
       "      <td>Termas de Río Hondo</td>\n",
       "      <td>ARGENTINA</td>\n",
       "    </tr>\n",
       "    <tr>\n",
       "      <th>4</th>\n",
       "      <td>2020-05-03</td>\n",
       "      <td>5 -  Gran Premio Red Bull de España</td>\n",
       "      <td>Circuito de Jerez - Angel Nieto</td>\n",
       "      <td>SPAIN</td>\n",
       "    </tr>\n",
       "  </tbody>\n",
       "</table>\n",
       "</div>"
      ],
      "text/plain": [
       "        Date                                              Race  \\\n",
       "0 2020-03-08                          1 -  Grand Prix of Qatar   \n",
       "1 2020-03-22                     2 -   OR Thailand Grand Prix    \n",
       "2 2020-04-05          3 -  Red Bull Grand Prix of The Americas   \n",
       "3 2020-04-19  4 -  Gran Premio Motul de la República Argentina   \n",
       "4 2020-05-03               5 -  Gran Premio Red Bull de España   \n",
       "\n",
       "                           Circuit        Country  \n",
       "0     Losail International Circuit          QATAR  \n",
       "1                 TT Circuit Assen    NETHERLANDS  \n",
       "2          Circuit Of The Americas  UNITED STATES  \n",
       "3              Termas de Río Hondo      ARGENTINA  \n",
       "4  Circuito de Jerez - Angel Nieto          SPAIN  "
      ]
     },
     "execution_count": 78,
     "metadata": {},
     "output_type": "execute_result"
    }
   ],
   "source": [
    "races.head()"
   ]
  },
  {
   "cell_type": "code",
   "execution_count": 79,
   "metadata": {},
   "outputs": [
    {
     "data": {
      "text/plain": [
       "Date       datetime64[ns]\n",
       "Race               object\n",
       "Circuit            object\n",
       "Country            object\n",
       "dtype: object"
      ]
     },
     "execution_count": 79,
     "metadata": {},
     "output_type": "execute_result"
    }
   ],
   "source": [
    "races.dtypes"
   ]
  },
  {
   "cell_type": "markdown",
   "metadata": {},
   "source": [
    "## Removing numbers on Race names\n",
    "\n",
    "As they are already ordered, we can remove the numbers at the beginning of the race's name."
   ]
  },
  {
   "cell_type": "code",
   "execution_count": 80,
   "metadata": {},
   "outputs": [],
   "source": [
    "races['Race'] = races['Race'].apply(lambda x: re.sub(r'\\d+ - ','',x))"
   ]
  },
  {
   "cell_type": "code",
   "execution_count": 81,
   "metadata": {
    "scrolled": true
   },
   "outputs": [
    {
     "data": {
      "text/html": [
       "<div>\n",
       "<style scoped>\n",
       "    .dataframe tbody tr th:only-of-type {\n",
       "        vertical-align: middle;\n",
       "    }\n",
       "\n",
       "    .dataframe tbody tr th {\n",
       "        vertical-align: top;\n",
       "    }\n",
       "\n",
       "    .dataframe thead th {\n",
       "        text-align: right;\n",
       "    }\n",
       "</style>\n",
       "<table border=\"1\" class=\"dataframe\">\n",
       "  <thead>\n",
       "    <tr style=\"text-align: right;\">\n",
       "      <th></th>\n",
       "      <th>Date</th>\n",
       "      <th>Race</th>\n",
       "      <th>Circuit</th>\n",
       "      <th>Country</th>\n",
       "    </tr>\n",
       "  </thead>\n",
       "  <tbody>\n",
       "    <tr>\n",
       "      <th>0</th>\n",
       "      <td>2020-03-08</td>\n",
       "      <td>Grand Prix of Qatar</td>\n",
       "      <td>Losail International Circuit</td>\n",
       "      <td>QATAR</td>\n",
       "    </tr>\n",
       "    <tr>\n",
       "      <th>1</th>\n",
       "      <td>2020-03-22</td>\n",
       "      <td>OR Thailand Grand Prix</td>\n",
       "      <td>TT Circuit Assen</td>\n",
       "      <td>NETHERLANDS</td>\n",
       "    </tr>\n",
       "    <tr>\n",
       "      <th>2</th>\n",
       "      <td>2020-04-05</td>\n",
       "      <td>Red Bull Grand Prix of The Americas</td>\n",
       "      <td>Circuit Of The Americas</td>\n",
       "      <td>UNITED STATES</td>\n",
       "    </tr>\n",
       "    <tr>\n",
       "      <th>3</th>\n",
       "      <td>2020-04-19</td>\n",
       "      <td>Gran Premio Motul de la República Argentina</td>\n",
       "      <td>Termas de Río Hondo</td>\n",
       "      <td>ARGENTINA</td>\n",
       "    </tr>\n",
       "    <tr>\n",
       "      <th>4</th>\n",
       "      <td>2020-05-03</td>\n",
       "      <td>Gran Premio Red Bull de España</td>\n",
       "      <td>Circuito de Jerez - Angel Nieto</td>\n",
       "      <td>SPAIN</td>\n",
       "    </tr>\n",
       "  </tbody>\n",
       "</table>\n",
       "</div>"
      ],
      "text/plain": [
       "        Date                                          Race  \\\n",
       "0 2020-03-08                           Grand Prix of Qatar   \n",
       "1 2020-03-22                       OR Thailand Grand Prix    \n",
       "2 2020-04-05           Red Bull Grand Prix of The Americas   \n",
       "3 2020-04-19   Gran Premio Motul de la República Argentina   \n",
       "4 2020-05-03                Gran Premio Red Bull de España   \n",
       "\n",
       "                           Circuit        Country  \n",
       "0     Losail International Circuit          QATAR  \n",
       "1                 TT Circuit Assen    NETHERLANDS  \n",
       "2          Circuit Of The Americas  UNITED STATES  \n",
       "3              Termas de Río Hondo      ARGENTINA  \n",
       "4  Circuito de Jerez - Angel Nieto          SPAIN  "
      ]
     },
     "execution_count": 81,
     "metadata": {},
     "output_type": "execute_result"
    }
   ],
   "source": [
    "races.head()"
   ]
  },
  {
   "cell_type": "markdown",
   "metadata": {},
   "source": [
    "## Checking duplicates\n",
    "\n",
    "Except for the country, the other columns should not have any duplicates."
   ]
  },
  {
   "cell_type": "code",
   "execution_count": 82,
   "metadata": {},
   "outputs": [
    {
     "data": {
      "text/plain": [
       "False"
      ]
     },
     "execution_count": 82,
     "metadata": {},
     "output_type": "execute_result"
    }
   ],
   "source": [
    "races['Date'].duplicated(keep = False).any()"
   ]
  },
  {
   "cell_type": "code",
   "execution_count": 83,
   "metadata": {},
   "outputs": [
    {
     "data": {
      "text/plain": [
       "False"
      ]
     },
     "execution_count": 83,
     "metadata": {},
     "output_type": "execute_result"
    }
   ],
   "source": [
    "races['Race'].duplicated(keep = False).any()"
   ]
  },
  {
   "cell_type": "code",
   "execution_count": 84,
   "metadata": {},
   "outputs": [
    {
     "data": {
      "text/plain": [
       "True"
      ]
     },
     "execution_count": 84,
     "metadata": {},
     "output_type": "execute_result"
    }
   ],
   "source": [
    "races['Circuit'].duplicated(keep = False).any()"
   ]
  },
  {
   "cell_type": "code",
   "execution_count": 85,
   "metadata": {},
   "outputs": [
    {
     "data": {
      "text/html": [
       "<div>\n",
       "<style scoped>\n",
       "    .dataframe tbody tr th:only-of-type {\n",
       "        vertical-align: middle;\n",
       "    }\n",
       "\n",
       "    .dataframe tbody tr th {\n",
       "        vertical-align: top;\n",
       "    }\n",
       "\n",
       "    .dataframe thead th {\n",
       "        text-align: right;\n",
       "    }\n",
       "</style>\n",
       "<table border=\"1\" class=\"dataframe\">\n",
       "  <thead>\n",
       "    <tr style=\"text-align: right;\">\n",
       "      <th></th>\n",
       "      <th>Date</th>\n",
       "      <th>Race</th>\n",
       "      <th>Circuit</th>\n",
       "      <th>Country</th>\n",
       "    </tr>\n",
       "  </thead>\n",
       "  <tbody>\n",
       "    <tr>\n",
       "      <th>1</th>\n",
       "      <td>2020-03-22</td>\n",
       "      <td>OR Thailand Grand Prix</td>\n",
       "      <td>TT Circuit Assen</td>\n",
       "      <td>NETHERLANDS</td>\n",
       "    </tr>\n",
       "    <tr>\n",
       "      <th>9</th>\n",
       "      <td>2020-06-28</td>\n",
       "      <td>Motul TT Assen</td>\n",
       "      <td>TT Circuit Assen</td>\n",
       "      <td>NETHERLANDS</td>\n",
       "    </tr>\n",
       "  </tbody>\n",
       "</table>\n",
       "</div>"
      ],
      "text/plain": [
       "        Date                       Race           Circuit      Country\n",
       "1 2020-03-22    OR Thailand Grand Prix   TT Circuit Assen  NETHERLANDS\n",
       "9 2020-06-28             Motul TT Assen  TT Circuit Assen  NETHERLANDS"
      ]
     },
     "execution_count": 85,
     "metadata": {},
     "output_type": "execute_result"
    }
   ],
   "source": [
    "races.loc[races['Circuit'].duplicated(keep = False)]"
   ]
  },
  {
   "cell_type": "markdown",
   "metadata": {},
   "source": [
    "The calendar from motogp.com has an error, and so the data scraped. As is just one mistake (circuit and country for Thailand Grand Prix) I will correct it manually"
   ]
  },
  {
   "cell_type": "code",
   "execution_count": 86,
   "metadata": {},
   "outputs": [],
   "source": [
    "races.at[1,'Circuit'] = 'Chang International Circuit'"
   ]
  },
  {
   "cell_type": "code",
   "execution_count": 87,
   "metadata": {},
   "outputs": [],
   "source": [
    "races.at[1,'Country'] = 'THAILAND'"
   ]
  },
  {
   "cell_type": "code",
   "execution_count": 88,
   "metadata": {},
   "outputs": [
    {
     "data": {
      "text/html": [
       "<div>\n",
       "<style scoped>\n",
       "    .dataframe tbody tr th:only-of-type {\n",
       "        vertical-align: middle;\n",
       "    }\n",
       "\n",
       "    .dataframe tbody tr th {\n",
       "        vertical-align: top;\n",
       "    }\n",
       "\n",
       "    .dataframe thead th {\n",
       "        text-align: right;\n",
       "    }\n",
       "</style>\n",
       "<table border=\"1\" class=\"dataframe\">\n",
       "  <thead>\n",
       "    <tr style=\"text-align: right;\">\n",
       "      <th></th>\n",
       "      <th>Date</th>\n",
       "      <th>Race</th>\n",
       "      <th>Circuit</th>\n",
       "      <th>Country</th>\n",
       "    </tr>\n",
       "  </thead>\n",
       "  <tbody>\n",
       "  </tbody>\n",
       "</table>\n",
       "</div>"
      ],
      "text/plain": [
       "Empty DataFrame\n",
       "Columns: [Date, Race, Circuit, Country]\n",
       "Index: []"
      ]
     },
     "execution_count": 88,
     "metadata": {},
     "output_type": "execute_result"
    }
   ],
   "source": [
    "races.loc[races['Circuit'].duplicated(keep = False)]"
   ]
  },
  {
   "cell_type": "markdown",
   "metadata": {},
   "source": [
    "## Looking for coordinates with GeoPy"
   ]
  },
  {
   "cell_type": "code",
   "execution_count": 89,
   "metadata": {
    "scrolled": true
   },
   "outputs": [
    {
     "name": "stderr",
     "output_type": "stream",
     "text": [
      "/usr/local/lib/python3.7/site-packages/ipykernel_launcher.py:2: DeprecationWarning: Using Nominatim with the default \"geopy/1.20.0\" `user_agent` is strongly discouraged, as it violates Nominatim's ToS https://operations.osmfoundation.org/policies/nominatim/ and may possibly cause 403 and 429 HTTP errors. Please specify a custom `user_agent` with `Nominatim(user_agent=\"my-application\")` or by overriding the default `user_agent`: `geopy.geocoders.options.default_user_agent = \"my-application\"`. In geopy 2.0 this will become an exception.\n",
      "  \n"
     ]
    },
    {
     "data": {
      "text/plain": [
       "0     (Lusail International Circuit, أم صلال, ‏قطر, ...\n",
       "1     (Sepang International Circuit, Jalan Kuarters ...\n",
       "2     (Circuit of The Americas, Larkdale Lane, Lake ...\n",
       "3     (Termas de Río Hondo, Departamento Río Hondo, ...\n",
       "4                                                  None\n",
       "5     (Le Mans, Sarthe, Pays de la Loire, France mét...\n",
       "6     (Autodromo del Mugello, Mugellino, Omo morto, ...\n",
       "7     (Circuit de Barcelona-Catalunya, BV-5003, Mont...\n",
       "8     (Sachsenring, Marienthal Ost, Zwickau-West, Zw...\n",
       "9     (TT Circuit Assen, TT-tunnelweg, Assen, Drenth...\n",
       "10    (KymiRing, 748, Kymentie, Iitti, Kouvolan seut...\n",
       "11    (Automotodrom (rozc.), 3842, Žebětín, Brno, ok...\n",
       "12    (Red Bull Ring, Spielberg, Murtal, Steiermark,...\n",
       "13    (Silverstone Circuit, Village Corner, Silverst...\n",
       "14    (Misano World Circuit Marco Simoncelli, Via Ca...\n",
       "15    (Motorland Aragón, Puigmoreno, Alcañiz, Bajo A...\n",
       "16    (ツインリンクもてぎ, Twin Ring Motegi, 茂木町, 芳賀郡, 栃木県, 関...\n",
       "17    (Phillip Island, Norfolk Island, Australia, (-...\n",
       "18    (Sepang International Circuit, Jalan Kuarters ...\n",
       "19    (Circuit Ricardo Tormo, Carretera de Cheste a ...\n",
       "Name: Circuit, dtype: object"
      ]
     },
     "execution_count": 89,
     "metadata": {},
     "output_type": "execute_result"
    }
   ],
   "source": [
    "# creating a geolocator to use it to get coordinates\n",
    "geolocator = Nominatim()\n",
    "\n",
    "# checking the geolocator\n",
    "races['Circuit'].apply(geolocator.geocode)"
   ]
  },
  {
   "cell_type": "markdown",
   "metadata": {},
   "source": [
    "As we can see above, the geolocator couldn't find the direction for row 4. Let's check the name."
   ]
  },
  {
   "cell_type": "code",
   "execution_count": 90,
   "metadata": {},
   "outputs": [
    {
     "data": {
      "text/plain": [
       "'Circuito de Jerez - Angel Nieto'"
      ]
     },
     "execution_count": 90,
     "metadata": {},
     "output_type": "execute_result"
    }
   ],
   "source": [
    "races.loc[4, 'Circuit']"
   ]
  },
  {
   "cell_type": "markdown",
   "metadata": {},
   "source": [
    "The problem may be due to the append 'Angel Nieto' to the name of the circuit. Let's remove it:"
   ]
  },
  {
   "cell_type": "code",
   "execution_count": 91,
   "metadata": {},
   "outputs": [],
   "source": [
    "races.at[4, 'Circuit'] = 'Circuito de Jerez'"
   ]
  },
  {
   "cell_type": "code",
   "execution_count": 92,
   "metadata": {},
   "outputs": [
    {
     "data": {
      "text/plain": [
       "'Circuito de Jerez'"
      ]
     },
     "execution_count": 92,
     "metadata": {},
     "output_type": "execute_result"
    }
   ],
   "source": [
    "races.loc[4, 'Circuit']"
   ]
  },
  {
   "cell_type": "markdown",
   "metadata": {},
   "source": [
    "Now I can try again to get the directions. But this time I will get directly the coordinates"
   ]
  },
  {
   "cell_type": "code",
   "execution_count": 93,
   "metadata": {},
   "outputs": [],
   "source": [
    "races['Latitude'] = races['Circuit'].apply(geolocator.geocode).apply(lambda x: x.latitude)"
   ]
  },
  {
   "cell_type": "code",
   "execution_count": 95,
   "metadata": {},
   "outputs": [],
   "source": [
    "races['Longitude'] = races['Circuit'].apply(geolocator.geocode).apply(lambda x: x.longitude)"
   ]
  },
  {
   "cell_type": "code",
   "execution_count": 96,
   "metadata": {
    "scrolled": true
   },
   "outputs": [
    {
     "data": {
      "text/html": [
       "<div>\n",
       "<style scoped>\n",
       "    .dataframe tbody tr th:only-of-type {\n",
       "        vertical-align: middle;\n",
       "    }\n",
       "\n",
       "    .dataframe tbody tr th {\n",
       "        vertical-align: top;\n",
       "    }\n",
       "\n",
       "    .dataframe thead th {\n",
       "        text-align: right;\n",
       "    }\n",
       "</style>\n",
       "<table border=\"1\" class=\"dataframe\">\n",
       "  <thead>\n",
       "    <tr style=\"text-align: right;\">\n",
       "      <th></th>\n",
       "      <th>Date</th>\n",
       "      <th>Race</th>\n",
       "      <th>Circuit</th>\n",
       "      <th>Country</th>\n",
       "      <th>Latitude</th>\n",
       "      <th>Longitude</th>\n",
       "    </tr>\n",
       "  </thead>\n",
       "  <tbody>\n",
       "    <tr>\n",
       "      <th>0</th>\n",
       "      <td>2020-03-08</td>\n",
       "      <td>Grand Prix of Qatar</td>\n",
       "      <td>Losail International Circuit</td>\n",
       "      <td>QATAR</td>\n",
       "      <td>25.491000</td>\n",
       "      <td>51.452068</td>\n",
       "    </tr>\n",
       "    <tr>\n",
       "      <th>1</th>\n",
       "      <td>2020-03-22</td>\n",
       "      <td>OR Thailand Grand Prix</td>\n",
       "      <td>Chang International Circuit</td>\n",
       "      <td>THAILAND</td>\n",
       "      <td>2.760191</td>\n",
       "      <td>101.736859</td>\n",
       "    </tr>\n",
       "    <tr>\n",
       "      <th>2</th>\n",
       "      <td>2020-04-05</td>\n",
       "      <td>Red Bull Grand Prix of The Americas</td>\n",
       "      <td>Circuit Of The Americas</td>\n",
       "      <td>UNITED STATES</td>\n",
       "      <td>30.138715</td>\n",
       "      <td>-97.636410</td>\n",
       "    </tr>\n",
       "    <tr>\n",
       "      <th>3</th>\n",
       "      <td>2020-04-19</td>\n",
       "      <td>Gran Premio Motul de la República Argentina</td>\n",
       "      <td>Termas de Río Hondo</td>\n",
       "      <td>ARGENTINA</td>\n",
       "      <td>-27.495925</td>\n",
       "      <td>-64.864078</td>\n",
       "    </tr>\n",
       "    <tr>\n",
       "      <th>4</th>\n",
       "      <td>2020-05-03</td>\n",
       "      <td>Gran Premio Red Bull de España</td>\n",
       "      <td>Circuito de Jerez</td>\n",
       "      <td>SPAIN</td>\n",
       "      <td>36.694447</td>\n",
       "      <td>-6.156317</td>\n",
       "    </tr>\n",
       "  </tbody>\n",
       "</table>\n",
       "</div>"
      ],
      "text/plain": [
       "        Date                                          Race  \\\n",
       "0 2020-03-08                           Grand Prix of Qatar   \n",
       "1 2020-03-22                       OR Thailand Grand Prix    \n",
       "2 2020-04-05           Red Bull Grand Prix of The Americas   \n",
       "3 2020-04-19   Gran Premio Motul de la República Argentina   \n",
       "4 2020-05-03                Gran Premio Red Bull de España   \n",
       "\n",
       "                        Circuit        Country   Latitude   Longitude  \n",
       "0  Losail International Circuit          QATAR  25.491000   51.452068  \n",
       "1   Chang International Circuit       THAILAND   2.760191  101.736859  \n",
       "2       Circuit Of The Americas  UNITED STATES  30.138715  -97.636410  \n",
       "3           Termas de Río Hondo      ARGENTINA -27.495925  -64.864078  \n",
       "4             Circuito de Jerez          SPAIN  36.694447   -6.156317  "
      ]
     },
     "execution_count": 96,
     "metadata": {},
     "output_type": "execute_result"
    }
   ],
   "source": [
    "races.head()"
   ]
  },
  {
   "cell_type": "code",
   "execution_count": 97,
   "metadata": {},
   "outputs": [
    {
     "data": {
      "text/plain": [
       "Date         datetime64[ns]\n",
       "Race                 object\n",
       "Circuit              object\n",
       "Country              object\n",
       "Latitude            float64\n",
       "Longitude           float64\n",
       "dtype: object"
      ]
     },
     "execution_count": 97,
     "metadata": {},
     "output_type": "execute_result"
    }
   ],
   "source": [
    "races.dtypes"
   ]
  },
  {
   "cell_type": "markdown",
   "metadata": {},
   "source": [
    "## Races dataframe cleaned"
   ]
  },
  {
   "cell_type": "code",
   "execution_count": 98,
   "metadata": {},
   "outputs": [],
   "source": [
    "races.to_csv('../data/races_cleaned.csv')"
   ]
  },
  {
   "cell_type": "code",
   "execution_count": 100,
   "metadata": {},
   "outputs": [],
   "source": [
    "# to plot the circuits in Tableau Public, is better to have an excel file\n",
    "races.to_excel('../data/races_cleaned.xlsx')"
   ]
  },
  {
   "cell_type": "markdown",
   "metadata": {},
   "source": [
    "# Cleaning the 'riders' file"
   ]
  },
  {
   "cell_type": "code",
   "execution_count": 157,
   "metadata": {},
   "outputs": [],
   "source": [
    "riders = pd.read_csv('../data/riders.csv', index_col = 0)"
   ]
  },
  {
   "cell_type": "code",
   "execution_count": 158,
   "metadata": {},
   "outputs": [
    {
     "data": {
      "text/html": [
       "<div>\n",
       "<style scoped>\n",
       "    .dataframe tbody tr th:only-of-type {\n",
       "        vertical-align: middle;\n",
       "    }\n",
       "\n",
       "    .dataframe tbody tr th {\n",
       "        vertical-align: top;\n",
       "    }\n",
       "\n",
       "    .dataframe thead th {\n",
       "        text-align: right;\n",
       "    }\n",
       "</style>\n",
       "<table border=\"1\" class=\"dataframe\">\n",
       "  <thead>\n",
       "    <tr style=\"text-align: right;\">\n",
       "      <th></th>\n",
       "      <th>0</th>\n",
       "      <th>1</th>\n",
       "      <th>2</th>\n",
       "      <th>3</th>\n",
       "    </tr>\n",
       "  </thead>\n",
       "  <tbody>\n",
       "    <tr>\n",
       "      <th>0</th>\n",
       "      <td>Andrea Dovizioso</td>\n",
       "      <td>Ducati Team</td>\n",
       "      <td>Bike: Ducati</td>\n",
       "      <td>Forlimpopoli</td>\n",
       "    </tr>\n",
       "    <tr>\n",
       "      <th>1</th>\n",
       "      <td>Johann Zarco</td>\n",
       "      <td>Reale Avintia Racing</td>\n",
       "      <td>Bike: Ducati</td>\n",
       "      <td>Cannes</td>\n",
       "    </tr>\n",
       "    <tr>\n",
       "      <th>2</th>\n",
       "      <td>Danilo Petrucci</td>\n",
       "      <td>Ducati Team</td>\n",
       "      <td>Bike: Ducati</td>\n",
       "      <td>Terni</td>\n",
       "    </tr>\n",
       "    <tr>\n",
       "      <th>3</th>\n",
       "      <td>Maverick Viñales</td>\n",
       "      <td>Monster Energy Yamaha MotoGP</td>\n",
       "      <td>Bike: Yamaha</td>\n",
       "      <td>Figueres</td>\n",
       "    </tr>\n",
       "    <tr>\n",
       "      <th>4</th>\n",
       "      <td>Fabio Quartararo</td>\n",
       "      <td>Petronas Yamaha SRT</td>\n",
       "      <td>Bike: Yamaha</td>\n",
       "      <td>Nice</td>\n",
       "    </tr>\n",
       "    <tr>\n",
       "      <th>5</th>\n",
       "      <td>Franco Morbidelli</td>\n",
       "      <td>Petronas Yamaha SRT</td>\n",
       "      <td>Bike: Yamaha</td>\n",
       "      <td>Roma</td>\n",
       "    </tr>\n",
       "    <tr>\n",
       "      <th>6</th>\n",
       "      <td>Iker Lecuona</td>\n",
       "      <td>Red Bull KTM Tech 3</td>\n",
       "      <td>Bike: KTM</td>\n",
       "      <td>Valencia</td>\n",
       "    </tr>\n",
       "    <tr>\n",
       "      <th>7</th>\n",
       "      <td>Andrea Iannone</td>\n",
       "      <td>Aprilia Racing Team Gresini</td>\n",
       "      <td>Bike: Aprilia</td>\n",
       "      <td>Vasto</td>\n",
       "    </tr>\n",
       "    <tr>\n",
       "      <th>8</th>\n",
       "      <td>Takaaki Nakagami</td>\n",
       "      <td>LCR Honda IDEMITSU</td>\n",
       "      <td>Bike: KTM</td>\n",
       "      <td>Chiba</td>\n",
       "    </tr>\n",
       "    <tr>\n",
       "      <th>9</th>\n",
       "      <td>Brad Binder</td>\n",
       "      <td>Red Bull KTM Factory Racing</td>\n",
       "      <td>Bike: KTM</td>\n",
       "      <td>Potchefstroom</td>\n",
       "    </tr>\n",
       "  </tbody>\n",
       "</table>\n",
       "</div>"
      ],
      "text/plain": [
       "                   0                             1              2  \\\n",
       "0   Andrea Dovizioso                   Ducati Team   Bike: Ducati   \n",
       "1       Johann Zarco          Reale Avintia Racing   Bike: Ducati   \n",
       "2    Danilo Petrucci                   Ducati Team   Bike: Ducati   \n",
       "3   Maverick Viñales  Monster Energy Yamaha MotoGP   Bike: Yamaha   \n",
       "4   Fabio Quartararo           Petronas Yamaha SRT   Bike: Yamaha   \n",
       "5  Franco Morbidelli           Petronas Yamaha SRT   Bike: Yamaha   \n",
       "6       Iker Lecuona           Red Bull KTM Tech 3      Bike: KTM   \n",
       "7     Andrea Iannone   Aprilia Racing Team Gresini  Bike: Aprilia   \n",
       "8   Takaaki Nakagami            LCR Honda IDEMITSU      Bike: KTM   \n",
       "9        Brad Binder   Red Bull KTM Factory Racing      Bike: KTM   \n",
       "\n",
       "               3  \n",
       "0  Forlimpopoli   \n",
       "1         Cannes  \n",
       "2          Terni  \n",
       "3       Figueres  \n",
       "4           Nice  \n",
       "5           Roma  \n",
       "6       Valencia  \n",
       "7          Vasto  \n",
       "8          Chiba  \n",
       "9  Potchefstroom  "
      ]
     },
     "execution_count": 158,
     "metadata": {},
     "output_type": "execute_result"
    }
   ],
   "source": [
    "riders.head(10)"
   ]
  },
  {
   "cell_type": "code",
   "execution_count": 164,
   "metadata": {},
   "outputs": [
    {
     "data": {
      "text/plain": [
       "Name          0\n",
       "Team          0\n",
       "Bike          0\n",
       "BirthPlace    0\n",
       "dtype: int64"
      ]
     },
     "execution_count": 164,
     "metadata": {},
     "output_type": "execute_result"
    }
   ],
   "source": [
    "riders.isnull().sum()"
   ]
  },
  {
   "cell_type": "markdown",
   "metadata": {},
   "source": [
    "## Renaming columns"
   ]
  },
  {
   "cell_type": "code",
   "execution_count": 159,
   "metadata": {},
   "outputs": [],
   "source": [
    "riders.rename(columns = {'0':'Name', '1':'Team', '2':'Bike', '3':'BirthPlace'}, inplace = True)"
   ]
  },
  {
   "cell_type": "code",
   "execution_count": 160,
   "metadata": {},
   "outputs": [
    {
     "data": {
      "text/html": [
       "<div>\n",
       "<style scoped>\n",
       "    .dataframe tbody tr th:only-of-type {\n",
       "        vertical-align: middle;\n",
       "    }\n",
       "\n",
       "    .dataframe tbody tr th {\n",
       "        vertical-align: top;\n",
       "    }\n",
       "\n",
       "    .dataframe thead th {\n",
       "        text-align: right;\n",
       "    }\n",
       "</style>\n",
       "<table border=\"1\" class=\"dataframe\">\n",
       "  <thead>\n",
       "    <tr style=\"text-align: right;\">\n",
       "      <th></th>\n",
       "      <th>Name</th>\n",
       "      <th>Team</th>\n",
       "      <th>Bike</th>\n",
       "      <th>BirthPlace</th>\n",
       "    </tr>\n",
       "  </thead>\n",
       "  <tbody>\n",
       "    <tr>\n",
       "      <th>0</th>\n",
       "      <td>Andrea Dovizioso</td>\n",
       "      <td>Ducati Team</td>\n",
       "      <td>Bike: Ducati</td>\n",
       "      <td>Forlimpopoli</td>\n",
       "    </tr>\n",
       "    <tr>\n",
       "      <th>1</th>\n",
       "      <td>Johann Zarco</td>\n",
       "      <td>Reale Avintia Racing</td>\n",
       "      <td>Bike: Ducati</td>\n",
       "      <td>Cannes</td>\n",
       "    </tr>\n",
       "    <tr>\n",
       "      <th>2</th>\n",
       "      <td>Danilo Petrucci</td>\n",
       "      <td>Ducati Team</td>\n",
       "      <td>Bike: Ducati</td>\n",
       "      <td>Terni</td>\n",
       "    </tr>\n",
       "    <tr>\n",
       "      <th>3</th>\n",
       "      <td>Maverick Viñales</td>\n",
       "      <td>Monster Energy Yamaha MotoGP</td>\n",
       "      <td>Bike: Yamaha</td>\n",
       "      <td>Figueres</td>\n",
       "    </tr>\n",
       "    <tr>\n",
       "      <th>4</th>\n",
       "      <td>Fabio Quartararo</td>\n",
       "      <td>Petronas Yamaha SRT</td>\n",
       "      <td>Bike: Yamaha</td>\n",
       "      <td>Nice</td>\n",
       "    </tr>\n",
       "  </tbody>\n",
       "</table>\n",
       "</div>"
      ],
      "text/plain": [
       "               Name                          Team          Bike     BirthPlace\n",
       "0  Andrea Dovizioso                   Ducati Team  Bike: Ducati  Forlimpopoli \n",
       "1      Johann Zarco          Reale Avintia Racing  Bike: Ducati         Cannes\n",
       "2   Danilo Petrucci                   Ducati Team  Bike: Ducati          Terni\n",
       "3  Maverick Viñales  Monster Energy Yamaha MotoGP  Bike: Yamaha       Figueres\n",
       "4  Fabio Quartararo           Petronas Yamaha SRT  Bike: Yamaha           Nice"
      ]
     },
     "execution_count": 160,
     "metadata": {},
     "output_type": "execute_result"
    }
   ],
   "source": [
    "riders.head()"
   ]
  },
  {
   "cell_type": "markdown",
   "metadata": {},
   "source": [
    "## Removing 'Bike:' text in Bike column\n",
    "\n",
    "The word 'Bike:' in the bike column is redundant information. Let's remove it."
   ]
  },
  {
   "cell_type": "code",
   "execution_count": 161,
   "metadata": {},
   "outputs": [],
   "source": [
    "riders['Bike'] = riders['Bike'].apply(lambda x: re.sub(r'Bike: ','',x))"
   ]
  },
  {
   "cell_type": "code",
   "execution_count": 162,
   "metadata": {},
   "outputs": [
    {
     "data": {
      "text/html": [
       "<div>\n",
       "<style scoped>\n",
       "    .dataframe tbody tr th:only-of-type {\n",
       "        vertical-align: middle;\n",
       "    }\n",
       "\n",
       "    .dataframe tbody tr th {\n",
       "        vertical-align: top;\n",
       "    }\n",
       "\n",
       "    .dataframe thead th {\n",
       "        text-align: right;\n",
       "    }\n",
       "</style>\n",
       "<table border=\"1\" class=\"dataframe\">\n",
       "  <thead>\n",
       "    <tr style=\"text-align: right;\">\n",
       "      <th></th>\n",
       "      <th>Name</th>\n",
       "      <th>Team</th>\n",
       "      <th>Bike</th>\n",
       "      <th>BirthPlace</th>\n",
       "    </tr>\n",
       "  </thead>\n",
       "  <tbody>\n",
       "    <tr>\n",
       "      <th>0</th>\n",
       "      <td>Andrea Dovizioso</td>\n",
       "      <td>Ducati Team</td>\n",
       "      <td>Ducati</td>\n",
       "      <td>Forlimpopoli</td>\n",
       "    </tr>\n",
       "    <tr>\n",
       "      <th>1</th>\n",
       "      <td>Johann Zarco</td>\n",
       "      <td>Reale Avintia Racing</td>\n",
       "      <td>Ducati</td>\n",
       "      <td>Cannes</td>\n",
       "    </tr>\n",
       "    <tr>\n",
       "      <th>2</th>\n",
       "      <td>Danilo Petrucci</td>\n",
       "      <td>Ducati Team</td>\n",
       "      <td>Ducati</td>\n",
       "      <td>Terni</td>\n",
       "    </tr>\n",
       "    <tr>\n",
       "      <th>3</th>\n",
       "      <td>Maverick Viñales</td>\n",
       "      <td>Monster Energy Yamaha MotoGP</td>\n",
       "      <td>Yamaha</td>\n",
       "      <td>Figueres</td>\n",
       "    </tr>\n",
       "    <tr>\n",
       "      <th>4</th>\n",
       "      <td>Fabio Quartararo</td>\n",
       "      <td>Petronas Yamaha SRT</td>\n",
       "      <td>Yamaha</td>\n",
       "      <td>Nice</td>\n",
       "    </tr>\n",
       "  </tbody>\n",
       "</table>\n",
       "</div>"
      ],
      "text/plain": [
       "               Name                          Team    Bike     BirthPlace\n",
       "0  Andrea Dovizioso                   Ducati Team  Ducati  Forlimpopoli \n",
       "1      Johann Zarco          Reale Avintia Racing  Ducati         Cannes\n",
       "2   Danilo Petrucci                   Ducati Team  Ducati          Terni\n",
       "3  Maverick Viñales  Monster Energy Yamaha MotoGP  Yamaha       Figueres\n",
       "4  Fabio Quartararo           Petronas Yamaha SRT  Yamaha           Nice"
      ]
     },
     "execution_count": 162,
     "metadata": {},
     "output_type": "execute_result"
    }
   ],
   "source": [
    "riders.head()"
   ]
  },
  {
   "cell_type": "markdown",
   "metadata": {},
   "source": [
    "## Checking duplicates\n",
    "\n",
    "We can't have more than one rider with the same name."
   ]
  },
  {
   "cell_type": "code",
   "execution_count": 165,
   "metadata": {},
   "outputs": [
    {
     "data": {
      "text/plain": [
       "False"
      ]
     },
     "execution_count": 165,
     "metadata": {},
     "output_type": "execute_result"
    }
   ],
   "source": [
    "riders['Name'].duplicated(keep = False).any()"
   ]
  },
  {
   "cell_type": "markdown",
   "metadata": {},
   "source": [
    "## Checking errors in Teams and Bikes\n",
    "\n",
    "As they can be repeated, let's check if all of them are written properly"
   ]
  },
  {
   "cell_type": "code",
   "execution_count": 182,
   "metadata": {},
   "outputs": [
    {
     "data": {
      "text/plain": [
       "Red Bull KTM Factory Racing     3\n",
       "Red Bull KTM Tech 3             2\n",
       "LCR Honda                       2\n",
       "Team SUZUKI ECSTAR              2\n",
       "Reale Avintia Racing            2\n",
       "Monster Energy Yamaha MotoGP    2\n",
       "Aprilia Racing Team Gresini     2\n",
       "Repsol Honda Team               2\n",
       "Ducati Team                     2\n",
       "Petronas Yamaha SRT             2\n",
       "Pramac Racing                   2\n",
       "Name: Team, dtype: int64"
      ]
     },
     "execution_count": 182,
     "metadata": {},
     "output_type": "execute_result"
    }
   ],
   "source": [
    "riders['Team'].value_counts()"
   ]
  },
  {
   "cell_type": "markdown",
   "metadata": {},
   "source": [
    "Although we have two different Teams for LCR Honda, due to main sponsors, both are the same team structure, so we will consider them as a unique Team"
   ]
  },
  {
   "cell_type": "code",
   "execution_count": 168,
   "metadata": {},
   "outputs": [
    {
     "data": {
      "text/html": [
       "<div>\n",
       "<style scoped>\n",
       "    .dataframe tbody tr th:only-of-type {\n",
       "        vertical-align: middle;\n",
       "    }\n",
       "\n",
       "    .dataframe tbody tr th {\n",
       "        vertical-align: top;\n",
       "    }\n",
       "\n",
       "    .dataframe thead th {\n",
       "        text-align: right;\n",
       "    }\n",
       "</style>\n",
       "<table border=\"1\" class=\"dataframe\">\n",
       "  <thead>\n",
       "    <tr style=\"text-align: right;\">\n",
       "      <th></th>\n",
       "      <th>Name</th>\n",
       "      <th>Team</th>\n",
       "      <th>Bike</th>\n",
       "      <th>BirthPlace</th>\n",
       "    </tr>\n",
       "  </thead>\n",
       "  <tbody>\n",
       "    <tr>\n",
       "      <th>8</th>\n",
       "      <td>Takaaki Nakagami</td>\n",
       "      <td>LCR Honda IDEMITSU</td>\n",
       "      <td>KTM</td>\n",
       "      <td>Chiba</td>\n",
       "    </tr>\n",
       "    <tr>\n",
       "      <th>10</th>\n",
       "      <td>Cal Crutchlow</td>\n",
       "      <td>LCR Honda CASTROL</td>\n",
       "      <td>Honda</td>\n",
       "      <td>Coventry</td>\n",
       "    </tr>\n",
       "  </tbody>\n",
       "</table>\n",
       "</div>"
      ],
      "text/plain": [
       "                Name                Team   Bike BirthPlace\n",
       "8   Takaaki Nakagami  LCR Honda IDEMITSU    KTM      Chiba\n",
       "10     Cal Crutchlow   LCR Honda CASTROL  Honda   Coventry"
      ]
     },
     "execution_count": 168,
     "metadata": {},
     "output_type": "execute_result"
    }
   ],
   "source": [
    "riders.loc[riders['Team'].str.contains('LCR')]"
   ]
  },
  {
   "cell_type": "markdown",
   "metadata": {},
   "source": [
    "Another error has raised: Honda Team with KTM Bike is not possible. After fixing the Team, I will look for the same bike in Team and Bike"
   ]
  },
  {
   "cell_type": "code",
   "execution_count": 175,
   "metadata": {},
   "outputs": [],
   "source": [
    "riders.at[8,'Team'] = 'LCR Honda'"
   ]
  },
  {
   "cell_type": "code",
   "execution_count": 176,
   "metadata": {},
   "outputs": [],
   "source": [
    "riders.at[10,'Team']= 'LCR Honda'"
   ]
  },
  {
   "cell_type": "code",
   "execution_count": 177,
   "metadata": {},
   "outputs": [
    {
     "data": {
      "text/plain": [
       "Red Bull KTM Factory Racing     3\n",
       "Red Bull KTM Tech 3             2\n",
       "LCR Honda                       2\n",
       "Team SUZUKI ECSTAR              2\n",
       "Reale Avintia Racing            2\n",
       "Monster Energy Yamaha MotoGP    2\n",
       "Aprilia Racing Team Gresini     2\n",
       "Repsol Honda Team               2\n",
       "Ducati Team                     2\n",
       "Petronas Yamaha SRT             2\n",
       "Pramac Racing                   2\n",
       "Name: Team, dtype: int64"
      ]
     },
     "execution_count": 177,
     "metadata": {},
     "output_type": "execute_result"
    }
   ],
   "source": [
    "riders['Team'].value_counts()"
   ]
  },
  {
   "cell_type": "markdown",
   "metadata": {},
   "source": [
    "Checking if there is any other error between the name of the team and the bike. At least we have 1 in row[8]"
   ]
  },
  {
   "cell_type": "code",
   "execution_count": 180,
   "metadata": {},
   "outputs": [
    {
     "data": {
      "text/html": [
       "<div>\n",
       "<style scoped>\n",
       "    .dataframe tbody tr th:only-of-type {\n",
       "        vertical-align: middle;\n",
       "    }\n",
       "\n",
       "    .dataframe tbody tr th {\n",
       "        vertical-align: top;\n",
       "    }\n",
       "\n",
       "    .dataframe thead th {\n",
       "        text-align: right;\n",
       "    }\n",
       "</style>\n",
       "<table border=\"1\" class=\"dataframe\">\n",
       "  <thead>\n",
       "    <tr style=\"text-align: right;\">\n",
       "      <th></th>\n",
       "      <th>Name</th>\n",
       "      <th>Team</th>\n",
       "      <th>Bike</th>\n",
       "      <th>BirthPlace</th>\n",
       "    </tr>\n",
       "  </thead>\n",
       "  <tbody>\n",
       "    <tr>\n",
       "      <th>1</th>\n",
       "      <td>Johann Zarco</td>\n",
       "      <td>Reale Avintia Racing</td>\n",
       "      <td>Ducati</td>\n",
       "      <td>Cannes</td>\n",
       "    </tr>\n",
       "    <tr>\n",
       "      <th>8</th>\n",
       "      <td>Takaaki Nakagami</td>\n",
       "      <td>LCR Honda</td>\n",
       "      <td>KTM</td>\n",
       "      <td>Chiba</td>\n",
       "    </tr>\n",
       "    <tr>\n",
       "      <th>11</th>\n",
       "      <td>Joan Mir</td>\n",
       "      <td>Team SUZUKI ECSTAR</td>\n",
       "      <td>Suzuki</td>\n",
       "      <td>Palma de Mallorca</td>\n",
       "    </tr>\n",
       "    <tr>\n",
       "      <th>13</th>\n",
       "      <td>Alex Rins</td>\n",
       "      <td>Team SUZUKI ECSTAR</td>\n",
       "      <td>Suzuki</td>\n",
       "      <td>Barcelona</td>\n",
       "    </tr>\n",
       "    <tr>\n",
       "      <th>14</th>\n",
       "      <td>Jack Miller</td>\n",
       "      <td>Pramac Racing</td>\n",
       "      <td>Ducati</td>\n",
       "      <td>Townsville</td>\n",
       "    </tr>\n",
       "    <tr>\n",
       "      <th>17</th>\n",
       "      <td>Tito Rabat</td>\n",
       "      <td>Reale Avintia Racing</td>\n",
       "      <td>Ducati</td>\n",
       "      <td>Barcelona</td>\n",
       "    </tr>\n",
       "    <tr>\n",
       "      <th>18</th>\n",
       "      <td>Francesco Bagnaia</td>\n",
       "      <td>Pramac Racing</td>\n",
       "      <td>Ducati</td>\n",
       "      <td>Torino</td>\n",
       "    </tr>\n",
       "  </tbody>\n",
       "</table>\n",
       "</div>"
      ],
      "text/plain": [
       "                 Name                  Team    Bike         BirthPlace\n",
       "1        Johann Zarco  Reale Avintia Racing  Ducati             Cannes\n",
       "8    Takaaki Nakagami             LCR Honda     KTM              Chiba\n",
       "11           Joan Mir    Team SUZUKI ECSTAR  Suzuki  Palma de Mallorca\n",
       "13          Alex Rins    Team SUZUKI ECSTAR  Suzuki          Barcelona\n",
       "14        Jack Miller         Pramac Racing  Ducati         Townsville\n",
       "17         Tito Rabat  Reale Avintia Racing  Ducati          Barcelona\n",
       "18  Francesco Bagnaia         Pramac Racing  Ducati             Torino"
      ]
     },
     "execution_count": 180,
     "metadata": {},
     "output_type": "execute_result"
    }
   ],
   "source": [
    "riders.loc[riders.apply(lambda x: x['Bike'] in x['Team'], axis = 1) == False]"
   ]
  },
  {
   "cell_type": "markdown",
   "metadata": {},
   "source": [
    "From the list above we can see that there are two Ducati Teams without the name of the bike in the name of the team: Reale Avintia Racing and Pramac Racing. But this is not an error.\n",
    "\n",
    "Also, the Team Suzuki appears in the list due to capital letters, but this is not an error.\n",
    "\n",
    "The unique error is the one it was raised before, having a KTM bike in the LCR Honda team, and this needs to be fixed."
   ]
  },
  {
   "cell_type": "code",
   "execution_count": 181,
   "metadata": {},
   "outputs": [],
   "source": [
    "riders.at[8,'Bike'] = 'Honda'"
   ]
  },
  {
   "cell_type": "markdown",
   "metadata": {},
   "source": [
    "## Looking for coordinates with GeoPy\n",
    "\n",
    "For this project I will consider the Birth Place as the riders' home. Although it may not be exactly the same place, is enough to get an approximate idea of the distance travelled during the whole season."
   ]
  },
  {
   "cell_type": "code",
   "execution_count": 183,
   "metadata": {},
   "outputs": [],
   "source": [
    "riders['Lat_Lon'] = riders['BirthPlace'].apply(geolocator.geocode).apply(lambda x: (x.latitude, x.longitude))"
   ]
  },
  {
   "cell_type": "code",
   "execution_count": 184,
   "metadata": {},
   "outputs": [
    {
     "data": {
      "text/html": [
       "<div>\n",
       "<style scoped>\n",
       "    .dataframe tbody tr th:only-of-type {\n",
       "        vertical-align: middle;\n",
       "    }\n",
       "\n",
       "    .dataframe tbody tr th {\n",
       "        vertical-align: top;\n",
       "    }\n",
       "\n",
       "    .dataframe thead th {\n",
       "        text-align: right;\n",
       "    }\n",
       "</style>\n",
       "<table border=\"1\" class=\"dataframe\">\n",
       "  <thead>\n",
       "    <tr style=\"text-align: right;\">\n",
       "      <th></th>\n",
       "      <th>Name</th>\n",
       "      <th>Team</th>\n",
       "      <th>Bike</th>\n",
       "      <th>BirthPlace</th>\n",
       "      <th>Lat_Lon</th>\n",
       "    </tr>\n",
       "  </thead>\n",
       "  <tbody>\n",
       "    <tr>\n",
       "      <th>0</th>\n",
       "      <td>Andrea Dovizioso</td>\n",
       "      <td>Ducati Team</td>\n",
       "      <td>Ducati</td>\n",
       "      <td>Forlimpopoli</td>\n",
       "      <td>(44.1873049, 12.1259056)</td>\n",
       "    </tr>\n",
       "    <tr>\n",
       "      <th>1</th>\n",
       "      <td>Johann Zarco</td>\n",
       "      <td>Reale Avintia Racing</td>\n",
       "      <td>Ducati</td>\n",
       "      <td>Cannes</td>\n",
       "      <td>(43.5515198, 7.0134418)</td>\n",
       "    </tr>\n",
       "    <tr>\n",
       "      <th>2</th>\n",
       "      <td>Danilo Petrucci</td>\n",
       "      <td>Ducati Team</td>\n",
       "      <td>Ducati</td>\n",
       "      <td>Terni</td>\n",
       "      <td>(42.6537515, 12.4398116328367)</td>\n",
       "    </tr>\n",
       "    <tr>\n",
       "      <th>3</th>\n",
       "      <td>Maverick Viñales</td>\n",
       "      <td>Monster Energy Yamaha MotoGP</td>\n",
       "      <td>Yamaha</td>\n",
       "      <td>Figueres</td>\n",
       "      <td>(42.2666314, 2.9638434)</td>\n",
       "    </tr>\n",
       "    <tr>\n",
       "      <th>4</th>\n",
       "      <td>Fabio Quartararo</td>\n",
       "      <td>Petronas Yamaha SRT</td>\n",
       "      <td>Yamaha</td>\n",
       "      <td>Nice</td>\n",
       "      <td>(43.7009358, 7.2683912)</td>\n",
       "    </tr>\n",
       "  </tbody>\n",
       "</table>\n",
       "</div>"
      ],
      "text/plain": [
       "               Name                          Team    Bike     BirthPlace  \\\n",
       "0  Andrea Dovizioso                   Ducati Team  Ducati  Forlimpopoli    \n",
       "1      Johann Zarco          Reale Avintia Racing  Ducati         Cannes   \n",
       "2   Danilo Petrucci                   Ducati Team  Ducati          Terni   \n",
       "3  Maverick Viñales  Monster Energy Yamaha MotoGP  Yamaha       Figueres   \n",
       "4  Fabio Quartararo           Petronas Yamaha SRT  Yamaha           Nice   \n",
       "\n",
       "                          Lat_Lon  \n",
       "0        (44.1873049, 12.1259056)  \n",
       "1         (43.5515198, 7.0134418)  \n",
       "2  (42.6537515, 12.4398116328367)  \n",
       "3         (42.2666314, 2.9638434)  \n",
       "4         (43.7009358, 7.2683912)  "
      ]
     },
     "execution_count": 184,
     "metadata": {},
     "output_type": "execute_result"
    }
   ],
   "source": [
    "riders.head()"
   ]
  },
  {
   "cell_type": "markdown",
   "metadata": {},
   "source": [
    "## Riders dataframe cleaned"
   ]
  },
  {
   "cell_type": "code",
   "execution_count": 185,
   "metadata": {},
   "outputs": [],
   "source": [
    "riders.to_csv('../data/riders_cleaned.csv')"
   ]
  },
  {
   "cell_type": "code",
   "execution_count": null,
   "metadata": {},
   "outputs": [],
   "source": []
  }
 ],
 "metadata": {
  "kernelspec": {
   "display_name": "Python 3",
   "language": "python",
   "name": "python3"
  },
  "language_info": {
   "codemirror_mode": {
    "name": "ipython",
    "version": 3
   },
   "file_extension": ".py",
   "mimetype": "text/x-python",
   "name": "python",
   "nbconvert_exporter": "python",
   "pygments_lexer": "ipython3",
   "version": "3.7.4"
  }
 },
 "nbformat": 4,
 "nbformat_minor": 2
}
